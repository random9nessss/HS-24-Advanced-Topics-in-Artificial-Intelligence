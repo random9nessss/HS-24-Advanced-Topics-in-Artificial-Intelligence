{
 "cells": [
  {
   "cell_type": "code",
   "id": "initial_id",
   "metadata": {
    "collapsed": true,
    "ExecuteTime": {
     "end_time": "2024-10-16T18:42:36.997552Z",
     "start_time": "2024-10-16T18:42:36.975849Z"
    }
   },
   "source": [
    "import os\n",
    "import re\n",
    "\n",
    "import pandas as pd\n",
    "import numpy as np\n",
    "from rapidfuzz import process, fuzz\n",
    "import torch\n",
    "from transformers import AutoTokenizer, AutoModelForTokenClassification, pipeline\n",
    "from transformers import logging as transformers_logging\n",
    "from tabulate import tabulate\n",
    "transformers_logging.set_verbosity_error()"
   ],
   "outputs": [],
   "execution_count": 93
  },
  {
   "metadata": {
    "ExecuteTime": {
     "end_time": "2024-10-16T17:59:52.804417Z",
     "start_time": "2024-10-16T17:59:52.798758Z"
    }
   },
   "cell_type": "code",
   "source": [
    "import nltk\n",
    "from nltk.corpus import stopwords\n",
    "\n",
    "nltk.download('stopwords')\n",
    "stop_words_to_keep = [\"what\", \"when\", \"where\", \"which\", \"while\", \"who\", \"whom\", \"why\", \"with\", \"how\", \"before\", \"after\",\"same\"]\n",
    "stop_words = set([s for s in stopwords.words('english') if s not in stop_words_to_keep])"
   ],
   "id": "e8cf61733b9e8e01",
   "outputs": [
    {
     "name": "stderr",
     "output_type": "stream",
     "text": [
      "[nltk_data] Downloading package stopwords to\n",
      "[nltk_data]     C:\\Users\\sandr\\AppData\\Roaming\\nltk_data...\n",
      "[nltk_data]   Package stopwords is already up-to-date!\n"
     ]
    }
   ],
   "execution_count": 34
  },
  {
   "metadata": {
    "ExecuteTime": {
     "end_time": "2024-10-16T17:59:53.170772Z",
     "start_time": "2024-10-16T17:59:52.828289Z"
    }
   },
   "cell_type": "code",
   "source": [
    "class NERParser:\n",
    "    def __init__(self, model_name: str = \"dslim/bert-base-NER\", lowercase: bool = False):\n",
    "        \"\"\"\n",
    "        Initialize the NER parser with a model and optionally configure the lowercase preprocessing.\n",
    "        \"\"\"\n",
    "        self.model_name = model_name\n",
    "        self.lowercase = lowercase\n",
    "        self.device = self.get_device()\n",
    "        \n",
    "        # Load the tokenizer and model\n",
    "        self.tokenizer = AutoTokenizer.from_pretrained(self.model_name, do_lower_case=self.lowercase)\n",
    "        self.model = AutoModelForTokenClassification.from_pretrained(self.model_name)\n",
    "        \n",
    "        # Set up the NER pipeline\n",
    "        self.nlp_pipeline = pipeline(\"ner\", \n",
    "                                     model=self.model, \n",
    "                                     tokenizer=self.tokenizer, \n",
    "                                     device=self.device, \n",
    "                                     aggregation_strategy=\"simple\")\n",
    "\n",
    "    def get_device(self):\n",
    "        \"\"\"\n",
    "        Determines whether to use MPS, CUDA, or CPU depending on the available hardware.\n",
    "        \"\"\"\n",
    "        if torch.backends.mps.is_available():\n",
    "            print(\"MPS device found, using MPS backend.\\n\")\n",
    "            return torch.device(\"mps\")\n",
    "        elif torch.cuda.is_available():\n",
    "            print(f\"CUDA device found, using CUDA backend. Device: {torch.cuda.get_device_name(0)}\\n\")\n",
    "            return torch.device(\"cuda\")\n",
    "        else:\n",
    "            print(\"Neither MPS nor CUDA found, using CPU.\\n\")\n",
    "            return torch.device(\"cpu\")\n",
    "\n",
    "    \n",
    "    def parse_ner_results(self, ner_results: list):\n",
    "        \"\"\"\n",
    "        Parse the NER results and extract entities related to 'PER' (persons) and 'MISC' (potential movie titles).\n",
    "        \"\"\"\n",
    "        per_entities, misc_entities = [], []\n",
    "        \n",
    "        for entity in ner_results:\n",
    "            # Extraction of all Persons\n",
    "            if entity['entity_group'] == 'PER':\n",
    "                per_entities.append(entity['word'])\n",
    "            # Extraction of all Misc that could indicate movies\n",
    "            elif entity['entity_group'] == 'MISC':\n",
    "                misc_entities.append(entity['word'])\n",
    "        \n",
    "        return per_entities, misc_entities\n",
    "\n",
    "    \n",
    "    def process_query(self, query: str):\n",
    "        \"\"\"\n",
    "        Processes a text query, runs NER, and returns the extracted actors and movie names.\n",
    "        \"\"\"\n",
    "        # Optionally lowercase the input if configured\n",
    "        if self.lowercase:\n",
    "            query = query.lower()\n",
    "        \n",
    "        # Run the NER pipeline\n",
    "        ner_results = self.nlp_pipeline(query)\n",
    "\n",
    "        # Parse the results to extract actors and movies\n",
    "        per_entities, misc_entities = self.parse_ner_results(ner_results)\n",
    "        \n",
    "        return per_entities, misc_entities\n",
    "\n",
    "ner_parser = NERParser(lowercase=False)"
   ],
   "id": "a12d297d1a95c1b4",
   "outputs": [
    {
     "name": "stdout",
     "output_type": "stream",
     "text": [
      "Neither MPS nor CUDA found, using CPU.\n",
      "\n"
     ]
    }
   ],
   "execution_count": 35
  },
  {
   "metadata": {
    "ExecuteTime": {
     "end_time": "2024-10-16T18:42:42.896246Z",
     "start_time": "2024-10-16T18:42:42.888614Z"
    }
   },
   "cell_type": "code",
   "source": [
    "class DataBase:\n",
    "    \"\"\"Handles the extraction of context data for given people and movies from a database, with fuzzy matching for names.\"\"\"\n",
    "\n",
    "    def __init__(self):\n",
    "        self.db = pd.read_pickle(os.path.join(os.getcwd(), r\"exports/extended_graph_triples.pkl\"))\n",
    "        self.reverse_index = pd.read_pickle(os.path.join(os.getcwd(), r\"exports/reverse_index.pkl\"))\n",
    "        \n",
    "        # otherwise exact matching will fail\n",
    "        self.db['subject_id'] = self.db['subject_id'].astype(str).str.strip()\n",
    "\n",
    "\n",
    "    def get_context(self, people: list, movies: list):\n",
    "        \"\"\"Fetch context data for the given people and movies from the database.\n",
    "        First tries matching with the entire people or movie string. If that fails,\n",
    "        it processes each person or movie individually.\n",
    "\n",
    "        Args:\n",
    "            people (list): List of people names to search.\n",
    "            movies (list): List of movie titles to search.\n",
    "\n",
    "        Returns:\n",
    "            pd.DataFrame: DataFrame containing context for the given people and movies.\n",
    "        \"\"\"\n",
    "        combined_people = \" \".join(people) if people else \"\"\n",
    "        combined_movies = \" \".join(movies) if movies else \"\"\n",
    "        \n",
    "        context_person = pd.DataFrame()\n",
    "        context_movie = pd.DataFrame()\n",
    "\n",
    "        if combined_people:\n",
    "            context_person = self._fetch_relevant(combined_people)\n",
    "        \n",
    "        if combined_movies:\n",
    "            context_movie = self._fetch_relevant(combined_movies)\n",
    "        \n",
    "        if context_person.empty and people:\n",
    "            person_results = [self._fetch_relevant(p) for p in people]\n",
    "            if any(not res.empty for res in person_results):\n",
    "                context_person = pd.concat(person_results, axis=1)\n",
    "\n",
    "        if context_movie.empty and movies:\n",
    "            movie_results = [self._fetch_relevant(m) for m in movies]\n",
    "            if any(not res.empty for res in movie_results):\n",
    "                context_movie = pd.concat(movie_results, axis=1)\n",
    "\n",
    "        if not context_person.empty and not context_movie.empty:\n",
    "            return pd.concat([context_person, context_movie], axis=1)\n",
    "        \n",
    "        elif not context_person.empty:\n",
    "            return context_person\n",
    "        \n",
    "        elif not context_movie.empty:\n",
    "            return context_movie\n",
    "        \n",
    "        else:\n",
    "            return pd.DataFrame()\n",
    "\n",
    "    def _fetch_relevant(self, name: str):\n",
    "        \"\"\"Fetch relevant information for a given name (either combined or individual) from the database.\n",
    "        Uses fuzzy matching if no exact match is found.\n",
    "\n",
    "        Args:\n",
    "            name (str): The name of the person or movie to search for.\n",
    "\n",
    "        Returns:\n",
    "            pd.DataFrame: Relevant data for the name, or an empty DataFrame if no match is found.\n",
    "        \"\"\"\n",
    "\n",
    "        matches = process.extractOne(name, self.reverse_index.subject_label, scorer=fuzz.ratio)\n",
    "        \n",
    "        if not matches or not matches[1] > 90:\n",
    "            return pd.DataFrame()\n",
    "        \n",
    "        match_label = matches[0]\n",
    "        print(f\"Matched '{name}' to '{match_label}' with a score of {matches[1]}.\")\n",
    "        \n",
    "        lst_of_ids = self.reverse_index.get(self.reverse_index.subject_label == match_label, []).subject_id.to_list()\n",
    "        \n",
    "        if len(lst_of_ids) == 0:\n",
    "            return pd.DataFrame()\n",
    "        \n",
    "        relevant = self.db[self.db.subject_id.isin(lst_of_ids)].dropna(axis=1)\n",
    "\n",
    "        if relevant.empty:\n",
    "            print(f\"No context data found for {match_label}. Performing partial match search.\")\n",
    "            relevant = self.db[self.db.subject_label.str.lower().str.startswith(name.lower())].dropna(axis=1)\n",
    "            \n",
    "        if relevant.empty:\n",
    "            print(f\"No context data found for {match_label}, even with partial match search.\")\n",
    "            return pd.DataFrame()\n",
    "        \n",
    "        pivot_df = relevant.pivot_table(\n",
    "            index='subject_id',\n",
    "            columns='predicate_label',\n",
    "            values='object_label',\n",
    "            aggfunc=lambda x: ' | '.join(x.astype(str))\n",
    "        )\n",
    "    \n",
    "        pivot_df.reset_index(inplace=True)\n",
    "        \n",
    "        # print(tabulate(pivot_df, headers='keys', tablefmt='psql'))\n",
    "    \n",
    "        return pivot_df"
   ],
   "id": "9fced0f3a1cbf791",
   "outputs": [],
   "execution_count": 94
  },
  {
   "metadata": {
    "ExecuteTime": {
     "end_time": "2024-10-16T17:59:53.210029Z",
     "start_time": "2024-10-16T17:59:53.205931Z"
    }
   },
   "cell_type": "code",
   "source": [
    "class QueryEmbedder:\n",
    "    \n",
    "    def __init__(self):\n",
    "        self._glove_embeddings = self._load_glove_embeddings(\"exports/glove.6B/glove.6B.300d.txt\")\n",
    "        \n",
    "    def _load_glove_embeddings(self, file_path):\n",
    "        embeddings = {}\n",
    "        with open(file_path, 'r', encoding='utf-8') as f:\n",
    "            for line in f:\n",
    "                values = line.split()\n",
    "                word = values[0]\n",
    "                vector = np.asarray(values[1:], dtype='float32')\n",
    "                embeddings[word] = vector\n",
    "        return embeddings\n",
    "    \n",
    "    def embed_phrase(self, phrase):\n",
    "        words = phrase.split()\n",
    "        word_vectors = [self._glove_embeddings[word.lower()] for word in words if word.lower() in self._glove_embeddings]\n",
    "        \n",
    "        if len(word_vectors) == 0:\n",
    "            return np.zeros(300)\n",
    "        \n",
    "        return np.mean(word_vectors, axis=0)\n",
    "    "
   ],
   "id": "e8fc51da1a5783aa",
   "outputs": [],
   "execution_count": 37
  },
  {
   "metadata": {
    "ExecuteTime": {
     "end_time": "2024-10-16T17:59:53.231847Z",
     "start_time": "2024-10-16T17:59:53.226819Z"
    }
   },
   "cell_type": "code",
   "source": [
    "class LLM():\n",
    "    \n",
    "    def __init__(self):\n",
    "        self.qa_model = pipeline(\"question-answering\", model=\"distilbert-base-cased-distilled-squad\", top_k=1)\n",
    "    \n",
    "    def _query(self, query, context_df):\n",
    "        \n",
    "        context = \"\"\n",
    "        for index, row in context_df.iterrows():\n",
    "            row_context = \" \".join([f\"{col}: {row[col]}\" for col in context_df[top_columns].columns])\n",
    "            context += row_context + \" \"\n",
    "        \n",
    "        output = self.qa_model(question=query, context=context)\n",
    "        \n",
    "        answer_str = str()\n",
    "        if isinstance(output, list):\n",
    "            answer_str = \", \".join([result['answer'] for result in output])\n",
    "            \n",
    "        elif isinstance(output, dict):\n",
    "            answer_str = output['answer']\n",
    "        \n",
    "        if not answer_str:\n",
    "            answer_str = \"No answer found.\"\n",
    "        \n",
    "        return answer_str"
   ],
   "id": "a3d9d1994694b236",
   "outputs": [],
   "execution_count": 38
  },
  {
   "metadata": {
    "ExecuteTime": {
     "end_time": "2024-10-16T17:59:53.246214Z",
     "start_time": "2024-10-16T17:59:53.240693Z"
    }
   },
   "cell_type": "code",
   "source": [
    "def filter_query(query, person, movies):\n",
    "        \n",
    "    person_list = [word.lower() for p in person for word in p.split(\" \")] if len(person) else []\n",
    "    movie_list = [word.lower() for m in movies for word in m.split(\" \")] if len(movies) else []\n",
    "        \n",
    "    if not len(query):\n",
    "        return []\n",
    "    \n",
    "    relevant = []\n",
    "    for word in query.replace(\". \", \" \").lower().split(\" \"):\n",
    "        cleaned_word = re.sub(r'[^A-Za-z]', '', word)\n",
    "        if cleaned_word in stop_words or cleaned_word in person_list or cleaned_word in movie_list or cleaned_word == \"\":\n",
    "            continue\n",
    "        \n",
    "        relevant.append(cleaned_word)\n",
    "        \n",
    "    return relevant"
   ],
   "id": "c57f885f18fa1460",
   "outputs": [],
   "execution_count": 39
  },
  {
   "metadata": {
    "ExecuteTime": {
     "end_time": "2024-10-16T17:59:53.260347Z",
     "start_time": "2024-10-16T17:59:53.255640Z"
    }
   },
   "cell_type": "code",
   "source": [
    "def cosine_sim(vec1, vec2):\n",
    "    norm_vec1 = np.linalg.norm(vec1)\n",
    "    norm_vec2 = np.linalg.norm(vec2)\n",
    "    \n",
    "    if norm_vec1 == 0 or norm_vec2 == 0:\n",
    "        return 0.0 \n",
    "    \n",
    "    return np.dot(vec1, vec2) / (norm_vec1 * norm_vec2)\n",
    "\n",
    "def find_closest_columns(query_embeddings, column_embeddings, top_n=5):\n",
    "    column_similarities = {}\n",
    "\n",
    "    for col, col_vec in column_embeddings.items():\n",
    "        similarities = [cosine_sim(col_vec, q_vec) for q_vec in query_embeddings if np.linalg.norm(q_vec) > 0]\n",
    "        column_similarities[col] = np.mean(similarities) if similarities else -1\n",
    "\n",
    "    sorted_columns = sorted(column_similarities.items(), key=lambda item: item[1], reverse=True)\n",
    "    \n",
    "    return [col for col, sim in sorted_columns[:top_n]]"
   ],
   "id": "5ca3699869bc37b3",
   "outputs": [],
   "execution_count": 40
  },
  {
   "metadata": {
    "ExecuteTime": {
     "end_time": "2024-10-16T18:43:16.877414Z",
     "start_time": "2024-10-16T18:43:01.881045Z"
    }
   },
   "cell_type": "code",
   "source": [
    "# Main\n",
    "db = DataBase()\n",
    "\n",
    "qe = QueryEmbedder()\n",
    "\n",
    "llm = LLM()"
   ],
   "id": "2bc533f3425015fd",
   "outputs": [],
   "execution_count": 96
  },
  {
   "metadata": {
    "ExecuteTime": {
     "end_time": "2024-10-16T18:43:16.993508Z",
     "start_time": "2024-10-16T18:43:16.891381Z"
    }
   },
   "cell_type": "code",
   "source": [
    "query = \"Who is the screenwriter of The Masked Gang: Cyprus?\"\n",
    "person, movies = ner_parser.process_query(query)\n",
    "\n",
    "context = db.get_context(person,movies)\n",
    "column_embeddings = {col: qe.embed_phrase(col) for col in context.columns}\n",
    "\n",
    "filtered_query = filter_query(query, person, movies)\n",
    "query_embeddings = [qe.embed_phrase(word) for word in filtered_query]\n"
   ],
   "id": "197dfcac81c080db",
   "outputs": [
    {
     "name": "stdout",
     "output_type": "stream",
     "text": [
      "Matched 'The Masked Gang' to 'The Masked Gang' with a score of 100.0.\n",
      "+----+-----------------------------------------+-----------+----------------------------------------------------------------------------+---------+---------------------+-------------+------------------+--------------------+-------------+---------------+----------------------+--------------------------+-----------------+----------------------------------------+----------------------+--------------------+----------------+\n",
      "|    | subject_id                              | IMDb ID   | cast member                                                                | color   | country of origin   | director    | distributed by   | filming location   | genre       | instance of   | narrative location   | node description         | node label      | original language of film or TV show   | production company   | publication date   | screenwriter   |\n",
      "|----+-----------------------------------------+-----------+----------------------------------------------------------------------------+---------+---------------------+-------------+------------------+--------------------+-------------+---------------+----------------------+--------------------------+-----------------+----------------------------------------+----------------------+--------------------+----------------|\n",
      "|  0 | http://www.wikidata.org/entity/Q1219034 | tt0486708 | Şafak Sezer, Melih Ekener, Sümer Tilmaç, Peker Açıkalın, Cengiz Küçükayvaz | color   | Turkey              | Murat Aslan | Özen Film        | Istanbul           | comedy film | film          | Turkey               | 2005 film by Murat Aslan | The Masked Gang | Turkish                                | Arzu Film            | 2005-01-01         | Murat Aslan    |\n",
      "+----+-----------------------------------------+-----------+----------------------------------------------------------------------------+---------+---------------------+-------------+------------------+--------------------+-------------+---------------+----------------------+--------------------------+-----------------+----------------------------------------+----------------------+--------------------+----------------+\n"
     ]
    }
   ],
   "execution_count": 97
  },
  {
   "metadata": {
    "ExecuteTime": {
     "end_time": "2024-10-16T18:06:10.328703Z",
     "start_time": "2024-10-16T18:06:10.322407Z"
    }
   },
   "cell_type": "code",
   "source": [
    "top_columns = find_closest_columns(query_embeddings, column_embeddings, top_n=10)\n",
    "filtered_context_df = context[top_columns]"
   ],
   "id": "95b83760923e88a5",
   "outputs": [],
   "execution_count": 52
  },
  {
   "metadata": {
    "ExecuteTime": {
     "end_time": "2024-10-16T18:01:36.197059Z",
     "start_time": "2024-10-16T18:01:36.041136Z"
    }
   },
   "cell_type": "code",
   "source": "llm._query(query, filtered_context_df)",
   "id": "151066ff86d1e729",
   "outputs": [
    {
     "data": {
      "text/plain": [
       "'Murat Aslan'"
      ]
     },
     "execution_count": 47,
     "metadata": {},
     "output_type": "execute_result"
    }
   ],
   "execution_count": 47
  }
 ],
 "metadata": {
  "kernelspec": {
   "display_name": "Python 3",
   "language": "python",
   "name": "python3"
  },
  "language_info": {
   "codemirror_mode": {
    "name": "ipython",
    "version": 2
   },
   "file_extension": ".py",
   "mimetype": "text/x-python",
   "name": "python",
   "nbconvert_exporter": "python",
   "pygments_lexer": "ipython2",
   "version": "2.7.6"
  }
 },
 "nbformat": 4,
 "nbformat_minor": 5
}
