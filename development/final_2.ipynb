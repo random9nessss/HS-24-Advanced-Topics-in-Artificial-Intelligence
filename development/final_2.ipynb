{
 "cells": [
  {
   "cell_type": "code",
   "id": "initial_id",
   "metadata": {
    "collapsed": true,
    "ExecuteTime": {
     "end_time": "2024-10-19T07:05:56.947592Z",
     "start_time": "2024-10-19T07:05:56.942141Z"
    }
   },
   "source": [
    "import os\n",
    "import re\n",
    "\n",
    "import unicodedata\n",
    "import time\n",
    "import pandas as pd\n",
    "import numpy as np\n",
    "from rapidfuzz import process, fuzz\n",
    "import torch\n",
    "from transformers import AutoTokenizer, AutoModelForTokenClassification, pipeline, AutoModel\n",
    "from transformers import logging as transformers_logging\n",
    "from sentence_transformers import SentenceTransformer\n",
    "from tabulate import tabulate\n",
    "transformers_logging.set_verbosity_error()\n",
    "import json\n",
    "\n",
    "# Silencing TqdmWarning\n",
    "import warnings\n",
    "warnings.filterwarnings('ignore')"
   ],
   "outputs": [],
   "execution_count": 145
  },
  {
   "metadata": {
    "ExecuteTime": {
     "end_time": "2024-10-19T07:05:57.957020Z",
     "start_time": "2024-10-19T07:05:57.826710Z"
    }
   },
   "cell_type": "code",
   "source": [
    "import nltk\n",
    "from nltk.corpus import stopwords\n",
    "\n",
    "nltk.download('stopwords')\n",
    "stop_words_to_keep = [\"what\", \"when\", \"where\", \"which\", \"while\", \"who\", \"whom\", \"why\", \"with\", \"how\", \"before\", \"after\",\"same\"]\n",
    "stop_words = set([s for s in stopwords.words('english') if s not in stop_words_to_keep])"
   ],
   "id": "a2ac0c91ab7407d4",
   "outputs": [
    {
     "name": "stderr",
     "output_type": "stream",
     "text": [
      "[nltk_data] Downloading package stopwords to\n",
      "[nltk_data]     /Users/kevinbrundler/nltk_data...\n",
      "[nltk_data]   Package stopwords is already up-to-date!\n"
     ]
    }
   ],
   "execution_count": 146
  },
  {
   "metadata": {
    "ExecuteTime": {
     "end_time": "2024-10-19T07:05:59.302984Z",
     "start_time": "2024-10-19T07:05:58.835708Z"
    }
   },
   "cell_type": "code",
   "source": [
    "class NERParser:\n",
    "    def __init__(self, model_name: str = \"dslim/bert-base-NER\", lowercase: bool = False):\n",
    "        \"\"\"\n",
    "        Initialize the NER parser with a model and optionally configure the lowercase preprocessing.\n",
    "        \"\"\"\n",
    "        self.model_name = model_name\n",
    "        self.lowercase = lowercase\n",
    "        self.device = self.get_device()\n",
    "        \n",
    "        # Load the tokenizer and model\n",
    "        self.tokenizer = AutoTokenizer.from_pretrained(self.model_name, do_lower_case=self.lowercase)\n",
    "        self.model = AutoModelForTokenClassification.from_pretrained(self.model_name)\n",
    "        \n",
    "        # Set up the NER pipeline\n",
    "        self.nlp_pipeline = pipeline(\n",
    "            \"ner\", \n",
    "            model=self.model, \n",
    "            tokenizer=self.tokenizer, \n",
    "            device=self.device, \n",
    "            aggregation_strategy=\"simple\"\n",
    "        )\n",
    "\n",
    "    def get_device(self):\n",
    "        \"\"\"\n",
    "        Determines whether to use MPS, CUDA, or CPU depending on the available hardware.\n",
    "        \"\"\"\n",
    "        if torch.backends.mps.is_available():\n",
    "            print(\"MPS device found, using MPS backend.\\n\")\n",
    "            return torch.device(\"mps\")\n",
    "        elif torch.cuda.is_available():\n",
    "            print(f\"CUDA device found, using CUDA backend. Device: {torch.cuda.get_device_name(0)}\\n\")\n",
    "            return torch.device(\"cuda\")\n",
    "        else:\n",
    "            print(\"Neither MPS nor CUDA found, using CPU.\\n\")\n",
    "            return torch.device(\"cpu\")\n",
    "\n",
    "    \n",
    "    def parse_ner_results(self, ner_results: list):\n",
    "        \"\"\"\n",
    "        Parse the NER results and extract entities related to 'PER' (persons) and 'MISC' (potential movie titles).\n",
    "        \"\"\"\n",
    "        per_entities, misc_entities = [], []\n",
    "        \n",
    "        for entity in ner_results:\n",
    "            # Extraction of all Persons\n",
    "            if entity['entity_group'] == 'PER':\n",
    "                per_entities.append(entity['word'])\n",
    "            # Extraction of all Misc that could indicate movies\n",
    "            elif entity['entity_group'] == 'MISC':\n",
    "                misc_entities.append(entity['word'])\n",
    "        \n",
    "        return per_entities, misc_entities\n",
    "\n",
    "    \n",
    "    def process_query(self, query: str):\n",
    "        \"\"\"\n",
    "        Processes a text query, runs NER, and returns the extracted actors and movie names.\n",
    "        \"\"\"\n",
    "        # Optionally lowercase the input if configured\n",
    "        if self.lowercase:\n",
    "            query = query.lower()\n",
    "        \n",
    "        # Run the NER pipeline\n",
    "        ner_results = self.nlp_pipeline(query)\n",
    "\n",
    "        # Parse the results to extract actors and movies\n",
    "        per_entities, misc_entities = self.parse_ner_results(ner_results)\n",
    "        \n",
    "        return per_entities, misc_entities\n",
    "\n",
    "ner_parser = NERParser(lowercase=False)"
   ],
   "id": "d49cf7e85debd577",
   "outputs": [
    {
     "name": "stdout",
     "output_type": "stream",
     "text": [
      "MPS device found, using MPS backend.\n",
      "\n"
     ]
    }
   ],
   "execution_count": 147
  },
  {
   "metadata": {
    "ExecuteTime": {
     "end_time": "2024-10-19T07:05:59.576741Z",
     "start_time": "2024-10-19T07:05:59.570580Z"
    }
   },
   "cell_type": "code",
   "source": [
    "class DataBase:\n",
    "    \"\"\"Handles the extraction of context data for given people and movies from a database, with fuzzy matching for names.\"\"\"\n",
    "\n",
    "    def __init__(self):\n",
    "        self.db = pd.read_pickle(os.path.join(os.getcwd(), r\"exports/extended_graph_triples.pkl\"))\n",
    "        \n",
    "        with open(r\"exports/entity_db.json\", encoding=\"utf-8\") as f: \n",
    "            self.entities = json.load(f)\n",
    "            self.entity_list = list(subject.lower() for subject, types in self.entities.values())\n",
    "        \n",
    "        # otherwise exact matching will fail\n",
    "        self.db['subject_id'] = self.db['subject_id'].astype(str).str.strip()\n",
    "\n",
    "    @staticmethod\n",
    "    def normalize_string(s):\n",
    "        \"\"\"Cleans the input entity to a uniform naming convention, by removing non ascii characters, encoding it to utf, setting it to lowercase, and removing redundant spaces\"\"\"\n",
    "        s = s.lower()\n",
    "        s = unicodedata.normalize('NFKD', s)\n",
    "        s = s.encode('ascii', 'ignore').decode('utf-8')\n",
    "        s = re.sub(r'[^\\w\\s]', '', s)\n",
    "        s = ' '.join(s.split())\n",
    "        return s\n",
    "    \n",
    "    def fetch(self, entity_lst, search_column):\n",
    "        \n",
    "        relevant = self.db[self.db[search_column].isin(entity_lst)].dropna(axis=1)\n",
    "           \n",
    "        if relevant.empty:\n",
    "            print(f\"No context data found for given information.\")\n",
    "            return pd.DataFrame()          \n",
    "        \n",
    "        pivot_df = relevant.pivot_table(\n",
    "            index='subject_id',\n",
    "            columns='predicate_label',\n",
    "            values='object_label',\n",
    "            aggfunc=lambda x: ' | '.join(x.astype(str))\n",
    "        )\n",
    "    \n",
    "        pivot_df.reset_index(inplace=True)\n",
    "    \n",
    "        return pivot_df"
   ],
   "id": "d17e5503d50ffd8c",
   "outputs": [],
   "execution_count": 148
  },
  {
   "metadata": {
    "ExecuteTime": {
     "end_time": "2024-10-19T07:06:00.380097Z",
     "start_time": "2024-10-19T07:06:00.375119Z"
    }
   },
   "cell_type": "code",
   "source": [
    "class QueryEmbedder:\n",
    "    \n",
    "    def __init__(self):\n",
    "        self._glove_embeddings = self._load_glove_embeddings(\"exports/glove.6B/glove.6B.300d.txt\")\n",
    "        \n",
    "    def _load_glove_embeddings(self, file_path):\n",
    "        embeddings = {}\n",
    "        with open(file_path, 'r', encoding='utf-8') as f:\n",
    "            for line in f:\n",
    "                values = line.split()\n",
    "                word = values[0]\n",
    "                vector = np.asarray(values[1:], dtype='float32')\n",
    "                embeddings[word] = vector\n",
    "        return embeddings\n",
    "    \n",
    "    def embed_phrase(self, phrase):\n",
    "        words = phrase.split()\n",
    "        word_vectors = [self._glove_embeddings[word.lower()] for word in words if word.lower() in self._glove_embeddings]\n",
    "        \n",
    "        if len(word_vectors) == 0:\n",
    "            return np.zeros(300)\n",
    "        \n",
    "        return np.mean(word_vectors, axis=0)\n",
    "    "
   ],
   "id": "ad421631fb9f85b0",
   "outputs": [],
   "execution_count": 149
  },
  {
   "metadata": {
    "ExecuteTime": {
     "end_time": "2024-10-19T07:06:00.954027Z",
     "start_time": "2024-10-19T07:06:00.950310Z"
    }
   },
   "cell_type": "code",
   "source": [
    "class QueryEmbedderContextualized:\n",
    "    def __init__(self, model_name='sentence-transformers/all-MiniLM-L6-v2', device=None):\n",
    "        \"\"\"\n",
    "        Initializes the QueryEmbedder with a SentenceTransformer model for sentence embeddings.\n",
    "        \"\"\"\n",
    "        self.device = device if device else ('cuda' if torch.cuda.is_available() else 'cpu')\n",
    "        self.model = SentenceTransformer(model_name, device=self.device)\n",
    "        self.cache = {}\n",
    "    \n",
    "    def embed_phrase(self, phrases):\n",
    "        \"\"\"\n",
    "        Generates embeddings for given phrases using SentenceTransformer.\n",
    "\n",
    "        Args:\n",
    "            phrases (str or List[str]): The input phrase(s) to embed.\n",
    "\n",
    "        Returns:\n",
    "            np.ndarray: The embedding vector(s) for the phrase(s).\n",
    "        \"\"\"\n",
    "        # Ensure phrases is a list\n",
    "        if isinstance(phrases, str):\n",
    "            phrases = [phrases]\n",
    "        elif not isinstance(phrases, list):\n",
    "            raise TypeError(\"Input must be a string or a list of strings.\")\n",
    "\n",
    "        embeddings = []\n",
    "        phrases_to_compute = []\n",
    "        indices_to_compute = []\n",
    "\n",
    "        for idx, phrase in enumerate(phrases):\n",
    "            if phrase in self.cache:\n",
    "                embeddings.append(self.cache[phrase])\n",
    "            else:\n",
    "                embeddings.append(None)\n",
    "                phrases_to_compute.append(phrase)\n",
    "                indices_to_compute.append(idx)\n",
    "        \n",
    "        if phrases_to_compute:\n",
    "            new_embeddings = self.model.encode(\n",
    "                phrases_to_compute, \n",
    "                show_progress_bar=False, \n",
    "                convert_to_numpy=True, \n",
    "                normalize_embeddings=True\n",
    "            )\n",
    "            for idx, emb in zip(indices_to_compute, new_embeddings):\n",
    "                embeddings[idx] = emb\n",
    "                self.cache[phrases[idx]] = emb\n",
    "        \n",
    "        # Return embeddings\n",
    "        if len(embeddings) == 1:\n",
    "            return embeddings[0]\n",
    "        else:\n",
    "            return np.array(embeddings)"
   ],
   "id": "6c97857e987a912f",
   "outputs": [],
   "execution_count": 150
  },
  {
   "metadata": {
    "ExecuteTime": {
     "end_time": "2024-10-19T07:06:01.534823Z",
     "start_time": "2024-10-19T07:06:01.531517Z"
    }
   },
   "cell_type": "code",
   "source": [
    "class LLM():\n",
    "    \n",
    "    def __init__(self):\n",
    "        self.qa_model = pipeline(\"question-answering\", model=\"distilbert-base-cased-distilled-squad\", top_k=1)\n",
    "    \n",
    "    def query(self, query, context_df, top_columns):\n",
    "        \n",
    "        context = \"\"\n",
    "        for index, row in context_df.iterrows():\n",
    "            node_label = row.get(\"node label\", \"Unknown\")\n",
    "            row_context = f\"This text is about \\\"{node_label}\\\":\\n\"\n",
    "            row_context += \"\\n\".join([f\"{col}: {row[col]}\" for col in context_df[top_columns].columns])\n",
    "            row_context += \"\\n\\n\"\n",
    "            context += row_context\n",
    "        \n",
    "        output = self.qa_model(question=query, context=context)\n",
    "        \n",
    "        answer_str = str()\n",
    "        if isinstance(output, list) and output:\n",
    "            answer_str = \", \".join([result['answer'] for result in output])\n",
    "            \n",
    "        elif isinstance(output, dict):\n",
    "            answer_str = output['answer']\n",
    "        \n",
    "        if not answer_str:\n",
    "            answer_str = \"No answer found.\"\n",
    "        \n",
    "        return answer_str"
   ],
   "id": "e0ce5b9bfb93651f",
   "outputs": [],
   "execution_count": 151
  },
  {
   "metadata": {
    "ExecuteTime": {
     "end_time": "2024-10-19T07:06:02.126784Z",
     "start_time": "2024-10-19T07:06:02.123622Z"
    }
   },
   "cell_type": "code",
   "source": [
    "def cosine_sim(vec1, vec2):\n",
    "    norm_vec1 = np.linalg.norm(vec1)\n",
    "    norm_vec2 = np.linalg.norm(vec2)\n",
    "    \n",
    "    if norm_vec1 == 0 or norm_vec2 == 0:\n",
    "        return 0.0 \n",
    "    \n",
    "    return np.dot(vec1, vec2) / (norm_vec1 * norm_vec2)\n",
    "\n",
    "def find_closest_columns(query_embeddings, column_embeddings, top_n=5):\n",
    "    column_similarities = {}\n",
    "\n",
    "    for col, col_vec in column_embeddings.items():\n",
    "        similarities = [cosine_sim(col_vec, q_vec) for q_vec in query_embeddings if np.linalg.norm(q_vec) > 0]\n",
    "        column_similarities[col] = np.mean(similarities) if similarities else -1\n",
    "\n",
    "    sorted_columns = sorted(column_similarities.items(), key=lambda item: item[1], reverse=True)\n",
    "    \n",
    "    return [col for col, sim in sorted_columns[:top_n]]"
   ],
   "id": "93858e6040c9c835",
   "outputs": [],
   "execution_count": 152
  },
  {
   "metadata": {
    "ExecuteTime": {
     "end_time": "2024-10-19T07:06:04.884139Z",
     "start_time": "2024-10-19T07:06:02.800559Z"
    }
   },
   "cell_type": "code",
   "source": [
    "db = DataBase()\n",
    "\n",
    "#qe = QueryEmbedder()\n",
    "\n",
    "qe = QueryEmbedderContextualized()\n",
    "\n",
    "llm = LLM()"
   ],
   "id": "71ebcb4ff84a1fe4",
   "outputs": [],
   "execution_count": 153
  },
  {
   "metadata": {
    "ExecuteTime": {
     "end_time": "2024-10-19T07:06:05.560970Z",
     "start_time": "2024-10-19T07:06:05.556268Z"
    }
   },
   "cell_type": "code",
   "source": [
    "def fuzzy_match(query_str, comparison_list, threshold=30):\n",
    "    matches = process.extract(query_str, comparison_list, scorer=fuzz.partial_ratio, limit=100)\n",
    "    \n",
    "    id_name_score = []\n",
    "    for match in matches:\n",
    "        name = match[0]\n",
    "        score = match[1]\n",
    "        matched_id = next(key for key, value in db.entities.items() if value[0] == name)\n",
    "            \n",
    "        length_ratio = len(name) / len(query_str)\n",
    "        adjusted_score = score * length_ratio\n",
    "                \n",
    "        id_name_score.append((matched_id, name, adjusted_score))\n",
    "        \n",
    "    # print(tabulate(id_name_score[:3], headers=[\"id\", \"Name\", \"Score\"], tablefmt=\"grid\"))\n",
    "    \n",
    "    return [id for id, _, score in id_name_score if score >= threshold]"
   ],
   "id": "b7975593c212a460",
   "outputs": [],
   "execution_count": 154
  },
  {
   "metadata": {
    "ExecuteTime": {
     "end_time": "2024-10-19T07:06:06.386650Z",
     "start_time": "2024-10-19T07:06:06.384255Z"
    }
   },
   "cell_type": "code",
   "source": [
    "def get_top_matches(df, normalized_query, top_n=2):\n",
    "    concatenated_rows = df.apply(lambda row: ' '.join(row.astype(str)), axis=1).tolist()\n",
    "    top_matches = process.extract(normalized_query, concatenated_rows, scorer=fuzz.partial_ratio, limit=top_n)\n",
    "    \n",
    "    # Extract the indices of the top matches\n",
    "    top_indices = [match[2] for match in top_matches]\n",
    "    \n",
    "    # Return the rows corresponding to the top matches\n",
    "    return df.iloc[top_indices]"
   ],
   "id": "68ede21d279d32fa",
   "outputs": [],
   "execution_count": 155
  },
  {
   "metadata": {
    "ExecuteTime": {
     "end_time": "2024-10-19T07:07:31.908832Z",
     "start_time": "2024-10-19T07:07:31.902376Z"
    }
   },
   "cell_type": "code",
   "source": [
    "def answer_query(query, correct_answer=\"\"):\n",
    "    normalized_query = db.normalize_string(query)\n",
    "    \n",
    "    index_matches = fuzzy_match(normalized_query, db.entity_list, threshold=30)\n",
    "    \n",
    "    context = db.fetch(index_matches, \"subject_id\")\n",
    "    \n",
    "    # EXPERIMENTAL\n",
    "    context = get_top_matches(context, normalized_query, top_n=1)\n",
    "    \n",
    "    if context.empty:\n",
    "        print(\"No context data found for given IDs or string\")\n",
    "        context = pd.DataFrame()\n",
    "        \n",
    "    column_embeddings = {col: qe.embed_phrase(col) for col in context.columns}\n",
    "    query_embeddings = [qe.embed_phrase(word) for word in query.split()]  \n",
    "    top_columns_embeddings = find_closest_columns(query_embeddings, column_embeddings, top_n=7)\n",
    "    \n",
    "    # EXPERIMENTAL\n",
    "    top_columns_dict = process.extract(normalized_query, context.columns, scorer=fuzz.partial_ratio, limit=3)\n",
    "    top_columns_fuzzy = [c[0] for c in top_columns_dict]\n",
    "    \n",
    "    print(\"Fuzyy Columns:\")\n",
    "    print(\"\\n\".join(top_columns_fuzzy))\n",
    "    \n",
    "    print(\"\\nEmbedding Columns:\")\n",
    "    print(\"\\n\".join(top_columns_embeddings))\n",
    "    \n",
    "    top_columns = list(set(top_columns_fuzzy + top_columns_embeddings + [\"node label\"]))\n",
    "    \n",
    "    filtered_context_df = context[top_columns]\n",
    "        \n",
    "    answer = llm.query(query, filtered_context_df, top_columns)\n",
    "    \n",
    "    ### EXPERIMENTAL\n",
    "    answer_df = pd.DataFrame([answer], columns=[\"answer\"])\n",
    "    answer = llm.query(query, answer_df, [\"answer\"])\n",
    "    \n",
    "    normalized_answer = db.normalize_string(answer)\n",
    "    normalized_correct_answer = db.normalize_string(correct_answer)\n",
    "    \n",
    "    print(f\"{'CORRECT' if normalized_answer == normalized_correct_answer else 'WRONG'} - {query} - {answer}\")\n"
   ],
   "id": "f64a89b6c62d95e4",
   "outputs": [],
   "execution_count": 175
  },
  {
   "metadata": {
    "ExecuteTime": {
     "end_time": "2024-10-19T07:07:33.301396Z",
     "start_time": "2024-10-19T07:07:32.726054Z"
    }
   },
   "cell_type": "code",
   "source": "answer_query(\"Who is the director of Good Will Hunting?\", \"Gus Van Sant\")",
   "id": "b92daea468f8ae0a",
   "outputs": [
    {
     "name": "stdout",
     "output_type": "stream",
     "text": [
      "Fuzyy Columns:\n",
      "director\n",
      "director of photography\n",
      "color\n",
      "\n",
      "Embedding Columns:\n",
      "director\n",
      "instance of\n",
      "screenwriter\n",
      "color\n",
      "production company\n",
      "genre\n",
      "nominated for\n",
      "CORRECT - Who is the director of Good Will Hunting? - Gus Van Sant\n"
     ]
    }
   ],
   "execution_count": 176
  },
  {
   "metadata": {
    "ExecuteTime": {
     "end_time": "2024-10-19T07:07:41.309733Z",
     "start_time": "2024-10-19T07:07:40.740347Z"
    }
   },
   "cell_type": "code",
   "source": "answer_query(\"Who directed The Bridge on the River Kwai?\", \"David Lean\")",
   "id": "fc09a07aff4c27e3",
   "outputs": [
    {
     "name": "stdout",
     "output_type": "stream",
     "text": [
      "Fuzyy Columns:\n",
      "director\n",
      "genre\n",
      "image\n",
      "\n",
      "Embedding Columns:\n",
      "director\n",
      "image\n",
      "based on\n",
      "color\n",
      "nominated for\n",
      "instance of\n",
      "genre\n",
      "CORRECT - Who directed The Bridge on the River Kwai? - David Lean\n"
     ]
    }
   ],
   "execution_count": 177
  },
  {
   "metadata": {
    "ExecuteTime": {
     "end_time": "2024-10-19T07:07:42.454990Z",
     "start_time": "2024-10-19T07:07:41.866353Z"
    }
   },
   "cell_type": "code",
   "source": "answer_query(\"Who directed the movie The Godfather?\", \"Francis Ford Coppola\") # or Mario Puzo or Francis Ford Coppola",
   "id": "a6056ee8bb4f64ee",
   "outputs": [
    {
     "name": "stdout",
     "output_type": "stream",
     "text": [
      "Fuzyy Columns:\n",
      "director\n",
      "art director\n",
      "movement\n",
      "\n",
      "Embedding Columns:\n",
      "director\n",
      "screenwriter\n",
      "genre\n",
      "creator\n",
      "executive producer\n",
      "follows\n",
      "followed by\n",
      "CORRECT - Who directed the movie The Godfather? - Francis Ford Coppola\n"
     ]
    }
   ],
   "execution_count": 178
  },
  {
   "metadata": {
    "ExecuteTime": {
     "end_time": "2024-10-19T07:07:43.619887Z",
     "start_time": "2024-10-19T07:07:43.012971Z"
    }
   },
   "cell_type": "code",
   "source": "answer_query(\"Who is the director of The Dark Knight?\", \"Christopher Nolan\")",
   "id": "8d9752b180ab30d",
   "outputs": [
    {
     "name": "stdout",
     "output_type": "stream",
     "text": [
      "Fuzyy Columns:\n",
      "director\n",
      "creator\n",
      "part of the series\n",
      "\n",
      "Embedding Columns:\n",
      "director\n",
      "image\n",
      "creator\n",
      "color\n",
      "characters\n",
      "has part\n",
      "screenwriter\n",
      "CORRECT - Who is the director of The Dark Knight? - Christopher Nolan\n"
     ]
    }
   ],
   "execution_count": 179
  },
  {
   "metadata": {
    "ExecuteTime": {
     "end_time": "2024-10-19T07:07:44.786364Z",
     "start_time": "2024-10-19T07:07:44.172651Z"
    }
   },
   "cell_type": "code",
   "source": "answer_query(\"Who directed The Dark Knight?\", \"Christopher Nolan\")",
   "id": "73e2d76165df3d84",
   "outputs": [
    {
     "name": "stdout",
     "output_type": "stream",
     "text": [
      "Fuzyy Columns:\n",
      "director\n",
      "named after\n",
      "award received\n",
      "\n",
      "Embedding Columns:\n",
      "director\n",
      "author\n",
      "color\n",
      "creator\n",
      "conflict\n",
      "image\n",
      "screenwriter\n",
      "CORRECT - Who directed The Dark Knight? - Christopher Nolan\n"
     ]
    }
   ],
   "execution_count": 180
  },
  {
   "metadata": {
    "ExecuteTime": {
     "end_time": "2024-10-19T07:07:45.816469Z",
     "start_time": "2024-10-19T07:07:45.288389Z"
    }
   },
   "cell_type": "code",
   "source": "answer_query(\"Where was Angelina Jolie born?\", \"Los Angeles\")",
   "id": "14626d0f4be528dd",
   "outputs": [
    {
     "name": "stdout",
     "output_type": "stream",
     "text": [
      "Fuzyy Columns:\n",
      "father\n",
      "genre\n",
      "image\n",
      "\n",
      "Embedding Columns:\n",
      "mother\n",
      "child\n",
      "spouse\n",
      "father\n",
      "relative\n",
      "place of birth\n",
      "sibling\n",
      "CORRECT - Where was Angelina Jolie born? - Los Angeles\n"
     ]
    }
   ],
   "execution_count": 181
  },
  {
   "metadata": {
    "ExecuteTime": {
     "end_time": "2024-10-19T07:07:47.110276Z",
     "start_time": "2024-10-19T07:07:46.337999Z"
    }
   },
   "cell_type": "code",
   "source": "answer_query(\"Which role had Lenardo di Caprio in Inception?\", \"actor\")",
   "id": "f1d40bcb791470e7",
   "outputs": [
    {
     "name": "stdout",
     "output_type": "stream",
     "text": [
      "Fuzyy Columns:\n",
      "occupation\n",
      "node description\n",
      "instance of\n",
      "\n",
      "Embedding Columns:\n",
      "image\n",
      "director\n",
      "winner\n",
      "occupation\n",
      "nominated for\n",
      "instance of\n",
      "screenwriter\n",
      "CORRECT - Which role had Lenardo di Caprio in Inception? - actor\n"
     ]
    }
   ],
   "execution_count": 182
  },
  {
   "metadata": {
    "ExecuteTime": {
     "end_time": "2024-10-19T07:07:48.094185Z",
     "start_time": "2024-10-19T07:07:47.541650Z"
    }
   },
   "cell_type": "code",
   "source": "answer_query(\"Who directed Inception?\", \"christopher nolan\")",
   "id": "744b63aa69f8e8ba",
   "outputs": [
    {
     "name": "stdout",
     "output_type": "stream",
     "text": [
      "Fuzyy Columns:\n",
      "director\n",
      "collection\n",
      "occupation\n",
      "\n",
      "Embedding Columns:\n",
      "director\n",
      "screenwriter\n",
      "genre\n",
      "executive producer\n",
      "father\n",
      "follows\n",
      "nominated for\n",
      "WRONG - Who directed Inception? - Sidney J. Furie\n"
     ]
    }
   ],
   "execution_count": 183
  },
  {
   "metadata": {
    "ExecuteTime": {
     "end_time": "2024-10-19T07:07:49.240315Z",
     "start_time": "2024-10-19T07:07:48.609191Z"
    }
   },
   "cell_type": "code",
   "source": "answer_query(\"What is the genre of Good Neighbors?\", \"art film\") # Could also be comedy-drama, and comedy film. ",
   "id": "3c31ec3966faaa2d",
   "outputs": [
    {
     "name": "stdout",
     "output_type": "stream",
     "text": [
      "Fuzyy Columns:\n",
      "genre\n",
      "country of origin\n",
      "color\n",
      "\n",
      "Embedding Columns:\n",
      "genre\n",
      "follows\n",
      "different from\n",
      "instance of\n",
      "image\n",
      "color\n",
      "director\n",
      "CORRECT - What is the genre of Good Neighbors? - art film\n"
     ]
    }
   ],
   "execution_count": 184
  },
  {
   "metadata": {
    "ExecuteTime": {
     "end_time": "2024-10-19T07:10:49.842992Z",
     "start_time": "2024-10-19T07:10:49.217636Z"
    }
   },
   "cell_type": "code",
   "source": "answer_query(\"What is the MPAA film rating of Weathering with You?\", \"PG-13\")",
   "id": "8ba20793435fd0e6",
   "outputs": [
    {
     "name": "stdout",
     "output_type": "stream",
     "text": [
      "Fuzyy Columns:\n",
      "FSK film rating\n",
      "KMRB film rating\n",
      "MPAA film rating\n",
      "\n",
      "Embedding Columns:\n",
      "color\n",
      "director\n",
      "genre\n",
      "instance of\n",
      "ICAA rating\n",
      "production company\n",
      "film editor\n",
      "WRONG - What is the MPAA film rating of Weathering with You? - NC-17\n"
     ]
    }
   ],
   "execution_count": 186
  },
  {
   "metadata": {
    "ExecuteTime": {
     "end_time": "2024-10-19T07:11:24.075526Z",
     "start_time": "2024-10-19T07:11:23.488458Z"
    }
   },
   "cell_type": "code",
   "source": "answer_query(\"Who is the director of Star Wars: Episode VI - Return of the Jedi?\", \"Richard Marquand\")",
   "id": "361dde5a560d788d",
   "outputs": [
    {
     "name": "stdout",
     "output_type": "stream",
     "text": [
      "Fuzyy Columns:\n",
      "director\n",
      "part of the series\n",
      "director of photography\n",
      "\n",
      "Embedding Columns:\n",
      "director\n",
      "follows\n",
      "image\n",
      "characters\n",
      "part of the series\n",
      "followed by\n",
      "instance of\n",
      "CORRECT - Who is the director of Star Wars: Episode VI - Return of the Jedi? - Richard Marquand\n"
     ]
    }
   ],
   "execution_count": 188
  },
  {
   "metadata": {
    "ExecuteTime": {
     "end_time": "2024-10-19T07:11:52.789680Z",
     "start_time": "2024-10-19T07:11:52.213203Z"
    }
   },
   "cell_type": "code",
   "source": "answer_query(\"Who is the screenwriter of The Masked Gang: Cyprus?\", \"Murat Aslan\")",
   "id": "51eeb0370bf2a5d1",
   "outputs": [
    {
     "name": "stdout",
     "output_type": "stream",
     "text": [
      "Fuzyy Columns:\n",
      "screenwriter\n",
      "genre\n",
      "instance of\n",
      "\n",
      "Embedding Columns:\n",
      "director\n",
      "screenwriter\n",
      "follows\n",
      "genre\n",
      "color\n",
      "instance of\n",
      "cast member\n",
      "CORRECT - Who is the screenwriter of The Masked Gang: Cyprus? - Murat Aslan\n"
     ]
    }
   ],
   "execution_count": 190
  },
  {
   "metadata": {},
   "cell_type": "code",
   "outputs": [],
   "execution_count": null,
   "source": "",
   "id": "125faf56210bb156"
  }
 ],
 "metadata": {
  "kernelspec": {
   "display_name": "Python 3",
   "language": "python",
   "name": "python3"
  },
  "language_info": {
   "codemirror_mode": {
    "name": "ipython",
    "version": 2
   },
   "file_extension": ".py",
   "mimetype": "text/x-python",
   "name": "python",
   "nbconvert_exporter": "python",
   "pygments_lexer": "ipython2",
   "version": "2.7.6"
  }
 },
 "nbformat": 4,
 "nbformat_minor": 5
}
