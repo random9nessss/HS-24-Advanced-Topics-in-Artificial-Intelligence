{
 "cells": [
  {
   "cell_type": "code",
   "id": "initial_id",
   "metadata": {
    "collapsed": true,
    "jupyter": {
     "outputs_hidden": true
    },
    "ExecuteTime": {
     "end_time": "2024-10-17T15:42:42.935784Z",
     "start_time": "2024-10-17T15:42:42.840089Z"
    }
   },
   "source": [
    "from question_types.sparql import SparqlQueries\n",
    "from tabulate import tabulate\n",
    "import json\n",
    "import os\n",
    "import unicodedata\n",
    "import re"
   ],
   "outputs": [],
   "execution_count": 1
  },
  {
   "cell_type": "code",
   "id": "b50a0b26589350a5",
   "metadata": {
    "ExecuteTime": {
     "end_time": "2024-10-17T15:43:41.148055Z",
     "start_time": "2024-10-17T15:42:42.956946Z"
    }
   },
   "source": [
    "sparql = SparqlQueries(\"../dataset/14_graph.nt\")"
   ],
   "outputs": [
    {
     "name": "stderr",
     "output_type": "stream",
     "text": [
      "2024-10-17 17:42:42,956 | INFO | __init__ | \u001B[92mParsing graph\u001B[0m\n",
      "2024-10-17 17:43:41,144 | INFO | __init__ | \u001B[92mGraph parsed\u001B[0m\n"
     ]
    }
   ],
   "execution_count": 2
  },
  {
   "cell_type": "code",
   "id": "b10ebd824bd72d95",
   "metadata": {
    "ExecuteTime": {
     "end_time": "2024-10-17T15:43:41.347220Z",
     "start_time": "2024-10-17T15:43:41.341204Z"
    }
   },
   "source": [
    "def execute_query(query):\n",
    "    sparql_result = sparql.execute_query(query)\n",
    "    result_lst = [\n",
    "        [str(item) for item in (row if isinstance(row, tuple) else [row])]\n",
    "        for row in sparql_result\n",
    "    ]\n",
    "    if not len(result_lst):\n",
    "        return print(\"Results were empty\")\n",
    "    headers = [f\"Col {idx}\" for idx in range(len(result_lst[0]))]\n",
    "    return result_lst"
   ],
   "outputs": [],
   "execution_count": 3
  },
  {
   "cell_type": "code",
   "id": "f757b729e98900a0",
   "metadata": {
    "ExecuteTime": {
     "end_time": "2024-10-17T15:46:45.809449Z",
     "start_time": "2024-10-17T15:46:45.792357Z"
    }
   },
   "source": [
    "def get_all_of_type_film():\n",
    "    query = f\"\"\"\n",
    "        PREFIX rdfs: <http://www.w3.org/2000/01/rdf-schema#>\n",
    "        PREFIX wd: <http://www.wikidata.org/entity/>\n",
    "        PREFIX wdt: <http://www.wikidata.org/prop/direct/>\n",
    "\n",
    "        SELECT ?movie ?movieLabel ?type WHERE {{\n",
    "            ?movie wdt:P31/wdt:P279* wd:Q11424 ;   # Match film or its subclasses\n",
    "                   rdfs:label ?movieLabel .        # Get the label of the movie\n",
    "            FILTER(LANG(?movieLabel) = \"en\")       # Only English labels\n",
    "            BIND(\"movie\" AS ?type)\n",
    "        }}\n",
    "    \"\"\"\n",
    "    return execute_query(query)\n",
    "\n",
    "\n",
    "def get_all_of_type_actor():\n",
    "    query = f\"\"\"\n",
    "        PREFIX rdfs: <http://www.w3.org/2000/01/rdf-schema#>\n",
    "        PREFIX wd: <http://www.wikidata.org/entity/>\n",
    "        PREFIX wdt: <http://www.wikidata.org/prop/direct/>\n",
    "\n",
    "        SELECT ?actor ?actorLabel ?type WHERE {{\n",
    "            ?actor wdt:P31 wd:Q5 ;  # Ensure the entity is a human\n",
    "                   wdt:P106/wdt:P279* wd:Q33999 ;  # Occupation is actor or any subclass\n",
    "                   rdfs:label ?actorLabel .  # Get actor label\n",
    "            FILTER(LANG(?actorLabel) = \"en\")  # English labels only\n",
    "            BIND(\"actor\" AS ?type)\n",
    "        }}\n",
    "    \"\"\"\n",
    "    return execute_query(query)\n",
    "\n",
    "def get_all_of_type_film_professionals():\n",
    "    query = f\"\"\"\n",
    "        PREFIX rdfs: <http://www.w3.org/2000/01/rdf-schema#>\n",
    "        PREFIX wd: <http://www.wikidata.org/entity/>\n",
    "        PREFIX wdt: <http://www.wikidata.org/prop/direct/>\n",
    "\n",
    "        SELECT ?professional ?label ?roleLabel WHERE {{\n",
    "            ?professional rdfs:label ?label ;        # Get any label\n",
    "                          wdt:P31 wd:Q5 ;            # Instance of human\n",
    "                          wdt:P106 ?role .           # Occupation property\n",
    "            ?role rdfs:label ?roleLabel .            # Get role label (for debugging)\n",
    "            FILTER NOT EXISTS {{\n",
    "                ?role wdt:P279* wd:Q33999 .          # Exclude actors and subclasses\n",
    "            }}\n",
    "            FILTER(LANG(?roleLabel) = \"en\") .        # English labels for roles\n",
    "            FILTER(LANG(?label) = \"en\")              # English labels only\n",
    "        }}\n",
    "    \"\"\"\n",
    "    return execute_query(query)\n"
   ],
   "outputs": [],
   "execution_count": 13
  },
  {
   "metadata": {
    "ExecuteTime": {
     "end_time": "2024-10-17T15:48:03.388215Z",
     "start_time": "2024-10-17T15:48:03.382130Z"
    }
   },
   "cell_type": "code",
   "source": [
    "def normalize_string(s):\n",
    "    \"\"\"Cleans the input entity to a uniform naming convention, by removing non ascii characters, encoding it to utf, setting it to lowercase, and removing redundant spaces\"\"\"\n",
    "    s = s.lower()\n",
    "    s = unicodedata.normalize('NFKD', s)\n",
    "    s = s.encode('ascii', 'ignore').decode('utf-8')\n",
    "    s = re.sub(r'[^\\w\\s]', '', s)\n",
    "    s = ' '.join(s.split())\n",
    "    return s\n",
    "\n",
    "def ensure_directory_exists(directory):\n",
    "    if not os.path.exists(directory):\n",
    "        os.makedirs(directory)\n",
    "        \n",
    "def extend_if_exists(db, lst):\n",
    "    \"\"\"Extends the db with the given list of entities, if the entity already exists, it appends the type to the existing entity\"\"\"\n",
    "    for row in lst:\n",
    "        key = row[0]\n",
    "        name = normalize_string(row[1])\n",
    "        type = row[2]\n",
    "        if key in db:\n",
    "            db[key][1].append(type)\n",
    "        else:\n",
    "            db[key] = (name, [type])\n",
    "               \n",
    "def export_entities_json():\n",
    "    \n",
    "    entity_json = dict()\n",
    "    \n",
    "    ensure_directory_exists('exports')\n",
    "    \n",
    "    actor_lst = get_all_of_type_actor()\n",
    "    prof_lst = get_all_of_type_film_professionals()\n",
    "    film_lst = get_all_of_type_film()\n",
    "    \n",
    "    extend_if_exists(entity_json, actor_lst)\n",
    "    extend_if_exists(entity_json, prof_lst)\n",
    "    extend_if_exists(entity_json, film_lst)\n",
    "     \n",
    "    with open('exports/entity_db.json', 'w', encoding=\"utf-8\") as file:\n",
    "            json.dump(entity_json, file, ensure_ascii=False, indent=2)\n",
    "    \n",
    "    print(tabulate(list(entity_json.items())[:10], headers=[\"Entity ID\", \"Name\", \"Type\"], tablefmt=\"grid\"))\n"
   ],
   "id": "d6a30512083d1b4d",
   "outputs": [],
   "execution_count": 16
  },
  {
   "metadata": {
    "ExecuteTime": {
     "end_time": "2024-10-17T15:48:23.075187Z",
     "start_time": "2024-10-17T15:48:04.290340Z"
    }
   },
   "cell_type": "code",
   "source": "export_entities_json()",
   "id": "6ae4a888b6a3d074",
   "outputs": [
    {
     "name": "stdout",
     "output_type": "stream",
     "text": [
      "+-------------------------------------------+--------------------------------------+\n",
      "| Entity ID                                 | Name                                 |\n",
      "+===========================================+======================================+\n",
      "| http://www.wikidata.org/entity/Q100423423 | ('viktor kristof', ['actor'])        |\n",
      "+-------------------------------------------+--------------------------------------+\n",
      "| http://www.wikidata.org/entity/Q102290694 | ('oleg kapanets', ['actor'])         |\n",
      "+-------------------------------------------+--------------------------------------+\n",
      "| http://www.wikidata.org/entity/Q102963    | ('alexander geringas', ['actor'])    |\n",
      "+-------------------------------------------+--------------------------------------+\n",
      "| http://www.wikidata.org/entity/Q105683337 | ('giovanni korporaal', ['actor'])    |\n",
      "+-------------------------------------------+--------------------------------------+\n",
      "| http://www.wikidata.org/entity/Q106273    | ('jurgen knieper', ['actor'])        |\n",
      "+-------------------------------------------+--------------------------------------+\n",
      "| http://www.wikidata.org/entity/Q106638552 | ('mel jarnson', ['actor', 'model'])  |\n",
      "+-------------------------------------------+--------------------------------------+\n",
      "| http://www.wikidata.org/entity/Q106806107 | ('carmen beato', ['actor'])          |\n",
      "+-------------------------------------------+--------------------------------------+\n",
      "| http://www.wikidata.org/entity/Q107263520 | ('martina cariddi', ['actor'])       |\n",
      "+-------------------------------------------+--------------------------------------+\n",
      "| http://www.wikidata.org/entity/Q107356085 | ('atli oskar fjalarsson', ['actor']) |\n",
      "+-------------------------------------------+--------------------------------------+\n",
      "| http://www.wikidata.org/entity/Q1148651   | ('cyril morin', ['actor'])           |\n",
      "+-------------------------------------------+--------------------------------------+\n"
     ]
    }
   ],
   "execution_count": 17
  },
  {
   "metadata": {},
   "cell_type": "code",
   "outputs": [],
   "execution_count": null,
   "source": "",
   "id": "2582a831db116c48"
  }
 ],
 "metadata": {
  "kernelspec": {
   "display_name": "Python 3 (ipykernel)",
   "language": "python",
   "name": "python3"
  },
  "language_info": {
   "codemirror_mode": {
    "name": "ipython",
    "version": 3
   },
   "file_extension": ".py",
   "mimetype": "text/x-python",
   "name": "python",
   "nbconvert_exporter": "python",
   "pygments_lexer": "ipython3",
   "version": "3.9.13"
  }
 },
 "nbformat": 4,
 "nbformat_minor": 5
}
