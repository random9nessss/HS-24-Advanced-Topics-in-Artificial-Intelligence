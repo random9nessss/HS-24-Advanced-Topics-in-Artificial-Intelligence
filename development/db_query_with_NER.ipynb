{
 "cells": [
  {
   "cell_type": "code",
   "id": "initial_id",
   "metadata": {
    "collapsed": true,
    "ExecuteTime": {
     "end_time": "2024-10-16T07:10:38.157304Z",
     "start_time": "2024-10-16T07:10:38.149465Z"
    }
   },
   "source": [
    "import pandas as pd\n",
    "from rapidfuzz import process, fuzz\n",
    "import json"
   ],
   "outputs": [],
   "execution_count": 241
  },
  {
   "metadata": {
    "ExecuteTime": {
     "end_time": "2024-10-16T07:10:39.022834Z",
     "start_time": "2024-10-16T07:10:38.157304Z"
    }
   },
   "cell_type": "code",
   "source": [
    "import torch\n",
    "from transformers import AutoTokenizer, AutoModelForTokenClassification, pipeline\n",
    "from transformers import logging as transformers_logging\n",
    "transformers_logging.set_verbosity_error()\n",
    "\n",
    "class NERParser:\n",
    "    def __init__(self, model_name: str = \"dslim/bert-base-NER\", lowercase: bool = False):\n",
    "        \"\"\"\n",
    "        Initialize the NER parser with a model and optionally configure the lowercase preprocessing.\n",
    "        \"\"\"\n",
    "        self.model_name = model_name\n",
    "        self.lowercase = lowercase\n",
    "        self.device = self.get_device()\n",
    "        \n",
    "        # Load the tokenizer and model\n",
    "        self.tokenizer = AutoTokenizer.from_pretrained(self.model_name, do_lower_case=self.lowercase)\n",
    "        self.model = AutoModelForTokenClassification.from_pretrained(self.model_name)\n",
    "        \n",
    "        # Set up the NER pipeline\n",
    "        self.nlp_pipeline = pipeline(\"ner\", \n",
    "                                     model=self.model, \n",
    "                                     tokenizer=self.tokenizer, \n",
    "                                     device=self.device, \n",
    "                                     aggregation_strategy=\"simple\")\n",
    "\n",
    "    def get_device(self):\n",
    "        \"\"\"\n",
    "        Determines whether to use MPS, CUDA, or CPU depending on the available hardware.\n",
    "        \"\"\"\n",
    "        if torch.backends.mps.is_available():\n",
    "            print(\"MPS device found, using MPS backend.\\n\")\n",
    "            return torch.device(\"mps\")\n",
    "        elif torch.cuda.is_available():\n",
    "            print(f\"CUDA device found, using CUDA backend. Device: {torch.cuda.get_device_name(0)}\\n\")\n",
    "            return torch.device(\"cuda\")\n",
    "        else:\n",
    "            print(\"Neither MPS nor CUDA found, using CPU.\\n\")\n",
    "            return torch.device(\"cpu\")\n",
    "\n",
    "    \n",
    "    def parse_ner_results(self, ner_results: list):\n",
    "        \"\"\"\n",
    "        Parse the NER results and extract entities related to 'PER' (persons) and 'MISC' (potential movie titles).\n",
    "        \"\"\"\n",
    "        per_entities, misc_entities = [], []\n",
    "        \n",
    "        for entity in ner_results:\n",
    "            # Extraction of all Persons\n",
    "            if entity['entity_group'] == 'PER':\n",
    "                per_entities.append(entity['word'])\n",
    "            # Extraction of all Misc that could indicate movies\n",
    "            elif entity['entity_group'] == 'MISC':\n",
    "                misc_entities.append(entity['word'])\n",
    "        \n",
    "        return per_entities, misc_entities\n",
    "\n",
    "    \n",
    "    def process_query(self, query: str):\n",
    "        \"\"\"\n",
    "        Processes a text query, runs NER, and returns the extracted actors and movie names.\n",
    "        \"\"\"\n",
    "        # Optionally lowercase the input if configured\n",
    "        if self.lowercase:\n",
    "            query = query.lower()\n",
    "        \n",
    "        # Run the NER pipeline\n",
    "        ner_results = self.nlp_pipeline(query)\n",
    "\n",
    "        # Parse the results to extract actors and movies\n",
    "        per_entities, misc_entities = self.parse_ner_results(ner_results)\n",
    "        \n",
    "        return per_entities, misc_entities\n",
    "\n",
    "ner_parser = NERParser(lowercase=False)"
   ],
   "id": "471a5a310f6ee704",
   "outputs": [
    {
     "name": "stdout",
     "output_type": "stream",
     "text": [
      "Neither MPS nor CUDA found, using CPU.\n",
      "\n"
     ]
    }
   ],
   "execution_count": 242
  },
  {
   "metadata": {
    "ExecuteTime": {
     "end_time": "2024-10-16T07:10:42.261389Z",
     "start_time": "2024-10-16T07:10:39.022834Z"
    }
   },
   "cell_type": "code",
   "source": [
    "# db = pd.read_pickle('exports/graph.pkl')\n",
    "db = pd.read_pickle(\"exports/extended_graph_triples.pkl\")"
   ],
   "id": "451f143f83042411",
   "outputs": [],
   "execution_count": 243
  },
  {
   "metadata": {
    "ExecuteTime": {
     "end_time": "2024-10-16T07:10:42.359110Z",
     "start_time": "2024-10-16T07:10:42.261389Z"
    }
   },
   "cell_type": "code",
   "source": [
    "query = \"Where was Angelina Jolie born?\"\n",
    "query = \"In which movies did Angela Jolie have a role?\"\n",
    "query = \"Who is the director of Star Wars: Episode VI - Return of the Jedi?\" # Richard Marquand\n",
    "query = \"Who is the screenwriter of The Masked Gang: Cyprus?\" # Cengiz Küçükayvaz\n",
    "query = \"When was 'The Godfather' released?\" # 1972\n",
    "person, movies = ner_parser.process_query(query)"
   ],
   "id": "6a7abea64180c1a4",
   "outputs": [],
   "execution_count": 244
  },
  {
   "metadata": {
    "ExecuteTime": {
     "end_time": "2024-10-16T07:10:42.375748Z",
     "start_time": "2024-10-16T07:10:42.362849Z"
    }
   },
   "cell_type": "code",
   "source": [
    "context_person = []\n",
    "\n",
    "for p in person:\n",
    "    # Exact Lookup\n",
    "    relevant = db[db.index == p].dropna(axis=1)\n",
    "    \n",
    "    if not relevant.empty:\n",
    "        context_person.append(relevant.iloc[0])\n",
    "    \n",
    "    else:\n",
    "        # Levenshtein matching for closest match\n",
    "        matches = process.extractOne(p, db.index, scorer=fuzz.ratio)\n",
    "        \n",
    "        if matches and matches[1] > 80:\n",
    "            closest_match = matches[0]\n",
    "            relevant = db[db.index == closest_match].dropna(axis=1)\n",
    "            context_person.append(relevant.iloc[0])\n",
    "   \n",
    "context_df_person = pd.DataFrame(context_person)\n",
    "\n",
    "context_movie = [] \n",
    "   \n",
    "for m in movies:\n",
    "    # Exact Lookup\n",
    "    relevant = db[db.index == m].dropna(axis=1)\n",
    "    \n",
    "    if not relevant.empty:\n",
    "        context_movie.append(relevant.iloc[0])\n",
    "    \n",
    "    else:\n",
    "        # Levenshtein matching for closest match\n",
    "        matches = process.extractOne(m, db.index, scorer=fuzz.ratio)\n",
    "        \n",
    "        if matches and matches[1] > 80:\n",
    "            closest_match = matches[0]\n",
    "            relevant = db[db.index == closest_match].dropna(axis=1)\n",
    "            context_movie.append(relevant.iloc[0])   \n",
    "        \n",
    "context_df_movie = pd.DataFrame(context_movie)"
   ],
   "id": "c967e47d27e5054",
   "outputs": [],
   "execution_count": 245
  },
  {
   "metadata": {
    "ExecuteTime": {
     "end_time": "2024-10-16T07:10:42.387659Z",
     "start_time": "2024-10-16T07:10:42.383440Z"
    }
   },
   "cell_type": "code",
   "source": [
    "context_df_movie = context_df_movie.rename(columns={'node label': 'name'})\n",
    "context_df_person = context_df_person.rename(columns={'node label': 'name'})\n",
    "\n",
    "context_df_movie = context_df_movie.rename(columns={'publication date': 'release date publication'})\n",
    "context_df_person = context_df_person.rename(columns={'cast member': 'movies cast role play'})"
   ],
   "id": "8894b50a2c235caa",
   "outputs": [],
   "execution_count": 246
  },
  {
   "metadata": {
    "ExecuteTime": {
     "end_time": "2024-10-16T07:10:42.398709Z",
     "start_time": "2024-10-16T07:10:42.392925Z"
    }
   },
   "cell_type": "code",
   "source": "context_df_person",
   "id": "748cb768b4c9a46b",
   "outputs": [
    {
     "data": {
      "text/plain": [
       "Empty DataFrame\n",
       "Columns: []\n",
       "Index: []"
      ],
      "text/html": [
       "<div>\n",
       "<style scoped>\n",
       "    .dataframe tbody tr th:only-of-type {\n",
       "        vertical-align: middle;\n",
       "    }\n",
       "\n",
       "    .dataframe tbody tr th {\n",
       "        vertical-align: top;\n",
       "    }\n",
       "\n",
       "    .dataframe thead th {\n",
       "        text-align: right;\n",
       "    }\n",
       "</style>\n",
       "<table border=\"1\" class=\"dataframe\">\n",
       "  <thead>\n",
       "    <tr style=\"text-align: right;\">\n",
       "      <th></th>\n",
       "    </tr>\n",
       "  </thead>\n",
       "  <tbody>\n",
       "  </tbody>\n",
       "</table>\n",
       "</div>"
      ]
     },
     "execution_count": 247,
     "metadata": {},
     "output_type": "execute_result"
    }
   ],
   "execution_count": 247
  },
  {
   "metadata": {
    "ExecuteTime": {
     "end_time": "2024-10-16T07:10:42.432160Z",
     "start_time": "2024-10-16T07:10:42.420670Z"
    }
   },
   "cell_type": "code",
   "source": "context_df_movie",
   "id": "6d79561b617b2744",
   "outputs": [
    {
     "data": {
      "text/plain": [
       "Predicate                                        BBFC rating  \\\n",
       "The Godfather  15 certificate, X certificate, 18 certificate   \n",
       "\n",
       "Predicate     CNC film rating (France) FSK film rating               IMDb ID  \\\n",
       "The Godfather   no minors under twelve          FSK 16  tt0068646, tt0442674   \n",
       "\n",
       "Predicate     after a work by aspect ratio  \\\n",
       "The Godfather      Mario Puzo   widescreen   \n",
       "\n",
       "Predicate                                             assessment      author  \\\n",
       "The Godfather  Bechdel test, reverse Bechdel Test, Mako Mori ...  Mario Puzo   \n",
       "\n",
       "Predicate                                         award received  \\\n",
       "The Godfather  Academy Award for Best Actor, Academy Award fo...   \n",
       "\n",
       "Predicate                                               based on  ...  \\\n",
       "The Godfather  The Godfather, The Mook, the Chef, the Wife an...  ...   \n",
       "\n",
       "Predicate     original language of film or TV show     part of the series  \\\n",
       "The Godfather                     English, Italian  The Godfather trilogy   \n",
       "\n",
       "Predicate      performer                               platform  \\\n",
       "The Godfather  Nino Rota  Microsoft Windows, Wii, PlayStation 2   \n",
       "\n",
       "Predicate                    present in work  \\\n",
       "The Godfather  Vito Corleone, Mark McCluskey   \n",
       "\n",
       "Predicate                          production company production designer  \\\n",
       "The Godfather  Alfran Productions, Paramount Pictures     Dean Tavoularis   \n",
       "\n",
       "Predicate                release date publication        publisher  \\\n",
       "The Godfather  1972-03-15, 1969-03-10, 2006-03-21  Electronic Arts   \n",
       "\n",
       "Predicate                          screenwriter  \n",
       "The Godfather  Mario Puzo, Francis Ford Coppola  \n",
       "\n",
       "[1 rows x 53 columns]"
      ],
      "text/html": [
       "<div>\n",
       "<style scoped>\n",
       "    .dataframe tbody tr th:only-of-type {\n",
       "        vertical-align: middle;\n",
       "    }\n",
       "\n",
       "    .dataframe tbody tr th {\n",
       "        vertical-align: top;\n",
       "    }\n",
       "\n",
       "    .dataframe thead th {\n",
       "        text-align: right;\n",
       "    }\n",
       "</style>\n",
       "<table border=\"1\" class=\"dataframe\">\n",
       "  <thead>\n",
       "    <tr style=\"text-align: right;\">\n",
       "      <th>Predicate</th>\n",
       "      <th>BBFC rating</th>\n",
       "      <th>CNC film rating (France)</th>\n",
       "      <th>FSK film rating</th>\n",
       "      <th>IMDb ID</th>\n",
       "      <th>after a work by</th>\n",
       "      <th>aspect ratio</th>\n",
       "      <th>assessment</th>\n",
       "      <th>author</th>\n",
       "      <th>award received</th>\n",
       "      <th>based on</th>\n",
       "      <th>...</th>\n",
       "      <th>original language of film or TV show</th>\n",
       "      <th>part of the series</th>\n",
       "      <th>performer</th>\n",
       "      <th>platform</th>\n",
       "      <th>present in work</th>\n",
       "      <th>production company</th>\n",
       "      <th>production designer</th>\n",
       "      <th>release date publication</th>\n",
       "      <th>publisher</th>\n",
       "      <th>screenwriter</th>\n",
       "    </tr>\n",
       "  </thead>\n",
       "  <tbody>\n",
       "    <tr>\n",
       "      <th>The Godfather</th>\n",
       "      <td>15 certificate, X certificate, 18 certificate</td>\n",
       "      <td>no minors under twelve</td>\n",
       "      <td>FSK 16</td>\n",
       "      <td>tt0068646, tt0442674</td>\n",
       "      <td>Mario Puzo</td>\n",
       "      <td>widescreen</td>\n",
       "      <td>Bechdel test, reverse Bechdel Test, Mako Mori ...</td>\n",
       "      <td>Mario Puzo</td>\n",
       "      <td>Academy Award for Best Actor, Academy Award fo...</td>\n",
       "      <td>The Godfather, The Mook, the Chef, the Wife an...</td>\n",
       "      <td>...</td>\n",
       "      <td>English, Italian</td>\n",
       "      <td>The Godfather trilogy</td>\n",
       "      <td>Nino Rota</td>\n",
       "      <td>Microsoft Windows, Wii, PlayStation 2</td>\n",
       "      <td>Vito Corleone, Mark McCluskey</td>\n",
       "      <td>Alfran Productions, Paramount Pictures</td>\n",
       "      <td>Dean Tavoularis</td>\n",
       "      <td>1972-03-15, 1969-03-10, 2006-03-21</td>\n",
       "      <td>Electronic Arts</td>\n",
       "      <td>Mario Puzo, Francis Ford Coppola</td>\n",
       "    </tr>\n",
       "  </tbody>\n",
       "</table>\n",
       "<p>1 rows × 53 columns</p>\n",
       "</div>"
      ]
     },
     "execution_count": 248,
     "metadata": {},
     "output_type": "execute_result"
    }
   ],
   "execution_count": 248
  },
  {
   "metadata": {
    "ExecuteTime": {
     "end_time": "2024-10-16T07:10:42.487991Z",
     "start_time": "2024-10-16T07:10:42.469966Z"
    }
   },
   "cell_type": "code",
   "source": "context_df_person.columns",
   "id": "f131f02b3a8c3a50",
   "outputs": [
    {
     "data": {
      "text/plain": [
       "Index([], dtype='object')"
      ]
     },
     "execution_count": 249,
     "metadata": {},
     "output_type": "execute_result"
    }
   ],
   "execution_count": 249
  },
  {
   "metadata": {
    "ExecuteTime": {
     "end_time": "2024-10-16T07:10:42.557447Z",
     "start_time": "2024-10-16T07:10:42.549395Z"
    }
   },
   "cell_type": "code",
   "source": [
    "import requests\n",
    "import os \n",
    "\n",
    "input_dir = 'input/glove.6B.zip'\n",
    "url = 'http://nlp.stanford.edu/data/glove.6B.zip'\n",
    "\n",
    "if not os.path.exists(input_dir):\n",
    "    response = requests.get(url)\n",
    "    \n",
    "    with open(input_dir, 'wb') as file:\n",
    "        file.write(response.content)\n",
    "    print(\"Download complete.\")\n",
    "else:\n",
    "    print(\"File already exists, skipped download.\")"
   ],
   "id": "63a08a0603be6a2e",
   "outputs": [
    {
     "name": "stdout",
     "output_type": "stream",
     "text": [
      "File already exists, skipped download.\n"
     ]
    }
   ],
   "execution_count": 250
  },
  {
   "metadata": {
    "ExecuteTime": {
     "end_time": "2024-10-16T07:10:42.641997Z",
     "start_time": "2024-10-16T07:10:42.624129Z"
    }
   },
   "cell_type": "code",
   "source": [
    "import zipfile\n",
    "import os\n",
    "\n",
    "zip_file_path = 'input/glove.6B.zip'\n",
    "extract_to_path = 'exports/glove.6B'\n",
    "\n",
    "if not os.path.exists(extract_to_path):\n",
    "    with zipfile.ZipFile(zip_file_path, 'r') as zip_ref:\n",
    "        zip_ref.extractall(extract_to_path)\n",
    "    print(\"Unzipping complete!\")\n",
    "else:\n",
    "    print(\"Out dir already exists, skipped unzipping.\")\n"
   ],
   "id": "2a0f254a37c9a948",
   "outputs": [
    {
     "name": "stdout",
     "output_type": "stream",
     "text": [
      "Out dir already exists, skipped unzipping.\n"
     ]
    }
   ],
   "execution_count": 251
  },
  {
   "metadata": {
    "ExecuteTime": {
     "end_time": "2024-10-16T07:10:55.781934Z",
     "start_time": "2024-10-16T07:10:42.679390Z"
    }
   },
   "cell_type": "code",
   "source": [
    "import numpy as np\n",
    "\n",
    "def load_glove_embeddings(file_path):\n",
    "    embeddings = {}\n",
    "    with open(file_path, 'r', encoding='utf-8') as f:\n",
    "        for line in f:\n",
    "            values = line.split()\n",
    "            word = values[0]\n",
    "            vector = np.asarray(values[1:], dtype='float32')\n",
    "            embeddings[word] = vector\n",
    "    return embeddings\n",
    "\n",
    "# Load the GloVe embeddings (300-dimensional)\n",
    "glove_embeddings = load_glove_embeddings(\"exports/glove.6B/glove.6B.300d.txt\")"
   ],
   "id": "c7480ef7d1a7759",
   "outputs": [],
   "execution_count": 252
  },
  {
   "metadata": {
    "ExecuteTime": {
     "end_time": "2024-10-16T07:10:55.790644Z",
     "start_time": "2024-10-16T07:10:55.781934Z"
    }
   },
   "cell_type": "code",
   "source": [
    "def embed_phrase(phrase, embeddings):\n",
    "    words = phrase.split()\n",
    "    word_vectors = [embeddings[word.lower()] for word in words if word.lower() in embeddings]\n",
    "    \n",
    "    if len(word_vectors) == 0:\n",
    "        return np.zeros(300)  # Return zero vector if no words have embeddings\n",
    "    \n",
    "    return np.mean(word_vectors, axis=0)\n",
    "\n",
    "# Embed column names of knowledge graph db\n",
    "column_embeddings = {col: embed_phrase(col, glove_embeddings) for col in context_df_person.columns}"
   ],
   "id": "92ce6e4a8bab828f",
   "outputs": [],
   "execution_count": 253
  },
  {
   "metadata": {
    "ExecuteTime": {
     "end_time": "2024-10-16T07:10:55.803080Z",
     "start_time": "2024-10-16T07:10:55.790644Z"
    }
   },
   "cell_type": "code",
   "source": "column_embeddings",
   "id": "65587fe9be893d04",
   "outputs": [
    {
     "data": {
      "text/plain": [
       "{}"
      ]
     },
     "execution_count": 254,
     "metadata": {},
     "output_type": "execute_result"
    }
   ],
   "execution_count": 254
  },
  {
   "metadata": {
    "ExecuteTime": {
     "end_time": "2024-10-16T07:10:55.821191Z",
     "start_time": "2024-10-16T07:10:55.805809Z"
    }
   },
   "cell_type": "code",
   "source": [
    "import nltk\n",
    "from nltk.corpus import stopwords\n",
    "\n",
    "nltk.download('stopwords')\n",
    "stop_words = set(stopwords.words('english'))"
   ],
   "id": "b1f51487ce3c58d5",
   "outputs": [
    {
     "name": "stderr",
     "output_type": "stream",
     "text": [
      "[nltk_data] Downloading package stopwords to\n",
      "[nltk_data]     C:\\Users\\sandr\\AppData\\Roaming\\nltk_data...\n",
      "[nltk_data]   Package stopwords is already up-to-date!\n"
     ]
    }
   ],
   "execution_count": 255
  },
  {
   "metadata": {
    "ExecuteTime": {
     "end_time": "2024-10-16T07:10:55.834263Z",
     "start_time": "2024-10-16T07:10:55.829436Z"
    }
   },
   "cell_type": "code",
   "source": [
    "def filter_query(query):\n",
    "    \n",
    "    person_list = [p.split(\" \") for p in person][0] if len(person) else []\n",
    "    movie_list = [m.split(\" \") for m in movies][0] if len(movies) else []\n",
    "        \n",
    "    if not len(query):\n",
    "        return []\n",
    "    \n",
    "    relevant = []\n",
    "    for word in query.split(\" \"):\n",
    "        if word in stop_words:\n",
    "            continue\n",
    "        \n",
    "        if word in person_list:            \n",
    "            continue\n",
    "        \n",
    "        if word in movie_list:\n",
    "            continue\n",
    "        \n",
    "        relevant.append(word)\n",
    "        \n",
    "    return relevant\n",
    "    "
   ],
   "id": "f72ff1c38edcb426",
   "outputs": [],
   "execution_count": 256
  },
  {
   "metadata": {
    "ExecuteTime": {
     "end_time": "2024-10-16T07:10:55.855214Z",
     "start_time": "2024-10-16T07:10:55.836848Z"
    }
   },
   "cell_type": "code",
   "source": [
    "# Embed the query keywords\n",
    "filtered_query = filter_query(query)\n",
    "query_embeddings = [embed_phrase(word, glove_embeddings) for word in filtered_query]\n"
   ],
   "id": "5fd557218b67556c",
   "outputs": [],
   "execution_count": 257
  },
  {
   "metadata": {
    "ExecuteTime": {
     "end_time": "2024-10-16T07:10:55.867433Z",
     "start_time": "2024-10-16T07:10:55.857760Z"
    }
   },
   "cell_type": "code",
   "source": [
    "def cosine_sim(vec1, vec2):\n",
    "    norm_vec1 = np.linalg.norm(vec1)\n",
    "    norm_vec2 = np.linalg.norm(vec2)\n",
    "    \n",
    "    if norm_vec1 == 0 or norm_vec2 == 0:\n",
    "        return 0.0 \n",
    "    \n",
    "    return np.dot(vec1, vec2) / (norm_vec1 * norm_vec2)\n",
    "\n",
    "def find_closest_columns(query_embeddings, column_embeddings, top_n=5):\n",
    "    column_similarities = {}\n",
    "\n",
    "    for col, col_vec in column_embeddings.items():\n",
    "        similarities = [cosine_sim(col_vec, q_vec) for q_vec in query_embeddings if np.linalg.norm(q_vec) > 0]\n",
    "        column_similarities[col] = np.mean(similarities) if similarities else -1\n",
    "\n",
    "    sorted_columns = sorted(column_similarities.items(), key=lambda item: item[1], reverse=True)\n",
    "    \n",
    "    return [col for col, sim in sorted_columns[:top_n]]\n",
    "\n",
    "top_columns = find_closest_columns(query_embeddings, column_embeddings, top_n=5)\n",
    "\n",
    "print(\"Top columns:\", top_columns)"
   ],
   "id": "722b0cf94ae3ac97",
   "outputs": [
    {
     "name": "stdout",
     "output_type": "stream",
     "text": [
      "Top columns: []\n"
     ]
    }
   ],
   "execution_count": 258
  },
  {
   "metadata": {
    "ExecuteTime": {
     "end_time": "2024-10-16T07:10:55.878502Z",
     "start_time": "2024-10-16T07:10:55.870447Z"
    }
   },
   "cell_type": "code",
   "source": "context_df = pd.concat([context_df_person, context_df_movie], axis=0)",
   "id": "1d5f671d2ea71901",
   "outputs": [],
   "execution_count": 259
  },
  {
   "metadata": {
    "ExecuteTime": {
     "end_time": "2024-10-16T07:10:55.900310Z",
     "start_time": "2024-10-16T07:10:55.886213Z"
    }
   },
   "cell_type": "code",
   "source": "context_df[top_columns]",
   "id": "7c34a460909553e2",
   "outputs": [
    {
     "data": {
      "text/plain": [
       "Empty DataFrame\n",
       "Columns: []\n",
       "Index: [The Godfather]"
      ],
      "text/html": [
       "<div>\n",
       "<style scoped>\n",
       "    .dataframe tbody tr th:only-of-type {\n",
       "        vertical-align: middle;\n",
       "    }\n",
       "\n",
       "    .dataframe tbody tr th {\n",
       "        vertical-align: top;\n",
       "    }\n",
       "\n",
       "    .dataframe thead th {\n",
       "        text-align: right;\n",
       "    }\n",
       "</style>\n",
       "<table border=\"1\" class=\"dataframe\">\n",
       "  <thead>\n",
       "    <tr style=\"text-align: right;\">\n",
       "      <th>Predicate</th>\n",
       "    </tr>\n",
       "  </thead>\n",
       "  <tbody>\n",
       "    <tr>\n",
       "      <th>The Godfather</th>\n",
       "    </tr>\n",
       "  </tbody>\n",
       "</table>\n",
       "</div>"
      ]
     },
     "execution_count": 260,
     "metadata": {},
     "output_type": "execute_result"
    }
   ],
   "execution_count": 260
  },
  {
   "metadata": {
    "ExecuteTime": {
     "end_time": "2024-10-16T07:10:56.215406Z",
     "start_time": "2024-10-16T07:10:55.931871Z"
    }
   },
   "cell_type": "code",
   "source": [
    "# Introduce a swift llm that can generate the answer based on the context_df\n",
    "from transformers import pipeline\n",
    "\n",
    "# Load pre-trained DistilBERT model for question answering\n",
    "qa_model = pipeline(\"question-answering\", model=\"distilbert-base-cased-distilled-squad\", top_k=1)"
   ],
   "id": "801a70527d2cce60",
   "outputs": [],
   "execution_count": 261
  },
  {
   "metadata": {
    "ExecuteTime": {
     "end_time": "2024-10-16T07:10:56.308264Z",
     "start_time": "2024-10-16T07:10:56.244004Z"
    }
   },
   "cell_type": "code",
   "source": [
    "# Context and query\n",
    "context = \"\"\n",
    "for index, row in context_df.iterrows():\n",
    "    row_context = \" \".join([f\"{col}: {row[col]}\" for col in context_df[top_columns].columns])\n",
    "    context += row_context + \" \"\n",
    "\n",
    "# Generate the answer\n",
    "output = qa_model(question=query, context=context)\n",
    "\n",
    "answer_str = str()\n",
    "if isinstance(output, list):\n",
    "    answer_str = \", \".join([result['answer'] for result in output])\n",
    "elif isinstance(output, dict):\n",
    "    answer_str = output['answer']\n",
    "\n",
    "if not answer_str:\n",
    "    answer_str = \"No answer found.\""
   ],
   "id": "5f18fa17907efff1",
   "outputs": [],
   "execution_count": 262
  },
  {
   "metadata": {
    "ExecuteTime": {
     "end_time": "2024-10-16T07:15:30.540620Z",
     "start_time": "2024-10-16T07:15:30.528227Z"
    }
   },
   "cell_type": "code",
   "source": [
    "print(f\"DB:\\n{json.dumps(context_df_movie.to_dict(), indent=2)}\\n\")\n",
    "print(f\"Columns:\\n{context_df[top_columns]}\\n\")\n",
    "print(f\"Context:\\n{context}\\n\")"
   ],
   "id": "b77d4565734baccb",
   "outputs": [
    {
     "name": "stdout",
     "output_type": "stream",
     "text": [
      "DB:\n",
      "{\n",
      "  \"BBFC rating\": {\n",
      "    \"The Godfather\": \"15 certificate, X certificate, 18 certificate\"\n",
      "  },\n",
      "  \"CNC film rating (France)\": {\n",
      "    \"The Godfather\": \"no minors under twelve\"\n",
      "  },\n",
      "  \"FSK film rating\": {\n",
      "    \"The Godfather\": \"FSK 16\"\n",
      "  },\n",
      "  \"IMDb ID\": {\n",
      "    \"The Godfather\": \"tt0068646, tt0442674\"\n",
      "  },\n",
      "  \"after a work by\": {\n",
      "    \"The Godfather\": \"Mario Puzo\"\n",
      "  },\n",
      "  \"aspect ratio\": {\n",
      "    \"The Godfather\": \"widescreen\"\n",
      "  },\n",
      "  \"assessment\": {\n",
      "    \"The Godfather\": \"Bechdel test, reverse Bechdel Test, Mako Mori test\"\n",
      "  },\n",
      "  \"author\": {\n",
      "    \"The Godfather\": \"Mario Puzo\"\n",
      "  },\n",
      "  \"award received\": {\n",
      "    \"The Godfather\": \"Academy Award for Best Actor, Academy Award for Best Writing, Adapted Screenplay, National Film Registry, Academy Award for Best Picture\"\n",
      "  },\n",
      "  \"based on\": {\n",
      "    \"The Godfather\": \"The Godfather, The Mook, the Chef, the Wife and Her Homer, The Godfather Part II\"\n",
      "  },\n",
      "  \"box office\": {\n",
      "    \"The Godfather\": \"268500000\"\n",
      "  },\n",
      "  \"cast member\": {\n",
      "    \"The Godfather\": \"Saro Urz\\u00ec, Morgana King, John Cazale, Corrado Gaipa, Sterling Hayden, Roman Coppola, Lenny Montana, Richard S. Castellano, Gianni Russo, Robert Duvall, Rudy Bond, John Marley, Tony King, Sofia Coppola, Alex Rocco, Al Lettieri, Diane Keaton, Tony Giorgio, Nick Vallelonga, Al Pacino, Richard Conte, Carmine Coppola, Marlon Brando, Simonetta Stefanelli, Al Martino, Raymond Martino, Abe Vigoda, Franco Citti, Richard Bright, Julie Gregg, Vito Scotti, James Caan, Ron Gilbert, Angelo Infanti, Johnny Martino, Victor Rendina, Talia Shire, Joe Spinell\"\n",
      "  },\n",
      "  \"characters\": {\n",
      "    \"The Godfather\": \"Vito Corleone\"\n",
      "  },\n",
      "  \"color\": {\n",
      "    \"The Godfather\": \"color\"\n",
      "  },\n",
      "  \"costume designer\": {\n",
      "    \"The Godfather\": \"Anna Hill Johnstone\"\n",
      "  },\n",
      "  \"country of origin\": {\n",
      "    \"The Godfather\": \"United States of America, Italy\"\n",
      "  },\n",
      "  \"ddis:tag\": {\n",
      "    \"The Godfather\": \"revenge, dramatic, violence, atmospheric, entertaining, action, murder, boring, cult\"\n",
      "  },\n",
      "  \"derivative work\": {\n",
      "    \"The Godfather\": \"The Godfather, The Godfather Part II\"\n",
      "  },\n",
      "  \"different from\": {\n",
      "    \"The Godfather\": \"The Godfather Saga\"\n",
      "  },\n",
      "  \"director\": {\n",
      "    \"The Godfather\": \"Francis Ford Coppola\"\n",
      "  },\n",
      "  \"director of photography\": {\n",
      "    \"The Godfather\": \"Gordon Willis\"\n",
      "  },\n",
      "  \"distributed by\": {\n",
      "    \"The Godfather\": \"FandangoNow, Netflix, Paramount Pictures\"\n",
      "  },\n",
      "  \"distribution format\": {\n",
      "    \"The Godfather\": \"video on demand, digital distribution, digital download\"\n",
      "  },\n",
      "  \"executive producer\": {\n",
      "    \"The Godfather\": \"Robert Evans\"\n",
      "  },\n",
      "  \"film editor\": {\n",
      "    \"The Godfather\": \"William H. Reynolds, Peter Zinner\"\n",
      "  },\n",
      "  \"filming location\": {\n",
      "    \"The Godfather\": \"New Jersey, Long Island, New York City, Sicily\"\n",
      "  },\n",
      "  \"followed by\": {\n",
      "    \"The Godfather\": \"The Godfather II\"\n",
      "  },\n",
      "  \"follows\": {\n",
      "    \"The Godfather\": \"The Godfather II, Fools Die, The Godfather Part II\"\n",
      "  },\n",
      "  \"form of creative work\": {\n",
      "    \"The Godfather\": \"novel\"\n",
      "  },\n",
      "  \"genre\": {\n",
      "    \"The Godfather\": \"gangster film, crime novel, drama, crime film, film based on a novel\"\n",
      "  },\n",
      "  \"has part\": {\n",
      "    \"The Godfather\": \"The Godfather trilogy\"\n",
      "  },\n",
      "  \"image\": {\n",
      "    \"The Godfather\": \"https://commons.wikimedia.org/wiki/File:The_Godfather.png\"\n",
      "  },\n",
      "  \"influenced by\": {\n",
      "    \"The Godfather\": \"Purvis Short\"\n",
      "  },\n",
      "  \"instance of\": {\n",
      "    \"The Godfather\": \"video game, film, literary work\"\n",
      "  },\n",
      "  \"language of work or name\": {\n",
      "    \"The Godfather\": \"English\"\n",
      "  },\n",
      "  \"main subject\": {\n",
      "    \"The Godfather\": \"organized crime\"\n",
      "  },\n",
      "  \"movement\": {\n",
      "    \"The Godfather\": \"New Hollywood\"\n",
      "  },\n",
      "  \"narrative location\": {\n",
      "    \"The Godfather\": \"Los Angeles, New York City\"\n",
      "  },\n",
      "  \"node description\": {\n",
      "    \"The Godfather\": \"1969 novel by Mario Puzo, 1972 American film directed by Francis Ford Coppola, 2006 open world action-adventure video game\"\n",
      "  },\n",
      "  \"name\": {\n",
      "    \"The Godfather\": \"The Godfather\"\n",
      "  },\n",
      "  \"nominated for\": {\n",
      "    \"The Godfather\": \"Academy Award for Best Writing, Adapted Screenplay, Academy Award for Best Original Dramatic Score, Academy Award for Best Sound, Academy Award for Best Costume Design, Academy Award for Best Director, Academy Award for Best Picture, Academy Award for Best Actor, Academy Award for Best Film Editing, Academy Award for Best Supporting Actor\"\n",
      "  },\n",
      "  \"notable work\": {\n",
      "    \"The Godfather\": \"Francis Ford Coppola, Mario Puzo, Marlon Brando\"\n",
      "  },\n",
      "  \"original film format\": {\n",
      "    \"The Godfather\": \"35 mm film\"\n",
      "  },\n",
      "  \"original language of film or TV show\": {\n",
      "    \"The Godfather\": \"English, Italian\"\n",
      "  },\n",
      "  \"part of the series\": {\n",
      "    \"The Godfather\": \"The Godfather trilogy\"\n",
      "  },\n",
      "  \"performer\": {\n",
      "    \"The Godfather\": \"Nino Rota\"\n",
      "  },\n",
      "  \"platform\": {\n",
      "    \"The Godfather\": \"Microsoft Windows, Wii, PlayStation 2\"\n",
      "  },\n",
      "  \"present in work\": {\n",
      "    \"The Godfather\": \"Vito Corleone, Mark McCluskey\"\n",
      "  },\n",
      "  \"production company\": {\n",
      "    \"The Godfather\": \"Alfran Productions, Paramount Pictures\"\n",
      "  },\n",
      "  \"production designer\": {\n",
      "    \"The Godfather\": \"Dean Tavoularis\"\n",
      "  },\n",
      "  \"release date publication\": {\n",
      "    \"The Godfather\": \"1972-03-15, 1969-03-10, 2006-03-21\"\n",
      "  },\n",
      "  \"publisher\": {\n",
      "    \"The Godfather\": \"Electronic Arts\"\n",
      "  },\n",
      "  \"screenwriter\": {\n",
      "    \"The Godfather\": \"Mario Puzo, Francis Ford Coppola\"\n",
      "  }\n",
      "}\n",
      "\n",
      "Columns:\n",
      "Empty DataFrame\n",
      "Columns: []\n",
      "Index: [The Godfather]\n",
      "\n",
      "Context:\n",
      " \n",
      "\n"
     ]
    }
   ],
   "execution_count": 267
  },
  {
   "metadata": {
    "ExecuteTime": {
     "end_time": "2024-10-16T07:15:56.407344Z",
     "start_time": "2024-10-16T07:15:56.404132Z"
    }
   },
   "cell_type": "code",
   "source": [
    "print(f\"LLM output:\\n{output}\\n\")\n",
    "print(f\"Question:\\n{query}\\n\")\n",
    "print(f\"Answer:\\n{answer_str}\")"
   ],
   "id": "6f29d0fd3cbd3b55",
   "outputs": [
    {
     "name": "stdout",
     "output_type": "stream",
     "text": [
      "LLM output:\n",
      "{'score': 0.0, 'start': 0, 'end': 0, 'answer': ''}\n",
      "\n",
      "Question:\n",
      "When was 'The Godfather' released?\n",
      "\n",
      "Answer:\n",
      "No answer found.\n"
     ]
    }
   ],
   "execution_count": 268
  },
  {
   "metadata": {},
   "cell_type": "code",
   "outputs": [],
   "execution_count": null,
   "source": "",
   "id": "5879f3a06f307334"
  }
 ],
 "metadata": {
  "kernelspec": {
   "display_name": "Python 3",
   "language": "python",
   "name": "python3"
  },
  "language_info": {
   "codemirror_mode": {
    "name": "ipython",
    "version": 2
   },
   "file_extension": ".py",
   "mimetype": "text/x-python",
   "name": "python",
   "nbconvert_exporter": "python",
   "pygments_lexer": "ipython2",
   "version": "2.7.6"
  }
 },
 "nbformat": 4,
 "nbformat_minor": 5
}
