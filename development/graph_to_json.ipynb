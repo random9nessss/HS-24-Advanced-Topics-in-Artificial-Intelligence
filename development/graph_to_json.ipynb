{
 "cells": [
  {
   "metadata": {
    "ExecuteTime": {
     "end_time": "2024-10-21T10:35:18.167188Z",
     "start_time": "2024-10-21T10:35:16.827754Z"
    }
   },
   "cell_type": "code",
   "source": [
    "from question_types.sparql import SparqlQueries\n",
    "from rdflib.namespace import RDFS\n",
    "import pandas as pd\n",
    "import unicodedata\n",
    "import re"
   ],
   "id": "45f3055f58c0b370",
   "outputs": [],
   "execution_count": 1
  },
  {
   "metadata": {
    "collapsed": true,
    "ExecuteTime": {
     "end_time": "2024-10-21T10:36:44.857344Z",
     "start_time": "2024-10-21T10:35:18.180476Z"
    }
   },
   "cell_type": "code",
   "source": "sparql = SparqlQueries(\"../dataset/14_graph.nt\")",
   "id": "initial_id",
   "outputs": [
    {
     "name": "stderr",
     "output_type": "stream",
     "text": [
      "2024-10-21 12:35:18,185 | INFO | __init__ | \u001B[92mParsing graph\u001B[0m\n",
      "2024-10-21 12:36:44,853 | INFO | __init__ | \u001B[92mGraph parsed\u001B[0m\n"
     ]
    }
   ],
   "execution_count": 2
  },
  {
   "metadata": {
    "ExecuteTime": {
     "end_time": "2024-10-21T10:36:45.206207Z",
     "start_time": "2024-10-21T10:36:45.196725Z"
    }
   },
   "cell_type": "code",
   "source": [
    "def normalize_string(s):\n",
    "    \"\"\"Cleans the input entity to a uniform naming convention, by removing non ascii characters, encoding it to utf, setting it to lowercase, and removing redundant spaces\"\"\"\n",
    "    s = s.lower()\n",
    "    s = unicodedata.normalize('NFKD', s)\n",
    "    s = s.encode('ascii', 'ignore').decode('utf-8')\n",
    "    s = re.sub(r'[^\\w\\s]', '', s)\n",
    "    s = ' '.join(s.split())\n",
    "    return s"
   ],
   "id": "49db034300379f2c",
   "outputs": [],
   "execution_count": 3
  },
  {
   "metadata": {
    "ExecuteTime": {
     "end_time": "2024-10-21T10:36:50.455846Z",
     "start_time": "2024-10-21T10:36:45.236513Z"
    }
   },
   "cell_type": "code",
   "source": [
    "def get_label(graph, uri):\n",
    "    \"\"\"Function to get the rdfs:label or schema:name for a URI if available.\"\"\"\n",
    "    for label in graph.objects(uri, RDFS.label):\n",
    "        return normalize_string(str(label))\n",
    "    \n",
    "    schema_name = \"http://schema.org/name\"\n",
    "    \n",
    "    for label in graph.objects(uri, graph.namespace_manager.compute_qname(schema_name)[2]):\n",
    "        return normalize_string(str(label))\n",
    "    \n",
    "    return decode_uri(uri)\n",
    "\n",
    "schema_mapping = {\n",
    "    \"http://ddis.ch/atai/\": \"ddis\",\n",
    "    \"http://www.wikidata.org/entity/\": \"wd\",\n",
    "    \"http://www.wikidata.org/prop/direct/\": \"wdt\",\n",
    "    \"http://schema.org/\": \"schema\"\n",
    "}\n",
    "\n",
    "def decode_uri(uri):\n",
    "    \"\"\"Helper function to replace full URIs with prefixes and extract local names\"\"\"\n",
    "    for schema, prefix in schema_mapping.items():\n",
    "        if uri.startswith(schema):\n",
    "            return f\"{prefix}:{uri[len(schema):]}\" \n",
    "    return uri\n",
    "\n",
    "triples_data = [(subject_id, predicate_id, object_id) for subject_id, predicate_id, object_id in sparql.graph]\n",
    "\n",
    "df_triples = pd.DataFrame(triples_data, columns=['subject_id', 'predicate_id', 'object_id'])"
   ],
   "id": "f9bf514ac33e5dc1",
   "outputs": [],
   "execution_count": 4
  },
  {
   "metadata": {
    "ExecuteTime": {
     "end_time": "2024-10-21T10:44:25.194523Z",
     "start_time": "2024-10-21T10:36:50.491467Z"
    }
   },
   "cell_type": "code",
   "source": [
    "subject_as_object_set = set(df_triples['subject_id']).intersection(set(df_triples['object_id']))\n",
    "print(\"Stage 1 - subject_ids that are also objects:\", len(subject_as_object_set))\n",
    "\n",
    "object_to_subjects_predicates = {}\n",
    "for index, row in df_triples.iterrows():\n",
    "    if row['object_id'] in subject_as_object_set:\n",
    "        if row['object_id'] not in object_to_subjects_predicates:\n",
    "            object_to_subjects_predicates[row['object_id']] = []\n",
    "        object_to_subjects_predicates[row['object_id']].append((row['subject_id'], row['predicate_id']))\n",
    "\n",
    "new_triples_data = df_triples.values.tolist()\n",
    "for index, row in df_triples.iterrows():\n",
    "    if row['subject_id'] in object_to_subjects_predicates:\n",
    "        new_triples_data.extend([(row['subject_id'], predicate, new_object) for new_object, predicate in object_to_subjects_predicates[row['subject_id']]])\n",
    "\n",
    "print(\"Stage 2 - Newly added triples:\", len(new_triples_data) - len(df_triples))\n",
    "\n",
    "df_new_triples = pd.DataFrame(new_triples_data, columns=['subject_id', 'predicate_id', 'object_id'])\n",
    "df_new_triples.head()"
   ],
   "id": "ed4c7f97fac2c03f",
   "outputs": [
    {
     "name": "stdout",
     "output_type": "stream",
     "text": [
      "Stage 1 - subject_ids that are also objects: 136263\n",
      "Stage 2 - Newly added triples: 48741780\n"
     ]
    },
    {
     "data": {
      "text/plain": [
       "                                 subject_id  \\\n",
       "0    http://www.wikidata.org/entity/Q859143   \n",
       "1  http://www.wikidata.org/entity/Q41689629   \n",
       "2    http://www.wikidata.org/entity/Q583407   \n",
       "3   http://www.wikidata.org/entity/Q1211241   \n",
       "4    http://www.wikidata.org/entity/Q128934   \n",
       "\n",
       "                                 predicate_id  \\\n",
       "0               http://schema.org/description   \n",
       "1  http://www.w3.org/2000/01/rdf-schema#label   \n",
       "2    http://www.wikidata.org/prop/direct/P161   \n",
       "3    http://www.wikidata.org/prop/direct/P272   \n",
       "4    http://www.wikidata.org/prop/direct/P161   \n",
       "\n",
       "                                    object_id  \n",
       "0  1996 film by Stanley Tucci, Campbell Scott  \n",
       "1                                   procedure  \n",
       "2     http://www.wikidata.org/entity/Q6120204  \n",
       "3     http://www.wikidata.org/entity/Q1033465  \n",
       "4       http://www.wikidata.org/entity/Q26806  "
      ],
      "text/html": [
       "<div>\n",
       "<style scoped>\n",
       "    .dataframe tbody tr th:only-of-type {\n",
       "        vertical-align: middle;\n",
       "    }\n",
       "\n",
       "    .dataframe tbody tr th {\n",
       "        vertical-align: top;\n",
       "    }\n",
       "\n",
       "    .dataframe thead th {\n",
       "        text-align: right;\n",
       "    }\n",
       "</style>\n",
       "<table border=\"1\" class=\"dataframe\">\n",
       "  <thead>\n",
       "    <tr style=\"text-align: right;\">\n",
       "      <th></th>\n",
       "      <th>subject_id</th>\n",
       "      <th>predicate_id</th>\n",
       "      <th>object_id</th>\n",
       "    </tr>\n",
       "  </thead>\n",
       "  <tbody>\n",
       "    <tr>\n",
       "      <th>0</th>\n",
       "      <td>http://www.wikidata.org/entity/Q859143</td>\n",
       "      <td>http://schema.org/description</td>\n",
       "      <td>1996 film by Stanley Tucci, Campbell Scott</td>\n",
       "    </tr>\n",
       "    <tr>\n",
       "      <th>1</th>\n",
       "      <td>http://www.wikidata.org/entity/Q41689629</td>\n",
       "      <td>http://www.w3.org/2000/01/rdf-schema#label</td>\n",
       "      <td>procedure</td>\n",
       "    </tr>\n",
       "    <tr>\n",
       "      <th>2</th>\n",
       "      <td>http://www.wikidata.org/entity/Q583407</td>\n",
       "      <td>http://www.wikidata.org/prop/direct/P161</td>\n",
       "      <td>http://www.wikidata.org/entity/Q6120204</td>\n",
       "    </tr>\n",
       "    <tr>\n",
       "      <th>3</th>\n",
       "      <td>http://www.wikidata.org/entity/Q1211241</td>\n",
       "      <td>http://www.wikidata.org/prop/direct/P272</td>\n",
       "      <td>http://www.wikidata.org/entity/Q1033465</td>\n",
       "    </tr>\n",
       "    <tr>\n",
       "      <th>4</th>\n",
       "      <td>http://www.wikidata.org/entity/Q128934</td>\n",
       "      <td>http://www.wikidata.org/prop/direct/P161</td>\n",
       "      <td>http://www.wikidata.org/entity/Q26806</td>\n",
       "    </tr>\n",
       "  </tbody>\n",
       "</table>\n",
       "</div>"
      ]
     },
     "execution_count": 5,
     "metadata": {},
     "output_type": "execute_result"
    }
   ],
   "execution_count": 5
  },
  {
   "metadata": {
    "ExecuteTime": {
     "end_time": "2024-10-21T10:55:15.867520Z",
     "start_time": "2024-10-21T10:52:41.341398Z"
    }
   },
   "cell_type": "code",
   "source": [
    "df_new_triples = df_new_triples.drop_duplicates()\n",
    "\n",
    "df_new_triples['subject_label'] = df_new_triples['subject_id'].apply(lambda x: get_label(sparql.graph, x))\n",
    "df_new_triples['predicate_label'] = df_new_triples['predicate_id'].apply(lambda x: get_label(sparql.graph, x))\n",
    "df_new_triples['object_label'] = df_new_triples['object_id'].apply(lambda x: get_label(sparql.graph, x))\n",
    "\n",
    "df_grouped_new = df_new_triples.groupby(['subject_id', 'subject_label', 'predicate_label'])['object_label'].agg(lambda x: ','.join(x)).reset_index()\n",
    "\n",
    "df_grouped_new = df_grouped_new.drop_duplicates()\n",
    "\n",
    "df_grouped_new = df_grouped_new[df_grouped_new['subject_label'] != \"\"]\n",
    "df_grouped_new = df_grouped_new[df_grouped_new['subject_label'].str.len() > 3]\n",
    "\n",
    "# print(df_grouped_new[df_grouped_new['subject_id'].str.contains('Q13909')])"
   ],
   "id": "1261aafaaf5b8f22",
   "outputs": [],
   "execution_count": 9
  },
  {
   "metadata": {
    "ExecuteTime": {
     "end_time": "2024-10-21T10:55:25.015043Z",
     "start_time": "2024-10-21T10:55:15.867520Z"
    }
   },
   "cell_type": "code",
   "source": [
    "df_grouped_new.to_pickle(\"./exports/extended_graph_triples.pkl\")\n",
    "df_grouped_new.to_csv(\"./exports/extended_graph_triples.csv\")"
   ],
   "id": "88dace139c6be0a1",
   "outputs": [],
   "execution_count": 10
  },
  {
   "metadata": {
    "ExecuteTime": {
     "end_time": "2024-10-21T10:48:13.202640Z",
     "start_time": "2024-10-21T10:48:13.196581Z"
    }
   },
   "cell_type": "code",
   "source": "",
   "id": "6939d9bf41bcaf6f",
   "outputs": [],
   "execution_count": null
  }
 ],
 "metadata": {
  "kernelspec": {
   "display_name": "Python 3",
   "language": "python",
   "name": "python3"
  },
  "language_info": {
   "codemirror_mode": {
    "name": "ipython",
    "version": 2
   },
   "file_extension": ".py",
   "mimetype": "text/x-python",
   "name": "python",
   "nbconvert_exporter": "python",
   "pygments_lexer": "ipython2",
   "version": "2.7.6"
  }
 },
 "nbformat": 4,
 "nbformat_minor": 5
}
