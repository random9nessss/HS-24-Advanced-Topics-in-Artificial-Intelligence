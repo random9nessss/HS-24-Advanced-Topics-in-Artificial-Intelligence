{
 "cells": [
  {
   "metadata": {
    "ExecuteTime": {
     "end_time": "2024-10-18T11:03:39.467076Z",
     "start_time": "2024-10-18T11:03:39.061418Z"
    }
   },
   "cell_type": "code",
   "source": [
    "from question_types.sparql import SparqlQueries\n",
    "from rdflib.namespace import RDFS\n",
    "import pandas as pd\n",
    "import unicodedata\n",
    "import re"
   ],
   "id": "45f3055f58c0b370",
   "outputs": [],
   "execution_count": 1
  },
  {
   "metadata": {
    "collapsed": true,
    "ExecuteTime": {
     "end_time": "2024-10-18T11:04:25.682038Z",
     "start_time": "2024-10-18T11:03:39.467076Z"
    }
   },
   "cell_type": "code",
   "source": "sparql = SparqlQueries(\"../dataset/14_graph.nt\")",
   "id": "initial_id",
   "outputs": [
    {
     "name": "stderr",
     "output_type": "stream",
     "text": [
      "2024-10-18 13:03:39,476 | INFO | __init__ | \u001B[92mParsing graph\u001B[0m\n",
      "2024-10-18 13:04:25,678 | INFO | __init__ | \u001B[92mGraph parsed\u001B[0m\n"
     ]
    }
   ],
   "execution_count": 2
  },
  {
   "metadata": {
    "ExecuteTime": {
     "end_time": "2024-10-18T11:04:25.883377Z",
     "start_time": "2024-10-18T11:04:25.877113Z"
    }
   },
   "cell_type": "code",
   "source": [
    "def normalize_string(s):\n",
    "    \"\"\"Cleans the input entity to a uniform naming convention, by removing non ascii characters, encoding it to utf, setting it to lowercase, and removing redundant spaces\"\"\"\n",
    "    s = s.lower()\n",
    "    s = unicodedata.normalize('NFKD', s)\n",
    "    s = s.encode('ascii', 'ignore').decode('utf-8')\n",
    "    s = re.sub(r'[^\\w\\s]', '', s)\n",
    "    s = ' '.join(s.split())\n",
    "    return s"
   ],
   "id": "49db034300379f2c",
   "outputs": [],
   "execution_count": 3
  },
  {
   "metadata": {
    "ExecuteTime": {
     "end_time": "2024-10-18T11:04:29.189712Z",
     "start_time": "2024-10-18T11:04:25.907749Z"
    }
   },
   "cell_type": "code",
   "source": [
    "def get_label(graph, uri):\n",
    "    \"\"\"Function to get the rdfs:label or schema:name for a URI if available.\"\"\"\n",
    "    for label in graph.objects(uri, RDFS.label):\n",
    "        return normalize_string(str(label))\n",
    "    \n",
    "    schema_name = \"http://schema.org/name\"\n",
    "    \n",
    "    for label in graph.objects(uri, graph.namespace_manager.compute_qname(schema_name)[2]):\n",
    "        return normalize_string(str(label))\n",
    "    \n",
    "    return decode_uri(uri)\n",
    "\n",
    "schema_mapping = {\n",
    "    \"http://ddis.ch/atai/\": \"ddis\",\n",
    "    \"http://www.wikidata.org/entity/\": \"wd\",\n",
    "    \"http://www.wikidata.org/prop/direct/\": \"wdt\",\n",
    "    \"http://schema.org/\": \"schema\"\n",
    "}\n",
    "\n",
    "def decode_uri(uri):\n",
    "    \"\"\"Helper function to replace full URIs with prefixes and extract local names\"\"\"\n",
    "    for schema, prefix in schema_mapping.items():\n",
    "        if uri.startswith(schema):\n",
    "            return f\"{prefix}:{uri[len(schema):]}\" \n",
    "    return uri\n",
    "\n",
    "triples_data = [(subject_id, predicate_id, object_id) for subject_id, predicate_id, object_id in sparql.graph]\n",
    "\n",
    "df_triples = pd.DataFrame(triples_data, columns=['subject_id', 'predicate_id', 'object_id'])"
   ],
   "id": "f9bf514ac33e5dc1",
   "outputs": [],
   "execution_count": 4
  },
  {
   "metadata": {
    "ExecuteTime": {
     "end_time": "2024-10-18T11:08:20.892995Z",
     "start_time": "2024-10-18T11:04:29.200871Z"
    }
   },
   "cell_type": "code",
   "source": [
    "subject_as_object_set = set(df_triples['subject_id']).intersection(set(df_triples['object_id']))\n",
    "print(\"Stage 1 - subject_ids that are also objects:\", len(subject_as_object_set))\n",
    "\n",
    "object_to_subjects_predicates = {}\n",
    "for index, row in df_triples.iterrows():\n",
    "    if row['object_id'] in subject_as_object_set:\n",
    "        if row['object_id'] not in object_to_subjects_predicates:\n",
    "            object_to_subjects_predicates[row['object_id']] = []\n",
    "        object_to_subjects_predicates[row['object_id']].append((row['subject_id'], row['predicate_id']))\n",
    "\n",
    "new_triples_data = df_triples.values.tolist()\n",
    "for index, row in df_triples.iterrows():\n",
    "    if row['subject_id'] in object_to_subjects_predicates:\n",
    "        new_triples_data.extend([(row['subject_id'], predicate, new_object) for new_object, predicate in object_to_subjects_predicates[row['subject_id']]])\n",
    "\n",
    "print(\"Stage 2 - Newly added triples:\", len(new_triples_data) - len(df_triples))\n",
    "\n",
    "df_new_triples = pd.DataFrame(new_triples_data, columns=['subject_id', 'predicate_id', 'object_id'])\n",
    "df_new_triples.head()"
   ],
   "id": "ed4c7f97fac2c03f",
   "outputs": [
    {
     "name": "stdout",
     "output_type": "stream",
     "text": [
      "Stage 1 - subject_ids that are also objects: 136263\n",
      "Stage 2 - Newly added triples: 48741780\n"
     ]
    },
    {
     "data": {
      "text/plain": [
       "                                subject_id  \\\n",
       "0  http://www.wikidata.org/entity/Q5964032   \n",
       "1  http://www.wikidata.org/entity/Q3617582   \n",
       "2   http://www.wikidata.org/entity/Q163868   \n",
       "3   http://www.wikidata.org/entity/Q302181   \n",
       "4   http://www.wikidata.org/entity/Q337840   \n",
       "\n",
       "                               predicate_id  \\\n",
       "0  http://www.wikidata.org/prop/direct/P750   \n",
       "1   http://www.wikidata.org/prop/direct/P27   \n",
       "2  http://www.wikidata.org/prop/direct/P161   \n",
       "3  http://www.wikidata.org/prop/direct/P437   \n",
       "4  http://www.wikidata.org/prop/direct/P136   \n",
       "\n",
       "                                 object_id  \n",
       "0   http://www.wikidata.org/entity/Q907311  \n",
       "1       http://www.wikidata.org/entity/Q38  \n",
       "2  http://www.wikidata.org/entity/Q3369287  \n",
       "3   http://www.wikidata.org/entity/Q723685  \n",
       "4   http://www.wikidata.org/entity/Q205049  "
      ],
      "text/html": [
       "<div>\n",
       "<style scoped>\n",
       "    .dataframe tbody tr th:only-of-type {\n",
       "        vertical-align: middle;\n",
       "    }\n",
       "\n",
       "    .dataframe tbody tr th {\n",
       "        vertical-align: top;\n",
       "    }\n",
       "\n",
       "    .dataframe thead th {\n",
       "        text-align: right;\n",
       "    }\n",
       "</style>\n",
       "<table border=\"1\" class=\"dataframe\">\n",
       "  <thead>\n",
       "    <tr style=\"text-align: right;\">\n",
       "      <th></th>\n",
       "      <th>subject_id</th>\n",
       "      <th>predicate_id</th>\n",
       "      <th>object_id</th>\n",
       "    </tr>\n",
       "  </thead>\n",
       "  <tbody>\n",
       "    <tr>\n",
       "      <th>0</th>\n",
       "      <td>http://www.wikidata.org/entity/Q5964032</td>\n",
       "      <td>http://www.wikidata.org/prop/direct/P750</td>\n",
       "      <td>http://www.wikidata.org/entity/Q907311</td>\n",
       "    </tr>\n",
       "    <tr>\n",
       "      <th>1</th>\n",
       "      <td>http://www.wikidata.org/entity/Q3617582</td>\n",
       "      <td>http://www.wikidata.org/prop/direct/P27</td>\n",
       "      <td>http://www.wikidata.org/entity/Q38</td>\n",
       "    </tr>\n",
       "    <tr>\n",
       "      <th>2</th>\n",
       "      <td>http://www.wikidata.org/entity/Q163868</td>\n",
       "      <td>http://www.wikidata.org/prop/direct/P161</td>\n",
       "      <td>http://www.wikidata.org/entity/Q3369287</td>\n",
       "    </tr>\n",
       "    <tr>\n",
       "      <th>3</th>\n",
       "      <td>http://www.wikidata.org/entity/Q302181</td>\n",
       "      <td>http://www.wikidata.org/prop/direct/P437</td>\n",
       "      <td>http://www.wikidata.org/entity/Q723685</td>\n",
       "    </tr>\n",
       "    <tr>\n",
       "      <th>4</th>\n",
       "      <td>http://www.wikidata.org/entity/Q337840</td>\n",
       "      <td>http://www.wikidata.org/prop/direct/P136</td>\n",
       "      <td>http://www.wikidata.org/entity/Q205049</td>\n",
       "    </tr>\n",
       "  </tbody>\n",
       "</table>\n",
       "</div>"
      ]
     },
     "execution_count": 5,
     "metadata": {},
     "output_type": "execute_result"
    }
   ],
   "execution_count": 5
  },
  {
   "metadata": {
    "ExecuteTime": {
     "end_time": "2024-10-18T11:10:14.559603Z",
     "start_time": "2024-10-18T11:08:21.837908Z"
    }
   },
   "cell_type": "code",
   "source": [
    "df_new_triples = df_new_triples.drop_duplicates()\n",
    "\n",
    "df_new_triples['subject_label'] = df_new_triples['subject_id'].apply(lambda x: get_label(sparql.graph, x))\n",
    "df_new_triples['predicate_label'] = df_new_triples['predicate_id'].apply(lambda x: get_label(sparql.graph, x))\n",
    "df_new_triples['object_label'] = df_new_triples['object_id'].apply(lambda x: get_label(sparql.graph, x))\n",
    "\n",
    "df_grouped_new = df_new_triples.groupby(['subject_id', 'subject_label', 'predicate_label'])['object_label'].agg(lambda x: ', '.join(x)).reset_index()\n",
    "\n",
    "df_grouped_new = df_grouped_new.drop_duplicates()\n",
    "\n",
    "# print(df_grouped_new[df_grouped_new['subject_id'].str.contains('Q13909')])"
   ],
   "id": "1261aafaaf5b8f22",
   "outputs": [
    {
     "name": "stdout",
     "output_type": "stream",
     "text": [
      "                                     subject_id      subject_label  \\\n",
      "217018    http://www.wikidata.org/entity/Q13909     angelina jolie   \n",
      "217019    http://www.wikidata.org/entity/Q13909     angelina jolie   \n",
      "217020    http://www.wikidata.org/entity/Q13909     angelina jolie   \n",
      "217021    http://www.wikidata.org/entity/Q13909     angelina jolie   \n",
      "217022    http://www.wikidata.org/entity/Q13909     angelina jolie   \n",
      "217023    http://www.wikidata.org/entity/Q13909     angelina jolie   \n",
      "217024    http://www.wikidata.org/entity/Q13909     angelina jolie   \n",
      "217025    http://www.wikidata.org/entity/Q13909     angelina jolie   \n",
      "217026    http://www.wikidata.org/entity/Q13909     angelina jolie   \n",
      "217027    http://www.wikidata.org/entity/Q13909     angelina jolie   \n",
      "217028    http://www.wikidata.org/entity/Q13909     angelina jolie   \n",
      "217029    http://www.wikidata.org/entity/Q13909     angelina jolie   \n",
      "217030    http://www.wikidata.org/entity/Q13909     angelina jolie   \n",
      "217031    http://www.wikidata.org/entity/Q13909     angelina jolie   \n",
      "217032    http://www.wikidata.org/entity/Q13909     angelina jolie   \n",
      "217033    http://www.wikidata.org/entity/Q13909     angelina jolie   \n",
      "217034    http://www.wikidata.org/entity/Q13909     angelina jolie   \n",
      "217035    http://www.wikidata.org/entity/Q13909     angelina jolie   \n",
      "217036    http://www.wikidata.org/entity/Q13909     angelina jolie   \n",
      "217037    http://www.wikidata.org/entity/Q13909     angelina jolie   \n",
      "217038    http://www.wikidata.org/entity/Q13909     angelina jolie   \n",
      "217039    http://www.wikidata.org/entity/Q13909     angelina jolie   \n",
      "217040    http://www.wikidata.org/entity/Q13909     angelina jolie   \n",
      "217041    http://www.wikidata.org/entity/Q13909     angelina jolie   \n",
      "217042    http://www.wikidata.org/entity/Q13909     angelina jolie   \n",
      "217043    http://www.wikidata.org/entity/Q13909     angelina jolie   \n",
      "217044    http://www.wikidata.org/entity/Q13909     angelina jolie   \n",
      "217045    http://www.wikidata.org/entity/Q13909     angelina jolie   \n",
      "217046    http://www.wikidata.org/entity/Q13909     angelina jolie   \n",
      "217047    http://www.wikidata.org/entity/Q13909     angelina jolie   \n",
      "217048    http://www.wikidata.org/entity/Q13909     angelina jolie   \n",
      "217049    http://www.wikidata.org/entity/Q13909     angelina jolie   \n",
      "217050  http://www.wikidata.org/entity/Q1390945  sabina schneebeli   \n",
      "217051  http://www.wikidata.org/entity/Q1390945  sabina schneebeli   \n",
      "217052  http://www.wikidata.org/entity/Q1390945  sabina schneebeli   \n",
      "217053  http://www.wikidata.org/entity/Q1390945  sabina schneebeli   \n",
      "217054  http://www.wikidata.org/entity/Q1390945  sabina schneebeli   \n",
      "217055  http://www.wikidata.org/entity/Q1390945  sabina schneebeli   \n",
      "217056  http://www.wikidata.org/entity/Q1390945  sabina schneebeli   \n",
      "217057  http://www.wikidata.org/entity/Q1390945  sabina schneebeli   \n",
      "217058  http://www.wikidata.org/entity/Q1390945  sabina schneebeli   \n",
      "\n",
      "                           predicate_label  \\\n",
      "217018                      ancestral home   \n",
      "217019                      award received   \n",
      "217020                         cast member   \n",
      "217021                               child   \n",
      "217022              country of citizenship   \n",
      "217023                 described by source   \n",
      "217024                            director   \n",
      "217025                  executive producer   \n",
      "217026                              father   \n",
      "217027                               image   \n",
      "217028                             imdb id   \n",
      "217029                         instance of   \n",
      "217030  languages spoken written or signed   \n",
      "217031                              mother   \n",
      "217032                     native language   \n",
      "217033                    node description   \n",
      "217034                          node label   \n",
      "217035                       nominated for   \n",
      "217036                        notable work   \n",
      "217037                          occupation   \n",
      "217038                           performer   \n",
      "217039                      place of birth   \n",
      "217040                            relative   \n",
      "217041                            religion   \n",
      "217042                           residence   \n",
      "217043                        screenwriter   \n",
      "217044                             sibling   \n",
      "217045                   significant event   \n",
      "217046                              spouse   \n",
      "217047                   unmarried partner   \n",
      "217048                         voice actor   \n",
      "217049                              winner   \n",
      "217050                         cast member   \n",
      "217051              country of citizenship   \n",
      "217052                             imdb id   \n",
      "217053                         instance of   \n",
      "217054                    node description   \n",
      "217055                          node label   \n",
      "217056                          occupation   \n",
      "217057                      place of birth   \n",
      "217058                              spouse   \n",
      "\n",
      "                                             object_label  \n",
      "217018                                            germany  \n",
      "217019  screen actors guild award for outstanding perf...  \n",
      "217020  maleficent, women make film, the bone collecto...  \n",
      "217021                    marcheline bertrand, jon voight  \n",
      "217022                 united states of america, cambodia  \n",
      "217023                                      obalky knihcz  \n",
      "217024  first they killed my father, in the land of bl...  \n",
      "217025                                 difret, maleficent  \n",
      "217026                                         jon voight  \n",
      "217027  https://commons.wikimedia.org/wiki/File:Angeli...  \n",
      "217028                                          nm0001401  \n",
      "217029                                              human  \n",
      "217030                   american english, khmer, english  \n",
      "217031                                marcheline bertrand  \n",
      "217032                                   american english  \n",
      "217033  American actress, filmmaker, screenwriter and ...  \n",
      "217034                                     Angelina Jolie  \n",
      "217035  academy award for best supporting actress, baf...  \n",
      "217036                  gia, girl interrupted, changeling  \n",
      "217037  model, executive producer, actor, writer, film...  \n",
      "217038  maleficent, lola, tigress, amelia sachs, lara ...  \n",
      "217039                                        los angeles  \n",
      "217040                                        chip taylor  \n",
      "217041                                        catholicism  \n",
      "217042                                        los angeles  \n",
      "217043  by the sea, first they killed my father, in th...  \n",
      "217044                                        james haven  \n",
      "217045                                           adoption  \n",
      "217046    jonny lee miller, billy bob thornton, brad pitt  \n",
      "217047                           jenny shimizu, brad pitt  \n",
      "217048  kung fu panda secrets of the masters, kung fu ...  \n",
      "217049  saturn award for best actress, academy award f...  \n",
      "217050                   bon appetit, rascals on the road  \n",
      "217051                                        switzerland  \n",
      "217052                                          nm0773666  \n",
      "217053                                              human  \n",
      "217054                                      Swiss actress  \n",
      "217055                                  Sabina Schneebeli  \n",
      "217056                                              actor  \n",
      "217057                                             zurich  \n",
      "217058                                bernhard bettermann  \n"
     ]
    }
   ],
   "execution_count": 6
  },
  {
   "metadata": {
    "ExecuteTime": {
     "end_time": "2024-10-18T11:10:16.064666Z",
     "start_time": "2024-10-18T11:10:14.589032Z"
    }
   },
   "cell_type": "code",
   "source": [
    "subject_label_df = df_grouped_new[['subject_id', 'subject_label']].copy()\n",
    "\n",
    "subject_label_df = subject_label_df.drop_duplicates()\n",
    "\n",
    "reverse_index = subject_label_df.groupby('subject_label')['subject_id'].agg(lambda x: ', '.join(x)).reset_index()\n",
    "\n",
    "print(reverse_index[reverse_index.subject_label == \"Angelina Jolie\"])"
   ],
   "id": "b3c27963ee3f6efc",
   "outputs": [
    {
     "name": "stdout",
     "output_type": "stream",
     "text": [
      "Empty DataFrame\n",
      "Columns: [subject_label, subject_id]\n",
      "Index: []\n"
     ]
    }
   ],
   "execution_count": 7
  },
  {
   "metadata": {
    "ExecuteTime": {
     "end_time": "2024-10-18T11:10:20.948982Z",
     "start_time": "2024-10-18T11:10:17.009361Z"
    }
   },
   "cell_type": "code",
   "source": [
    "df_grouped_new.to_pickle(\"./exports/extended_graph_triples.pkl\")\n",
    "reverse_index.to_pickle(\"./exports/reverse_index.pkl\")\n",
    "df_grouped_new.to_csv(\"./exports/extended_graph_triples.csv\")"
   ],
   "id": "88dace139c6be0a1",
   "outputs": [],
   "execution_count": 8
  },
  {
   "metadata": {
    "ExecuteTime": {
     "end_time": "2024-10-18T11:10:21.975900Z",
     "start_time": "2024-10-18T11:10:21.972310Z"
    }
   },
   "cell_type": "code",
   "source": "",
   "id": "6939d9bf41bcaf6f",
   "outputs": [],
   "execution_count": null
  }
 ],
 "metadata": {
  "kernelspec": {
   "display_name": "Python 3",
   "language": "python",
   "name": "python3"
  },
  "language_info": {
   "codemirror_mode": {
    "name": "ipython",
    "version": 2
   },
   "file_extension": ".py",
   "mimetype": "text/x-python",
   "name": "python",
   "nbconvert_exporter": "python",
   "pygments_lexer": "ipython2",
   "version": "2.7.6"
  }
 },
 "nbformat": 4,
 "nbformat_minor": 5
}
