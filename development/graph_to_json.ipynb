{
 "cells": [
  {
   "metadata": {
    "ExecuteTime": {
     "end_time": "2024-11-28T13:40:29.579883Z",
     "start_time": "2024-11-28T13:40:27.837812Z"
    }
   },
   "cell_type": "code",
   "source": [
    "from question_types.sparql import SparqlQueries\n",
    "from rdflib.namespace import RDFS\n",
    "import pandas as pd\n",
    "import unicodedata\n",
    "import re"
   ],
   "id": "45f3055f58c0b370",
   "outputs": [],
   "execution_count": 1
  },
  {
   "metadata": {
    "collapsed": true,
    "ExecuteTime": {
     "end_time": "2024-11-28T13:41:14.712818Z",
     "start_time": "2024-11-28T13:40:29.589725Z"
    }
   },
   "cell_type": "code",
   "source": "sparql = SparqlQueries(\"../dataset/14_graph.nt\")",
   "id": "initial_id",
   "outputs": [
    {
     "name": "stderr",
     "output_type": "stream",
     "text": [
      "2024-11-28 14:40:29,597 | INFO | __init__ | Initializing SparqlQueries class...\n",
      "2024-11-28 14:41:14,704 | INFO | __init__ | Graph parsed\n",
      "2024-11-28 14:41:14,704 | INFO | __init__ | ...SparqlQueries class initialized successfully.\n"
     ]
    }
   ],
   "execution_count": 2
  },
  {
   "metadata": {
    "ExecuteTime": {
     "end_time": "2024-11-28T13:41:14.833005Z",
     "start_time": "2024-11-28T13:41:14.825993Z"
    }
   },
   "cell_type": "code",
   "source": [
    "def normalize_string(s):\n",
    "    \"\"\"Cleans the input entity to a uniform naming convention, by removing non ascii characters, encoding it to utf, setting it to lowercase, and removing redundant spaces\"\"\"\n",
    "    s = s.lower()\n",
    "    s = unicodedata.normalize('NFKD', s)\n",
    "    s = s.encode('ascii', 'ignore').decode('utf-8')\n",
    "    s = re.sub(r'[^\\w\\s]', '', s)\n",
    "    s = ' '.join(s.split())\n",
    "    return s"
   ],
   "id": "49db034300379f2c",
   "outputs": [],
   "execution_count": 3
  },
  {
   "metadata": {
    "ExecuteTime": {
     "end_time": "2024-11-28T13:41:17.423828Z",
     "start_time": "2024-11-28T13:41:14.840392Z"
    }
   },
   "cell_type": "code",
   "source": [
    "def get_label(graph, uri):\n",
    "    \"\"\"Function to get the rdfs:label or schema:name for a URI if available.\"\"\"\n",
    "    for label in graph.objects(uri, RDFS.label):\n",
    "        return normalize_string(str(label))\n",
    "    \n",
    "    schema_name = \"http://schema.org/name\"\n",
    "    \n",
    "    for label in graph.objects(uri, graph.namespace_manager.compute_qname(schema_name)[2]):\n",
    "        return normalize_string(str(label))\n",
    "    \n",
    "    return decode_uri(uri)\n",
    "\n",
    "schema_mapping = {\n",
    "    \"http://ddis.ch/atai/\": \"ddis\",\n",
    "    \"http://www.wikidata.org/entity/\": \"wd\",\n",
    "    \"http://www.wikidata.org/prop/direct/\": \"wdt\",\n",
    "    \"http://schema.org/\": \"schema\"\n",
    "}\n",
    "\n",
    "def decode_uri(uri):\n",
    "    \"\"\"Helper function to replace full URIs with prefixes and extract local names\"\"\"\n",
    "    for schema, prefix in schema_mapping.items():\n",
    "        if uri.startswith(schema):\n",
    "            return f\"{prefix}:{uri[len(schema):]}\" \n",
    "    return uri\n",
    "\n",
    "triples_data = [(subject_id, predicate_id, object_id) for subject_id, predicate_id, object_id in sparql.graph]\n",
    "\n",
    "df_triples = pd.DataFrame(triples_data, columns=['subject_id', 'predicate_id', 'object_id'])"
   ],
   "id": "f9bf514ac33e5dc1",
   "outputs": [],
   "execution_count": 4
  },
  {
   "metadata": {
    "ExecuteTime": {
     "end_time": "2024-11-28T13:44:46.356529Z",
     "start_time": "2024-11-28T13:41:17.435162Z"
    }
   },
   "cell_type": "code",
   "source": [
    "subject_as_object_set = set(df_triples['subject_id']).intersection(set(df_triples['object_id']))\n",
    "print(\"Stage 1 - subject_ids that are also objects:\", len(subject_as_object_set))\n",
    "\n",
    "object_to_subjects_predicates = {}\n",
    "for index, row in df_triples.iterrows():\n",
    "    if row['object_id'] in subject_as_object_set:\n",
    "        if row['object_id'] not in object_to_subjects_predicates:\n",
    "            object_to_subjects_predicates[row['object_id']] = []\n",
    "        object_to_subjects_predicates[row['object_id']].append((row['subject_id'], row['predicate_id']))\n",
    "\n",
    "new_triples_data = df_triples.values.tolist()\n",
    "for index, row in df_triples.iterrows():\n",
    "    if row['subject_id'] in object_to_subjects_predicates:\n",
    "        new_triples_data.extend([(row['subject_id'], predicate, new_object) for new_object, predicate in object_to_subjects_predicates[row['subject_id']]])\n",
    "\n",
    "print(\"Stage 2 - Newly added triples:\", len(new_triples_data) - len(df_triples))\n",
    "\n",
    "df_new_triples = pd.DataFrame(new_triples_data, columns=['subject_id', 'predicate_id', 'object_id'])\n",
    "df_new_triples.head()"
   ],
   "id": "ed4c7f97fac2c03f",
   "outputs": [
    {
     "name": "stdout",
     "output_type": "stream",
     "text": [
      "Stage 1 - subject_ids that are also objects: 136263\n",
      "Stage 2 - Newly added triples: 48741780\n"
     ]
    },
    {
     "data": {
      "text/plain": [
       "                                 subject_id  \\\n",
       "0  http://www.wikidata.org/entity/Q64900128   \n",
       "1    http://www.wikidata.org/entity/Q740143   \n",
       "2    http://www.wikidata.org/entity/Q312885   \n",
       "3   http://www.wikidata.org/entity/Q1090696   \n",
       "4   http://www.wikidata.org/entity/Q1895135   \n",
       "\n",
       "                                 predicate_id  \\\n",
       "0    http://www.wikidata.org/prop/direct/P495   \n",
       "1   http://www.wikidata.org/prop/direct/P1981   \n",
       "2  http://www.w3.org/2000/01/rdf-schema#label   \n",
       "3     http://www.wikidata.org/prop/direct/P18   \n",
       "4     http://www.wikidata.org/prop/direct/P27   \n",
       "\n",
       "                                           object_id  \n",
       "0                http://www.wikidata.org/entity/Q881  \n",
       "1           http://www.wikidata.org/entity/Q20644796  \n",
       "2                                     James Marsters  \n",
       "3  https://commons.wikimedia.org/wiki/File:Over-d...  \n",
       "4                 http://www.wikidata.org/entity/Q40  "
      ],
      "text/html": [
       "<div>\n",
       "<style scoped>\n",
       "    .dataframe tbody tr th:only-of-type {\n",
       "        vertical-align: middle;\n",
       "    }\n",
       "\n",
       "    .dataframe tbody tr th {\n",
       "        vertical-align: top;\n",
       "    }\n",
       "\n",
       "    .dataframe thead th {\n",
       "        text-align: right;\n",
       "    }\n",
       "</style>\n",
       "<table border=\"1\" class=\"dataframe\">\n",
       "  <thead>\n",
       "    <tr style=\"text-align: right;\">\n",
       "      <th></th>\n",
       "      <th>subject_id</th>\n",
       "      <th>predicate_id</th>\n",
       "      <th>object_id</th>\n",
       "    </tr>\n",
       "  </thead>\n",
       "  <tbody>\n",
       "    <tr>\n",
       "      <th>0</th>\n",
       "      <td>http://www.wikidata.org/entity/Q64900128</td>\n",
       "      <td>http://www.wikidata.org/prop/direct/P495</td>\n",
       "      <td>http://www.wikidata.org/entity/Q881</td>\n",
       "    </tr>\n",
       "    <tr>\n",
       "      <th>1</th>\n",
       "      <td>http://www.wikidata.org/entity/Q740143</td>\n",
       "      <td>http://www.wikidata.org/prop/direct/P1981</td>\n",
       "      <td>http://www.wikidata.org/entity/Q20644796</td>\n",
       "    </tr>\n",
       "    <tr>\n",
       "      <th>2</th>\n",
       "      <td>http://www.wikidata.org/entity/Q312885</td>\n",
       "      <td>http://www.w3.org/2000/01/rdf-schema#label</td>\n",
       "      <td>James Marsters</td>\n",
       "    </tr>\n",
       "    <tr>\n",
       "      <th>3</th>\n",
       "      <td>http://www.wikidata.org/entity/Q1090696</td>\n",
       "      <td>http://www.wikidata.org/prop/direct/P18</td>\n",
       "      <td>https://commons.wikimedia.org/wiki/File:Over-d...</td>\n",
       "    </tr>\n",
       "    <tr>\n",
       "      <th>4</th>\n",
       "      <td>http://www.wikidata.org/entity/Q1895135</td>\n",
       "      <td>http://www.wikidata.org/prop/direct/P27</td>\n",
       "      <td>http://www.wikidata.org/entity/Q40</td>\n",
       "    </tr>\n",
       "  </tbody>\n",
       "</table>\n",
       "</div>"
      ]
     },
     "execution_count": 5,
     "metadata": {},
     "output_type": "execute_result"
    }
   ],
   "execution_count": 5
  },
  {
   "metadata": {
    "ExecuteTime": {
     "end_time": "2024-11-28T13:45:36.843320Z",
     "start_time": "2024-11-28T13:44:47.220958Z"
    }
   },
   "cell_type": "code",
   "source": [
    "# NEW CELL, IMPORT IN NEXT VERSION\n",
    "df_new_triples = df_new_triples.drop_duplicates()\n",
    "df_new_triples.to_pickle(\"./exports/df_new_triples_only_ids.pkl\")\n"
   ],
   "id": "2036095e52f4dd66",
   "outputs": [],
   "execution_count": 6
  },
  {
   "metadata": {
    "ExecuteTime": {
     "end_time": "2024-11-28T13:46:44.759332Z",
     "start_time": "2024-11-28T13:45:36.863981Z"
    }
   },
   "cell_type": "code",
   "source": [
    "df_new_triples = df_new_triples.drop_duplicates()\n",
    "\n",
    "df_new_triples['subject_label'] = df_new_triples['subject_id'].apply(lambda x: get_label(sparql.graph, x))\n",
    "df_new_triples['predicate_label'] = df_new_triples['predicate_id'].apply(lambda x: get_label(sparql.graph, x))\n",
    "df_new_triples['object_label'] = df_new_triples['object_id'].apply(lambda x: get_label(sparql.graph, x))\n",
    "\n",
    "df_grouped_new = df_new_triples.groupby(['subject_id', 'subject_label', 'predicate_label'])['object_label'].agg(lambda x: ','.join(x)).reset_index()\n",
    "\n",
    "df_grouped_new = df_grouped_new.drop_duplicates()\n",
    "\n",
    "df_grouped_new = df_grouped_new[df_grouped_new['subject_label'] != \"\"]\n",
    "df_grouped_new = df_grouped_new[df_grouped_new['subject_label'].str.len() > 3]\n",
    "\n",
    "# print(df_grouped_new[df_grouped_new['subject_id'].str.contains('Q13909')])"
   ],
   "id": "1261aafaaf5b8f22",
   "outputs": [],
   "execution_count": 7
  },
  {
   "metadata": {
    "ExecuteTime": {
     "end_time": "2024-11-28T13:46:49.333904Z",
     "start_time": "2024-11-28T13:46:45.553026Z"
    }
   },
   "cell_type": "code",
   "source": [
    "df_grouped_new.to_pickle(\"./exports/extended_graph_triples.pkl\")\n",
    "df_grouped_new.to_csv(\"./exports/extended_graph_triples.csv\")"
   ],
   "id": "88dace139c6be0a1",
   "outputs": [],
   "execution_count": 8
  },
  {
   "metadata": {
    "ExecuteTime": {
     "end_time": "2024-11-28T13:46:49.338983Z",
     "start_time": "2024-11-28T13:46:49.333904Z"
    }
   },
   "cell_type": "code",
   "source": "",
   "id": "6939d9bf41bcaf6f",
   "outputs": [],
   "execution_count": null
  }
 ],
 "metadata": {
  "kernelspec": {
   "display_name": "Python 3",
   "language": "python",
   "name": "python3"
  },
  "language_info": {
   "codemirror_mode": {
    "name": "ipython",
    "version": 2
   },
   "file_extension": ".py",
   "mimetype": "text/x-python",
   "name": "python",
   "nbconvert_exporter": "python",
   "pygments_lexer": "ipython2",
   "version": "2.7.6"
  }
 },
 "nbformat": 4,
 "nbformat_minor": 5
}
