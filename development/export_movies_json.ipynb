{
 "cells": [
  {
   "cell_type": "code",
   "id": "initial_id",
   "metadata": {
    "collapsed": true,
    "ExecuteTime": {
     "end_time": "2024-10-31T12:59:00.272264Z",
     "start_time": "2024-10-31T12:59:00.121199Z"
    }
   },
   "source": [
    "from question_types.sparql import SparqlQueries\n",
    "from tabulate import tabulate\n",
    "import json\n",
    "import os\n",
    "import unicodedata\n",
    "import re"
   ],
   "outputs": [],
   "execution_count": 1
  },
  {
   "metadata": {
    "ExecuteTime": {
     "end_time": "2024-10-31T12:59:51.790969Z",
     "start_time": "2024-10-31T12:59:00.278202Z"
    }
   },
   "cell_type": "code",
   "source": "sparql = SparqlQueries(\"../dataset/14_graph.nt\")",
   "id": "6f6f08d24d9baf17",
   "outputs": [
    {
     "name": "stderr",
     "output_type": "stream",
     "text": [
      "2024-10-31 13:59:00,278 | INFO | __init__ | Initializing SparqlQueries class...\n",
      "2024-10-31 13:59:51,781 | INFO | __init__ | Graph parsed\n",
      "2024-10-31 13:59:51,787 | INFO | __init__ | SparqlQueries class initialized successfully.\n"
     ]
    }
   ],
   "execution_count": 2
  },
  {
   "metadata": {
    "ExecuteTime": {
     "end_time": "2024-10-31T12:59:52.106247Z",
     "start_time": "2024-10-31T12:59:52.100059Z"
    }
   },
   "cell_type": "code",
   "source": [
    "def execute_query(query):\n",
    "    sparql_result = sparql.execute_query(query)\n",
    "    result_lst = [\n",
    "        [str(item) for item in (row if isinstance(row, tuple) else [row])]\n",
    "        for row in sparql_result\n",
    "    ]\n",
    "    if not len(result_lst):\n",
    "        return print(\"Results were empty\")\n",
    "    headers = [f\"Col {idx}\" for idx in range(len(result_lst[0]))]\n",
    "    return result_lst"
   ],
   "id": "f3869b5c1b4fd684",
   "outputs": [],
   "execution_count": 3
  },
  {
   "metadata": {
    "ExecuteTime": {
     "end_time": "2024-10-31T12:59:52.122025Z",
     "start_time": "2024-10-31T12:59:52.116192Z"
    }
   },
   "cell_type": "code",
   "source": [
    "def get_all_of_type_film():\n",
    "    query = \"\"\"\n",
    "        PREFIX rdfs: <http://www.w3.org/2000/01/rdf-schema#>\n",
    "        PREFIX wd: <http://www.wikidata.org/entity/>\n",
    "        PREFIX wdt: <http://www.wikidata.org/prop/direct/>\n",
    "\n",
    "        SELECT ?movie ?movieLabel WHERE {\n",
    "            ?movie wdt:P31/wdt:P279* wd:Q11424 ;   # Match film or its subclasses\n",
    "                   rdfs:label ?movieLabel .        # Get the label of the movie\n",
    "            FILTER(LANG(?movieLabel) = \"en\")       # Only English labels\n",
    "        }\n",
    "    \"\"\"\n",
    "    return execute_query(query)\n"
   ],
   "id": "5ec859f6e4968532",
   "outputs": [],
   "execution_count": 4
  },
  {
   "metadata": {
    "ExecuteTime": {
     "end_time": "2024-10-31T12:59:52.140508Z",
     "start_time": "2024-10-31T12:59:52.132230Z"
    }
   },
   "cell_type": "code",
   "source": [
    "def normalize_string(s):\n",
    "    \"\"\"Cleans the input entity to a uniform naming convention, by removing non ascii characters, encoding it to utf, setting it to lowercase, and removing redundant spaces\"\"\"\n",
    "    s = s.lower()\n",
    "    s = unicodedata.normalize('NFKD', s)\n",
    "    s = s.encode('ascii', 'ignore').decode('utf-8')\n",
    "    s = re.sub(r'[^\\w\\s]', '', s)\n",
    "    s = ' '.join(s.split())\n",
    "    return s\n",
    "\n",
    "def ensure_directory_exists(directory):\n",
    "    if not os.path.exists(directory):\n",
    "        os.makedirs(directory)\n",
    "        \n",
    "def extend_if_exists(db, lst):\n",
    "    \"\"\"Extends the db with the given list of entities, if the entity already exists, it appends the type to the existing entity\"\"\"\n",
    "    for row in lst:\n",
    "        key = row[0]\n",
    "        if not key:\n",
    "            continue\n",
    "        \n",
    "        name = normalize_string(row[1])\n",
    "        type = row[2]\n",
    "        if key in db:\n",
    "            db[key][1].append(type)\n",
    "        else:\n",
    "            db[key] = (name, [type])\n",
    "               \n",
    "def export_movies_json():\n",
    "    ensure_directory_exists('exports')\n",
    "\n",
    "    film_lst = get_all_of_type_film()\n",
    "    print(tabulate(list(film_lst[:5]), headers=[\"Entity ID\", \"Name\"], tablefmt=\"grid\"))\n",
    "    \n",
    "    movie_json = {row[0]: normalize_string(row[1]) for row in film_lst if row[1] and len(row[1]) > 3}\n",
    "     \n",
    "    with open('exports/movie_db.json', 'w', encoding=\"utf-8\") as file:\n",
    "            json.dump(movie_json, file, ensure_ascii=False, indent=2)\n",
    "    "
   ],
   "id": "2fc65bd70dad26c0",
   "outputs": [],
   "execution_count": 5
  },
  {
   "metadata": {
    "ExecuteTime": {
     "end_time": "2024-10-31T12:59:54.011865Z",
     "start_time": "2024-10-31T12:59:52.150161Z"
    }
   },
   "cell_type": "code",
   "source": "export_movies_json()",
   "id": "788711bcbb409ae4",
   "outputs": [
    {
     "name": "stdout",
     "output_type": "stream",
     "text": [
      "+-------------------------------------------+----------------------------------------------------------------+\n",
      "| Entity ID                                 | Name                                                           |\n",
      "+===========================================+================================================================+\n",
      "| http://www.wikidata.org/entity/Q1000825   | Jan Dara                                                       |\n",
      "+-------------------------------------------+----------------------------------------------------------------+\n",
      "| http://www.wikidata.org/entity/Q1001777   | Moondram Pirai                                                 |\n",
      "+-------------------------------------------+----------------------------------------------------------------+\n",
      "| http://www.wikidata.org/entity/Q1001943   | Buffalo Bill and the Indians, or Sitting Bull's History Lesson |\n",
      "+-------------------------------------------+----------------------------------------------------------------+\n",
      "| http://www.wikidata.org/entity/Q100232971 | What We Wanted                                                 |\n",
      "+-------------------------------------------+----------------------------------------------------------------+\n",
      "| http://www.wikidata.org/entity/Q1002480   | Wanted: Dead or Alive                                          |\n",
      "+-------------------------------------------+----------------------------------------------------------------+\n"
     ]
    }
   ],
   "execution_count": 6
  },
  {
   "metadata": {
    "ExecuteTime": {
     "end_time": "2024-10-31T12:59:54.036467Z",
     "start_time": "2024-10-31T12:59:54.032171Z"
    }
   },
   "cell_type": "code",
   "source": "",
   "id": "a271be9779cfef2b",
   "outputs": [],
   "execution_count": null
  }
 ],
 "metadata": {
  "kernelspec": {
   "display_name": "Python 3",
   "language": "python",
   "name": "python3"
  },
  "language_info": {
   "codemirror_mode": {
    "name": "ipython",
    "version": 2
   },
   "file_extension": ".py",
   "mimetype": "text/x-python",
   "name": "python",
   "nbconvert_exporter": "python",
   "pygments_lexer": "ipython2",
   "version": "2.7.6"
  }
 },
 "nbformat": 4,
 "nbformat_minor": 5
}
