{
 "cells": [
  {
   "cell_type": "code",
   "id": "initial_id",
   "metadata": {
    "collapsed": true,
    "ExecuteTime": {
     "end_time": "2024-10-31T13:00:50.199573Z",
     "start_time": "2024-10-31T13:00:50.096012Z"
    }
   },
   "source": [
    "from question_types.sparql import SparqlQueries\n",
    "from tabulate import tabulate\n",
    "import json\n",
    "import os\n",
    "import unicodedata\n",
    "import re"
   ],
   "outputs": [],
   "execution_count": 1
  },
  {
   "metadata": {
    "ExecuteTime": {
     "end_time": "2024-10-31T13:01:37.899123Z",
     "start_time": "2024-10-31T13:00:50.204295Z"
    }
   },
   "cell_type": "code",
   "source": "sparql = SparqlQueries(\"../dataset/14_graph.nt\")",
   "id": "c8c3ba457ad6e2e1",
   "outputs": [
    {
     "name": "stderr",
     "output_type": "stream",
     "text": [
      "2024-10-31 14:00:50,206 | INFO | __init__ | Initializing SparqlQueries class...\n",
      "2024-10-31 14:01:37,894 | INFO | __init__ | Graph parsed\n",
      "2024-10-31 14:01:37,895 | INFO | __init__ | SparqlQueries class initialized successfully.\n"
     ]
    }
   ],
   "execution_count": 2
  },
  {
   "metadata": {
    "ExecuteTime": {
     "end_time": "2024-10-31T13:01:38.116723Z",
     "start_time": "2024-10-31T13:01:38.109540Z"
    }
   },
   "cell_type": "code",
   "source": [
    "def execute_query(query):\n",
    "    sparql_result = sparql.execute_query(query)\n",
    "    result_lst = [\n",
    "        [str(item) for item in (row if isinstance(row, tuple) else [row])]\n",
    "        for row in sparql_result\n",
    "    ]\n",
    "    if not len(result_lst):\n",
    "        return print(\"Results were empty\")\n",
    "    headers = [f\"Col {idx}\" for idx in range(len(result_lst[0]))]\n",
    "    return result_lst"
   ],
   "id": "7e0b5f60ab952149",
   "outputs": [],
   "execution_count": 3
  },
  {
   "metadata": {
    "ExecuteTime": {
     "end_time": "2024-10-31T13:01:38.131516Z",
     "start_time": "2024-10-31T13:01:38.125844Z"
    }
   },
   "cell_type": "code",
   "source": [
    "def get_all_of_type_predicate():\n",
    "    query = \"\"\"\n",
    "        PREFIX rdf: <http://www.w3.org/1999/02/22-rdf-syntax-ns#>\n",
    "        PREFIX rdfs: <http://www.w3.org/2000/01/rdf-schema#>\n",
    "        \n",
    "        SELECT DISTINCT ?propertyLabel ?property WHERE {\n",
    "          ?s ?property ?o .\n",
    "          OPTIONAL { ?property rdfs:label ?propertyLabel . FILTER (lang(?propertyLabel) = 'en') }\n",
    "        }\n",
    "    \"\"\"\n",
    "    return execute_query(query)"
   ],
   "id": "fc5a0fbebd644e15",
   "outputs": [],
   "execution_count": 4
  },
  {
   "metadata": {
    "ExecuteTime": {
     "end_time": "2024-10-31T13:01:38.146183Z",
     "start_time": "2024-10-31T13:01:38.138387Z"
    }
   },
   "cell_type": "code",
   "source": [
    "def normalize_string(s):\n",
    "    \"\"\"Cleans the input entity to a uniform naming convention, by removing non ascii characters, encoding it to utf, setting it to lowercase, and removing redundant spaces\"\"\"\n",
    "    s = s.lower()\n",
    "    s = unicodedata.normalize('NFKD', s)\n",
    "    s = s.encode('ascii', 'ignore').decode('utf-8')\n",
    "    s = re.sub(r'[^\\w\\s]', '', s)\n",
    "    s = ' '.join(s.split())\n",
    "    return s\n",
    "\n",
    "def ensure_directory_exists(directory):\n",
    "    if not os.path.exists(directory):\n",
    "        os.makedirs(directory)\n",
    "               \n",
    "def export_predicate_json():\n",
    "    \n",
    "    ensure_directory_exists('exports')\n",
    "    \n",
    "    predicate_lst = get_all_of_type_predicate()\n",
    "    predicate_json = {normalize_string(label): wiki_id for label, wiki_id in predicate_lst if len(label) > 3}\n",
    "     \n",
    "    with open('exports/predicate_db.json', 'w', encoding=\"utf-8\") as file:\n",
    "            json.dump(predicate_json, file, ensure_ascii=False, indent=2)\n",
    "    \n",
    "    print(tabulate(list(predicate_json.items())[:5], headers=[\"Predicate Label\", \"Predicate ID\"], tablefmt=\"grid\"))"
   ],
   "id": "c779fe84fef7bf0",
   "outputs": [],
   "execution_count": 5
  },
  {
   "metadata": {
    "ExecuteTime": {
     "end_time": "2024-10-31T13:03:59.057462Z",
     "start_time": "2024-10-31T13:01:38.154158Z"
    }
   },
   "cell_type": "code",
   "source": "export_predicate_json()",
   "id": "b6859328986b7e17",
   "outputs": [
    {
     "name": "stdout",
     "output_type": "stream",
     "text": [
      "+------------------------------------+--------------------------------------------+\n",
      "| Predicate Label                    | Predicate ID                               |\n",
      "+====================================+============================================+\n",
      "| country of citizenship             | http://www.wikidata.org/prop/direct/P27    |\n",
      "+------------------------------------+--------------------------------------------+\n",
      "| node label                         | http://www.w3.org/2000/01/rdf-schema#label |\n",
      "+------------------------------------+--------------------------------------------+\n",
      "| cast member                        | http://www.wikidata.org/prop/direct/P161   |\n",
      "+------------------------------------+--------------------------------------------+\n",
      "| languages spoken written or signed | http://www.wikidata.org/prop/direct/P1412  |\n",
      "+------------------------------------+--------------------------------------------+\n",
      "| place of birth                     | http://www.wikidata.org/prop/direct/P19    |\n",
      "+------------------------------------+--------------------------------------------+\n"
     ]
    }
   ],
   "execution_count": 6
  },
  {
   "metadata": {
    "ExecuteTime": {
     "end_time": "2024-10-31T13:03:59.077579Z",
     "start_time": "2024-10-31T13:03:59.070991Z"
    }
   },
   "cell_type": "code",
   "source": "",
   "id": "3f3a9c1153af78ff",
   "outputs": [],
   "execution_count": null
  }
 ],
 "metadata": {
  "kernelspec": {
   "display_name": "Python 3",
   "language": "python",
   "name": "python3"
  },
  "language_info": {
   "codemirror_mode": {
    "name": "ipython",
    "version": 2
   },
   "file_extension": ".py",
   "mimetype": "text/x-python",
   "name": "python",
   "nbconvert_exporter": "python",
   "pygments_lexer": "ipython2",
   "version": "2.7.6"
  }
 },
 "nbformat": 4,
 "nbformat_minor": 5
}
