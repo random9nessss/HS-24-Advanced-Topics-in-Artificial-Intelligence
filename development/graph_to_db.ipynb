{
 "cells": [
  {
   "metadata": {
    "ExecuteTime": {
     "end_time": "2024-10-17T05:22:26.650543Z",
     "start_time": "2024-10-17T05:22:25.976575Z"
    }
   },
   "cell_type": "code",
   "source": [
    "from question_types.sparql import SparqlQueries\n",
    "from rdflib.namespace import RDFS\n",
    "import pandas as pd"
   ],
   "id": "45f3055f58c0b370",
   "outputs": [],
   "execution_count": 1
  },
  {
   "metadata": {
    "collapsed": true,
    "ExecuteTime": {
     "end_time": "2024-10-17T05:23:16.251097Z",
     "start_time": "2024-10-17T05:22:26.662740Z"
    }
   },
   "cell_type": "code",
   "source": "sparql = SparqlQueries(\"../dataset/14_graph.nt\")",
   "id": "initial_id",
   "outputs": [
    {
     "name": "stderr",
     "output_type": "stream",
     "text": [
      "2024-10-17 07:22:26,666 | INFO | __init__ | \u001B[92mParsing graph\u001B[0m\n",
      "2024-10-17 07:23:16,246 | INFO | __init__ | \u001B[92mGraph parsed\u001B[0m\n"
     ]
    }
   ],
   "execution_count": 2
  },
  {
   "metadata": {
    "ExecuteTime": {
     "end_time": "2024-10-17T05:23:20.133804Z",
     "start_time": "2024-10-17T05:23:16.390195Z"
    }
   },
   "cell_type": "code",
   "source": [
    "triples_data = []\n",
    "\n",
    "def get_label(graph, uri):\n",
    "    \"\"\"Function to get the rdfs:label or schema:name for a URI if available.\"\"\"\n",
    "    for label in graph.objects(uri, RDFS.label):\n",
    "        return str(label)\n",
    "    \n",
    "    schema_name = \"http://schema.org/name\"\n",
    "    \n",
    "    for label in graph.objects(uri, graph.namespace_manager.compute_qname(schema_name)[2]):\n",
    "        return str(label)\n",
    "    \n",
    "    return decode_uri(uri)\n",
    "\n",
    "schema_mapping = {\n",
    "    \"http://ddis.ch/atai/\": \"ddis\",\n",
    "    \"http://www.wikidata.org/entity/\": \"wd\",\n",
    "    \"http://www.wikidata.org/prop/direct/\": \"wdt\",\n",
    "    \"http://schema.org/\": \"schema\"\n",
    "}\n",
    "\n",
    "def decode_uri(uri):\n",
    "    \"\"\"Helper function to replace full URIs with prefixes and extract local names\"\"\"\n",
    "    for schema, prefix in schema_mapping.items():\n",
    "        if uri.startswith(schema):\n",
    "            return f\"{prefix}:{uri[len(schema):]}\" \n",
    "    return uri  \n",
    "\n",
    "for i, (subject_id, predicate_id, object_id) in enumerate(sparql.graph):   \n",
    "    triples_data.append((subject_id, predicate_id, object_id))\n",
    "\n",
    "df_triples = pd.DataFrame(triples_data, columns=['subject_id', 'predicate_id', 'object_id'])"
   ],
   "id": "f9bf514ac33e5dc1",
   "outputs": [],
   "execution_count": 3
  },
  {
   "metadata": {
    "ExecuteTime": {
     "end_time": "2024-10-17T05:27:48.327855Z",
     "start_time": "2024-10-17T05:23:20.146263Z"
    }
   },
   "cell_type": "code",
   "source": [
    "subject_as_object_set = set(df_triples['subject_id']).intersection(set(df_triples['object_id']))\n",
    "print(\"Stage 1 - subject_ids that are also objects:\", len(subject_as_object_set))\n",
    "\n",
    "object_to_subjects_predicates = {}\n",
    "for index, row in df_triples.iterrows():\n",
    "    if row['object_id'] in subject_as_object_set:\n",
    "        if row['object_id'] not in object_to_subjects_predicates:\n",
    "            object_to_subjects_predicates[row['object_id']] = []\n",
    "        object_to_subjects_predicates[row['object_id']].append((row['subject_id'], row['predicate_id']))\n",
    "\n",
    "new_triples_data = df_triples.values.tolist()\n",
    "for index, row in df_triples.iterrows():\n",
    "    if row['subject_id'] in object_to_subjects_predicates:\n",
    "        new_triples_data.extend([(row['subject_id'], predicate, new_object) for new_object, predicate in object_to_subjects_predicates[row['subject_id']]])\n",
    "\n",
    "print(\"Stage 2 - Newly added triples:\", len(new_triples_data) - len(df_triples))\n",
    "\n",
    "df_new_triples = pd.DataFrame(new_triples_data, columns=['subject_id', 'predicate_id', 'object_id'])"
   ],
   "id": "ed4c7f97fac2c03f",
   "outputs": [
    {
     "name": "stdout",
     "output_type": "stream",
     "text": [
      "Stage 1 - subject_ids that are also objects: 136263\n",
      "Stage 2 - Newly added triples: 48741780\n"
     ]
    }
   ],
   "execution_count": 4
  },
  {
   "metadata": {
    "ExecuteTime": {
     "end_time": "2024-10-17T05:30:11.732912Z",
     "start_time": "2024-10-17T05:27:49.638254Z"
    }
   },
   "cell_type": "code",
   "source": [
    "df_new_triples = df_new_triples.drop_duplicates()\n",
    "\n",
    "df_new_triples['subject_label'] = df_new_triples['subject_id'].apply(lambda x: get_label(sparql.graph, x))\n",
    "df_new_triples['predicate_label'] = df_new_triples['predicate_id'].apply(lambda x: get_label(sparql.graph, x))\n",
    "df_new_triples['object_label'] = df_new_triples['object_id'].apply(lambda x: get_label(sparql.graph, x))\n",
    "\n",
    "df_grouped_new = df_new_triples.groupby(['subject_id', 'subject_label', 'predicate_label'])['object_label'].agg(lambda x: ', '.join(x)).reset_index()\n",
    "\n",
    "df_grouped_new = df_grouped_new.drop_duplicates()\n",
    "\n",
    "print(df_grouped_new[df_grouped_new['subject_id'].str.contains('Q13909')])"
   ],
   "id": "1261aafaaf5b8f22",
   "outputs": [
    {
     "name": "stdout",
     "output_type": "stream",
     "text": [
      "                                     subject_id      subject_label  \\\n",
      "217018    http://www.wikidata.org/entity/Q13909     Angelina Jolie   \n",
      "217019    http://www.wikidata.org/entity/Q13909     Angelina Jolie   \n",
      "217020    http://www.wikidata.org/entity/Q13909     Angelina Jolie   \n",
      "217021    http://www.wikidata.org/entity/Q13909     Angelina Jolie   \n",
      "217022    http://www.wikidata.org/entity/Q13909     Angelina Jolie   \n",
      "217023    http://www.wikidata.org/entity/Q13909     Angelina Jolie   \n",
      "217024    http://www.wikidata.org/entity/Q13909     Angelina Jolie   \n",
      "217025    http://www.wikidata.org/entity/Q13909     Angelina Jolie   \n",
      "217026    http://www.wikidata.org/entity/Q13909     Angelina Jolie   \n",
      "217027    http://www.wikidata.org/entity/Q13909     Angelina Jolie   \n",
      "217028    http://www.wikidata.org/entity/Q13909     Angelina Jolie   \n",
      "217029    http://www.wikidata.org/entity/Q13909     Angelina Jolie   \n",
      "217030    http://www.wikidata.org/entity/Q13909     Angelina Jolie   \n",
      "217031    http://www.wikidata.org/entity/Q13909     Angelina Jolie   \n",
      "217032    http://www.wikidata.org/entity/Q13909     Angelina Jolie   \n",
      "217033    http://www.wikidata.org/entity/Q13909     Angelina Jolie   \n",
      "217034    http://www.wikidata.org/entity/Q13909     Angelina Jolie   \n",
      "217035    http://www.wikidata.org/entity/Q13909     Angelina Jolie   \n",
      "217036    http://www.wikidata.org/entity/Q13909     Angelina Jolie   \n",
      "217037    http://www.wikidata.org/entity/Q13909     Angelina Jolie   \n",
      "217038    http://www.wikidata.org/entity/Q13909     Angelina Jolie   \n",
      "217039    http://www.wikidata.org/entity/Q13909     Angelina Jolie   \n",
      "217040    http://www.wikidata.org/entity/Q13909     Angelina Jolie   \n",
      "217041    http://www.wikidata.org/entity/Q13909     Angelina Jolie   \n",
      "217042    http://www.wikidata.org/entity/Q13909     Angelina Jolie   \n",
      "217043    http://www.wikidata.org/entity/Q13909     Angelina Jolie   \n",
      "217044    http://www.wikidata.org/entity/Q13909     Angelina Jolie   \n",
      "217045    http://www.wikidata.org/entity/Q13909     Angelina Jolie   \n",
      "217046    http://www.wikidata.org/entity/Q13909     Angelina Jolie   \n",
      "217047    http://www.wikidata.org/entity/Q13909     Angelina Jolie   \n",
      "217048    http://www.wikidata.org/entity/Q13909     Angelina Jolie   \n",
      "217049    http://www.wikidata.org/entity/Q13909     Angelina Jolie   \n",
      "217050  http://www.wikidata.org/entity/Q1390945  Sabina Schneebeli   \n",
      "217051  http://www.wikidata.org/entity/Q1390945  Sabina Schneebeli   \n",
      "217052  http://www.wikidata.org/entity/Q1390945  Sabina Schneebeli   \n",
      "217053  http://www.wikidata.org/entity/Q1390945  Sabina Schneebeli   \n",
      "217054  http://www.wikidata.org/entity/Q1390945  Sabina Schneebeli   \n",
      "217055  http://www.wikidata.org/entity/Q1390945  Sabina Schneebeli   \n",
      "217056  http://www.wikidata.org/entity/Q1390945  Sabina Schneebeli   \n",
      "217057  http://www.wikidata.org/entity/Q1390945  Sabina Schneebeli   \n",
      "217058  http://www.wikidata.org/entity/Q1390945  Sabina Schneebeli   \n",
      "\n",
      "                            predicate_label  \\\n",
      "217018                              IMDb ID   \n",
      "217019                       ancestral home   \n",
      "217020                       award received   \n",
      "217021                          cast member   \n",
      "217022                                child   \n",
      "217023               country of citizenship   \n",
      "217024                  described by source   \n",
      "217025                             director   \n",
      "217026                   executive producer   \n",
      "217027                               father   \n",
      "217028                                image   \n",
      "217029                          instance of   \n",
      "217030  languages spoken, written or signed   \n",
      "217031                               mother   \n",
      "217032                      native language   \n",
      "217033                     node description   \n",
      "217034                           node label   \n",
      "217035                        nominated for   \n",
      "217036                         notable work   \n",
      "217037                           occupation   \n",
      "217038                            performer   \n",
      "217039                       place of birth   \n",
      "217040                             relative   \n",
      "217041                             religion   \n",
      "217042                            residence   \n",
      "217043                         screenwriter   \n",
      "217044                              sibling   \n",
      "217045                    significant event   \n",
      "217046                               spouse   \n",
      "217047                    unmarried partner   \n",
      "217048                          voice actor   \n",
      "217049                               winner   \n",
      "217050                              IMDb ID   \n",
      "217051                          cast member   \n",
      "217052               country of citizenship   \n",
      "217053                          instance of   \n",
      "217054                     node description   \n",
      "217055                           node label   \n",
      "217056                           occupation   \n",
      "217057                       place of birth   \n",
      "217058                               spouse   \n",
      "\n",
      "                                             object_label  \n",
      "217018                                          nm0001401  \n",
      "217019                                            Germany  \n",
      "217020  Saturn Award for Best Actress, Saturn Award fo...  \n",
      "217021  Lara Croft: Tomb Raider, Playing by Heart, Hac...  \n",
      "217022                    Marcheline Bertrand, Jon Voight  \n",
      "217023                 Cambodia, United States of America  \n",
      "217024                                     Obalky knih.cz  \n",
      "217025  Unbroken, In the Land of Blood and Honey, By t...  \n",
      "217026                                 Maleficent, Difret  \n",
      "217027                                         Jon Voight  \n",
      "217028  https://commons.wikimedia.org/wiki/File:Angeli...  \n",
      "217029                                              human  \n",
      "217030                   Khmer, English, American English  \n",
      "217031                                Marcheline Bertrand  \n",
      "217032                                   American English  \n",
      "217033  American actress, filmmaker, screenwriter and ...  \n",
      "217034                                     Angelina Jolie  \n",
      "217035  Golden Globe Award for Best Actress – Motion P...  \n",
      "217036                 Girl, Interrupted, Gia, Changeling  \n",
      "217037  filmmaker, model, actor, writer, executive pro...  \n",
      "217038  Amelia Sachs, Maleficent, Lola, Lara Croft, Ti...  \n",
      "217039                                        Los Angeles  \n",
      "217040                                        Chip Taylor  \n",
      "217041                                        Catholicism  \n",
      "217042                                        Los Angeles  \n",
      "217043  By the Sea, In the Land of Blood and Honey, Fi...  \n",
      "217044                                        James Haven  \n",
      "217045                                           adoption  \n",
      "217046    Billy Bob Thornton, Jonny Lee Miller, Brad Pitt  \n",
      "217047                           Brad Pitt, Jenny Shimizu  \n",
      "217048  Kung Fu Panda, Shark Tale, Kung Fu Panda 2, Ti...  \n",
      "217049  Saturn Award for Best Actress, Broadcast Film ...  \n",
      "217050                                          nm0773666  \n",
      "217051                   Bon Appétit, Rascals on the Road  \n",
      "217052                                        Switzerland  \n",
      "217053                                              human  \n",
      "217054                                      Swiss actress  \n",
      "217055                                  Sabina Schneebeli  \n",
      "217056                                              actor  \n",
      "217057                                             Zürich  \n",
      "217058                                Bernhard Bettermann  \n"
     ]
    }
   ],
   "execution_count": 5
  },
  {
   "metadata": {
    "ExecuteTime": {
     "end_time": "2024-10-17T05:30:15.083111Z",
     "start_time": "2024-10-17T05:30:13.076451Z"
    }
   },
   "cell_type": "code",
   "source": [
    "subject_label_df = df_grouped_new[['subject_id', 'subject_label']].copy()\n",
    "\n",
    "subject_label_df = subject_label_df.drop_duplicates()\n",
    "\n",
    "reverse_index = subject_label_df.groupby('subject_label')['subject_id'].agg(lambda x: ', '.join(x)).reset_index()\n",
    "\n",
    "print(reverse_index[reverse_index.subject_label == \"Angelina Jolie\"])"
   ],
   "id": "b3c27963ee3f6efc",
   "outputs": [
    {
     "name": "stdout",
     "output_type": "stream",
     "text": [
      "       subject_label                             subject_id\n",
      "8179  Angelina Jolie  http://www.wikidata.org/entity/Q13909\n"
     ]
    }
   ],
   "execution_count": 6
  },
  {
   "metadata": {
    "ExecuteTime": {
     "end_time": "2024-10-17T05:30:21.867957Z",
     "start_time": "2024-10-17T05:30:16.456385Z"
    }
   },
   "cell_type": "code",
   "source": [
    "df_grouped_new.to_pickle(\"./exports/extended_graph_triples.pkl\")\n",
    "reverse_index.to_pickle(\"./exports/reverse_index.pkl\")\n",
    "df_grouped_new.to_csv(\"./exports/extended_graph_triples.csv\")"
   ],
   "id": "88dace139c6be0a1",
   "outputs": [],
   "execution_count": 7
  },
  {
   "metadata": {
    "ExecuteTime": {
     "end_time": "2024-10-17T05:30:22.985847Z",
     "start_time": "2024-10-17T05:30:22.983040Z"
    }
   },
   "cell_type": "code",
   "source": "",
   "id": "6939d9bf41bcaf6f",
   "outputs": [],
   "execution_count": null
  }
 ],
 "metadata": {
  "kernelspec": {
   "display_name": "Python 3",
   "language": "python",
   "name": "python3"
  },
  "language_info": {
   "codemirror_mode": {
    "name": "ipython",
    "version": 2
   },
   "file_extension": ".py",
   "mimetype": "text/x-python",
   "name": "python",
   "nbconvert_exporter": "python",
   "pygments_lexer": "ipython2",
   "version": "2.7.6"
  }
 },
 "nbformat": 4,
 "nbformat_minor": 5
}
