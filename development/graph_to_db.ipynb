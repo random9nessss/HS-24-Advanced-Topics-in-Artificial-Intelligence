{
 "cells": [
  {
   "metadata": {
    "ExecuteTime": {
     "end_time": "2024-10-16T17:48:40.742573Z",
     "start_time": "2024-10-16T17:48:40.734305Z"
    }
   },
   "cell_type": "code",
   "source": [
    "from question_types.sparql import SparqlQueries\n",
    "from rdflib.namespace import RDFS\n",
    "import pandas as pd"
   ],
   "id": "45f3055f58c0b370",
   "outputs": [],
   "execution_count": 15
  },
  {
   "metadata": {
    "collapsed": true,
    "ExecuteTime": {
     "end_time": "2024-10-16T17:49:22.983943Z",
     "start_time": "2024-10-16T17:48:40.747797Z"
    }
   },
   "cell_type": "code",
   "source": "sparql = SparqlQueries(\"../dataset/14_graph.nt\")",
   "id": "initial_id",
   "outputs": [
    {
     "name": "stderr",
     "output_type": "stream",
     "text": [
      "2024-10-16 19:48:40,750 | INFO | __init__ | \u001B[92mParsing graph\u001B[0m\n",
      "2024-10-16 19:49:22,979 | INFO | __init__ | \u001B[92mGraph parsed\u001B[0m\n"
     ]
    }
   ],
   "execution_count": 16
  },
  {
   "metadata": {
    "ExecuteTime": {
     "end_time": "2024-10-16T17:49:28.345561Z",
     "start_time": "2024-10-16T17:49:24.124114Z"
    }
   },
   "cell_type": "code",
   "source": [
    "triples_data = []\n",
    "\n",
    "def get_label(graph, uri):\n",
    "    \"\"\"Function to get the rdfs:label or schema:name for a URI if available.\"\"\"\n",
    "    for label in graph.objects(uri, RDFS.label):\n",
    "        return str(label)\n",
    "    \n",
    "    schema_name = \"http://schema.org/name\"\n",
    "    \n",
    "    for label in graph.objects(uri, graph.namespace_manager.compute_qname(schema_name)[2]):\n",
    "        return str(label)\n",
    "    \n",
    "    return decode_uri(uri)\n",
    "\n",
    "schema_mapping = {\n",
    "    \"http://ddis.ch/atai/\": \"ddis\",\n",
    "    \"http://www.wikidata.org/entity/\": \"wd\",\n",
    "    \"http://www.wikidata.org/prop/direct/\": \"wdt\",\n",
    "    \"http://schema.org/\": \"schema\"\n",
    "}\n",
    "\n",
    "def decode_uri(uri):\n",
    "    \"\"\"Helper function to replace full URIs with prefixes and extract local names\"\"\"\n",
    "    for schema, prefix in schema_mapping.items():\n",
    "        if uri.startswith(schema):\n",
    "            return f\"{prefix}:{uri[len(schema):]}\" \n",
    "    return uri  \n",
    "\n",
    "for i, (subject_id, predicate_id, object_id) in enumerate(sparql.graph):   \n",
    "    triples_data.append((subject_id, predicate_id, object_id))\n",
    "\n",
    "df_triples = pd.DataFrame(triples_data, columns=['subject_id', 'predicate_id', 'object_id'])"
   ],
   "id": "f9bf514ac33e5dc1",
   "outputs": [],
   "execution_count": 17
  },
  {
   "metadata": {
    "ExecuteTime": {
     "end_time": "2024-10-16T17:54:10.846434Z",
     "start_time": "2024-10-16T17:49:29.353273Z"
    }
   },
   "cell_type": "code",
   "source": [
    "subject_as_object_set = set(df_triples['subject_id']).intersection(set(df_triples['object_id']))\n",
    "print(\"Stage 1 - subject_ids that are also objects:\", len(subject_as_object_set))\n",
    "\n",
    "object_to_subjects_predicates = {}\n",
    "for index, row in df_triples.iterrows():\n",
    "    if row['object_id'] in subject_as_object_set:\n",
    "        if row['object_id'] not in object_to_subjects_predicates:\n",
    "            object_to_subjects_predicates[row['object_id']] = []\n",
    "        object_to_subjects_predicates[row['object_id']].append((row['subject_id'], row['predicate_id']))\n",
    "\n",
    "new_triples_data = df_triples.values.tolist()\n",
    "for index, row in df_triples.iterrows():\n",
    "    if row['subject_id'] in object_to_subjects_predicates:\n",
    "        new_triples_data.extend([(row['subject_id'], predicate, new_object) for new_object, predicate in object_to_subjects_predicates[row['subject_id']]])\n",
    "\n",
    "print(\"Stage 2 - Newly added triples:\", len(new_triples_data) - len(df_triples))\n",
    "\n",
    "df_new_triples = pd.DataFrame(new_triples_data, columns=['subject_id', 'predicate_id', 'object_id'])"
   ],
   "id": "ed4c7f97fac2c03f",
   "outputs": [
    {
     "name": "stdout",
     "output_type": "stream",
     "text": [
      "Stage 1 - subject_ids that are also objects: 136263\n",
      "Stage 2 - Newly added triples: 48741780\n"
     ]
    }
   ],
   "execution_count": 18
  },
  {
   "metadata": {
    "ExecuteTime": {
     "end_time": "2024-10-16T17:56:23.951203Z",
     "start_time": "2024-10-16T17:54:12.474286Z"
    }
   },
   "cell_type": "code",
   "source": [
    "df_new_triples = df_new_triples.drop_duplicates()\n",
    "\n",
    "df_new_triples['subject_label'] = df_new_triples['subject_id'].apply(lambda x: get_label(sparql.graph, x))\n",
    "df_new_triples['predicate_label'] = df_new_triples['predicate_id'].apply(lambda x: get_label(sparql.graph, x))\n",
    "df_new_triples['object_label'] = df_new_triples['object_id'].apply(lambda x: get_label(sparql.graph, x))\n",
    "\n",
    "df_grouped_new = df_new_triples.groupby(['subject_id', 'subject_label', 'predicate_label'])['object_label'].agg(lambda x: ', '.join(x)).reset_index()\n",
    "\n",
    "df_grouped_new = df_grouped_new.drop_duplicates()\n",
    "\n",
    "print(df_grouped_new[df_grouped_new['subject_id'].str.contains('Q13909')])"
   ],
   "id": "1261aafaaf5b8f22",
   "outputs": [
    {
     "name": "stdout",
     "output_type": "stream",
     "text": [
      "After dropping duplicates:\n",
      "                                 subject_id  \\\n",
      "0  http://www.wikidata.org/entity/Q28489891   \n",
      "1    http://www.wikidata.org/entity/Q845176   \n",
      "2   http://www.wikidata.org/entity/Q6786487   \n",
      "3   http://www.wikidata.org/entity/Q2656265   \n",
      "4    http://www.wikidata.org/entity/Q486826   \n",
      "\n",
      "                                predicate_id  \\\n",
      "0  http://www.wikidata.org/prop/direct/P5970   \n",
      "1   http://www.wikidata.org/prop/direct/P161   \n",
      "2              http://schema.org/description   \n",
      "3   http://www.wikidata.org/prop/direct/P175   \n",
      "4   http://www.wikidata.org/prop/direct/P161   \n",
      "\n",
      "                                   object_id  \n",
      "0   http://www.wikidata.org/entity/Q56887490  \n",
      "1     http://www.wikidata.org/entity/Q312483  \n",
      "2  character in the animated Pixar film Cars  \n",
      "3    http://www.wikidata.org/entity/Q5790509  \n",
      "4     http://www.wikidata.org/entity/Q336689  \n",
      "After applying labels:\n",
      "                                 subject_id  \\\n",
      "0  http://www.wikidata.org/entity/Q28489891   \n",
      "1    http://www.wikidata.org/entity/Q845176   \n",
      "2   http://www.wikidata.org/entity/Q6786487   \n",
      "3   http://www.wikidata.org/entity/Q2656265   \n",
      "4    http://www.wikidata.org/entity/Q486826   \n",
      "\n",
      "                                predicate_id  \\\n",
      "0  http://www.wikidata.org/prop/direct/P5970   \n",
      "1   http://www.wikidata.org/prop/direct/P161   \n",
      "2              http://schema.org/description   \n",
      "3   http://www.wikidata.org/prop/direct/P175   \n",
      "4   http://www.wikidata.org/prop/direct/P161   \n",
      "\n",
      "                                   object_id              subject_label  \\\n",
      "0   http://www.wikidata.org/entity/Q56887490                Tomb Raider   \n",
      "1     http://www.wikidata.org/entity/Q312483              War and Peace   \n",
      "2  character in the animated Pixar film Cars                      Mater   \n",
      "3    http://www.wikidata.org/entity/Q5790509            Godzilla Junior   \n",
      "4     http://www.wikidata.org/entity/Q336689  The Man Who Knew Too Much   \n",
      "\n",
      "     predicate_label                               object_label  \n",
      "0  Medierådet rating                         For ages 11 and up  \n",
      "1        cast member                        Vyacheslav Tikhonov  \n",
      "2   node description  character in the animated Pixar film Cars  \n",
      "3          performer                              Hurricane Ryu  \n",
      "4        cast member                                 Leo Gordon  \n",
      "After groupby:\n",
      "                                   subject_id       subject_label  \\\n",
      "0               http://schema.org/description    node description   \n",
      "1               http://schema.org/description    node description   \n",
      "2  http://www.w3.org/2000/01/rdf-schema#label          node label   \n",
      "3  http://www.w3.org/2000/01/rdf-schema#label          node label   \n",
      "4        http://www.wikidata.org/entity/P1258  Rotten Tomatoes ID   \n",
      "\n",
      "    predicate_label                      object_label  \n",
      "0  node description        textual entity description  \n",
      "1        node label                  node description  \n",
      "2  node description  short label describing an entity  \n",
      "3        node label                        node label  \n",
      "4           country          United States of America  \n",
      "After dropping duplicates again:\n",
      "                                   subject_id       subject_label  \\\n",
      "0               http://schema.org/description    node description   \n",
      "1               http://schema.org/description    node description   \n",
      "2  http://www.w3.org/2000/01/rdf-schema#label          node label   \n",
      "3  http://www.w3.org/2000/01/rdf-schema#label          node label   \n",
      "4        http://www.wikidata.org/entity/P1258  Rotten Tomatoes ID   \n",
      "\n",
      "    predicate_label                      object_label  \n",
      "0  node description        textual entity description  \n",
      "1        node label                  node description  \n",
      "2  node description  short label describing an entity  \n",
      "3        node label                        node label  \n",
      "4           country          United States of America  \n",
      "                                     subject_id      subject_label  \\\n",
      "217018    http://www.wikidata.org/entity/Q13909     Angelina Jolie   \n",
      "217019    http://www.wikidata.org/entity/Q13909     Angelina Jolie   \n",
      "217020    http://www.wikidata.org/entity/Q13909     Angelina Jolie   \n",
      "217021    http://www.wikidata.org/entity/Q13909     Angelina Jolie   \n",
      "217022    http://www.wikidata.org/entity/Q13909     Angelina Jolie   \n",
      "217023    http://www.wikidata.org/entity/Q13909     Angelina Jolie   \n",
      "217024    http://www.wikidata.org/entity/Q13909     Angelina Jolie   \n",
      "217025    http://www.wikidata.org/entity/Q13909     Angelina Jolie   \n",
      "217026    http://www.wikidata.org/entity/Q13909     Angelina Jolie   \n",
      "217027    http://www.wikidata.org/entity/Q13909     Angelina Jolie   \n",
      "217028    http://www.wikidata.org/entity/Q13909     Angelina Jolie   \n",
      "217029    http://www.wikidata.org/entity/Q13909     Angelina Jolie   \n",
      "217030    http://www.wikidata.org/entity/Q13909     Angelina Jolie   \n",
      "217031    http://www.wikidata.org/entity/Q13909     Angelina Jolie   \n",
      "217032    http://www.wikidata.org/entity/Q13909     Angelina Jolie   \n",
      "217033    http://www.wikidata.org/entity/Q13909     Angelina Jolie   \n",
      "217034    http://www.wikidata.org/entity/Q13909     Angelina Jolie   \n",
      "217035    http://www.wikidata.org/entity/Q13909     Angelina Jolie   \n",
      "217036    http://www.wikidata.org/entity/Q13909     Angelina Jolie   \n",
      "217037    http://www.wikidata.org/entity/Q13909     Angelina Jolie   \n",
      "217038    http://www.wikidata.org/entity/Q13909     Angelina Jolie   \n",
      "217039    http://www.wikidata.org/entity/Q13909     Angelina Jolie   \n",
      "217040    http://www.wikidata.org/entity/Q13909     Angelina Jolie   \n",
      "217041    http://www.wikidata.org/entity/Q13909     Angelina Jolie   \n",
      "217042    http://www.wikidata.org/entity/Q13909     Angelina Jolie   \n",
      "217043    http://www.wikidata.org/entity/Q13909     Angelina Jolie   \n",
      "217044    http://www.wikidata.org/entity/Q13909     Angelina Jolie   \n",
      "217045    http://www.wikidata.org/entity/Q13909     Angelina Jolie   \n",
      "217046    http://www.wikidata.org/entity/Q13909     Angelina Jolie   \n",
      "217047    http://www.wikidata.org/entity/Q13909     Angelina Jolie   \n",
      "217048    http://www.wikidata.org/entity/Q13909     Angelina Jolie   \n",
      "217049    http://www.wikidata.org/entity/Q13909     Angelina Jolie   \n",
      "217050  http://www.wikidata.org/entity/Q1390945  Sabina Schneebeli   \n",
      "217051  http://www.wikidata.org/entity/Q1390945  Sabina Schneebeli   \n",
      "217052  http://www.wikidata.org/entity/Q1390945  Sabina Schneebeli   \n",
      "217053  http://www.wikidata.org/entity/Q1390945  Sabina Schneebeli   \n",
      "217054  http://www.wikidata.org/entity/Q1390945  Sabina Schneebeli   \n",
      "217055  http://www.wikidata.org/entity/Q1390945  Sabina Schneebeli   \n",
      "217056  http://www.wikidata.org/entity/Q1390945  Sabina Schneebeli   \n",
      "217057  http://www.wikidata.org/entity/Q1390945  Sabina Schneebeli   \n",
      "217058  http://www.wikidata.org/entity/Q1390945  Sabina Schneebeli   \n",
      "\n",
      "                            predicate_label  \\\n",
      "217018                              IMDb ID   \n",
      "217019                       ancestral home   \n",
      "217020                       award received   \n",
      "217021                          cast member   \n",
      "217022                                child   \n",
      "217023               country of citizenship   \n",
      "217024                  described by source   \n",
      "217025                             director   \n",
      "217026                   executive producer   \n",
      "217027                               father   \n",
      "217028                                image   \n",
      "217029                          instance of   \n",
      "217030  languages spoken, written or signed   \n",
      "217031                               mother   \n",
      "217032                      native language   \n",
      "217033                     node description   \n",
      "217034                           node label   \n",
      "217035                        nominated for   \n",
      "217036                         notable work   \n",
      "217037                           occupation   \n",
      "217038                            performer   \n",
      "217039                       place of birth   \n",
      "217040                             relative   \n",
      "217041                             religion   \n",
      "217042                            residence   \n",
      "217043                         screenwriter   \n",
      "217044                              sibling   \n",
      "217045                    significant event   \n",
      "217046                               spouse   \n",
      "217047                    unmarried partner   \n",
      "217048                          voice actor   \n",
      "217049                               winner   \n",
      "217050                              IMDb ID   \n",
      "217051                          cast member   \n",
      "217052               country of citizenship   \n",
      "217053                          instance of   \n",
      "217054                     node description   \n",
      "217055                           node label   \n",
      "217056                           occupation   \n",
      "217057                       place of birth   \n",
      "217058                               spouse   \n",
      "\n",
      "                                             object_label  \n",
      "217018                                          nm0001401  \n",
      "217019                                            Germany  \n",
      "217020  People's Choice Awards, Saturn Award for Best ...  \n",
      "217021  Beowulf, Maleficent: Mistress of Evil, Cyborg ...  \n",
      "217022                    Marcheline Bertrand, Jon Voight  \n",
      "217023                 United States of America, Cambodia  \n",
      "217024                                     Obalky knih.cz  \n",
      "217025  By the Sea, Unbroken, First They Killed My Fat...  \n",
      "217026                                 Difret, Maleficent  \n",
      "217027                                         Jon Voight  \n",
      "217028  https://commons.wikimedia.org/wiki/File:Angeli...  \n",
      "217029                                              human  \n",
      "217030                   Khmer, English, American English  \n",
      "217031                                Marcheline Bertrand  \n",
      "217032                                   American English  \n",
      "217033  American actress, filmmaker, screenwriter and ...  \n",
      "217034                                     Angelina Jolie  \n",
      "217035  Academy Award for Best Actress, Golden Globe A...  \n",
      "217036                 Changeling, Gia, Girl, Interrupted  \n",
      "217037  writer, actor, executive producer, filmmaker, ...  \n",
      "217038  Amelia Sachs, Lola, Maleficent, Tigress, Lara ...  \n",
      "217039                                        Los Angeles  \n",
      "217040                                        Chip Taylor  \n",
      "217041                                        Catholicism  \n",
      "217042                                        Los Angeles  \n",
      "217043  By the Sea, First They Killed My Father, In th...  \n",
      "217044                                        James Haven  \n",
      "217045                                           adoption  \n",
      "217046    Brad Pitt, Billy Bob Thornton, Jonny Lee Miller  \n",
      "217047                           Jenny Shimizu, Brad Pitt  \n",
      "217048  Kung Fu Panda 2, Tigress, Shark Tale, Kung Fu ...  \n",
      "217049  Saturn Award for Best Actress, Broadcast Film ...  \n",
      "217050                                          nm0773666  \n",
      "217051                   Bon Appétit, Rascals on the Road  \n",
      "217052                                        Switzerland  \n",
      "217053                                              human  \n",
      "217054                                      Swiss actress  \n",
      "217055                                  Sabina Schneebeli  \n",
      "217056                                              actor  \n",
      "217057                                             Zürich  \n",
      "217058                                Bernhard Bettermann  \n"
     ]
    }
   ],
   "execution_count": 19
  },
  {
   "metadata": {
    "ExecuteTime": {
     "end_time": "2024-10-16T17:56:27.077753Z",
     "start_time": "2024-10-16T17:56:25.196123Z"
    }
   },
   "cell_type": "code",
   "source": [
    "subject_label_df = df_grouped_new[['subject_id', 'subject_label']].copy()\n",
    "\n",
    "subject_label_df = subject_label_df.drop_duplicates()\n",
    "\n",
    "reverse_index = subject_label_df.groupby('subject_label')['subject_id'].agg(lambda x: ', '.join(x)).reset_index()\n",
    "\n",
    "print(reverse_index[reverse_index.subject_label == \"Angelina Jolie\"])"
   ],
   "id": "b3c27963ee3f6efc",
   "outputs": [
    {
     "name": "stdout",
     "output_type": "stream",
     "text": [
      "       subject_label                             subject_id\n",
      "8179  Angelina Jolie  http://www.wikidata.org/entity/Q13909\n"
     ]
    }
   ],
   "execution_count": 20
  },
  {
   "metadata": {
    "ExecuteTime": {
     "end_time": "2024-10-16T17:56:33.162151Z",
     "start_time": "2024-10-16T17:56:28.256125Z"
    }
   },
   "cell_type": "code",
   "source": [
    "df_grouped_new.to_pickle(\"./exports/extended_graph_triples.pkl\")\n",
    "reverse_index.to_pickle(\"./exports/reverse_index.pkl\")\n",
    "df_grouped_new.to_csv(\"./exports/extended_graph_triples.csv\")"
   ],
   "id": "88dace139c6be0a1",
   "outputs": [],
   "execution_count": 21
  },
  {
   "metadata": {
    "ExecuteTime": {
     "end_time": "2024-10-16T17:56:34.378505Z",
     "start_time": "2024-10-16T17:56:34.376390Z"
    }
   },
   "cell_type": "code",
   "source": "",
   "id": "6939d9bf41bcaf6f",
   "outputs": [],
   "execution_count": null
  }
 ],
 "metadata": {
  "kernelspec": {
   "display_name": "Python 3",
   "language": "python",
   "name": "python3"
  },
  "language_info": {
   "codemirror_mode": {
    "name": "ipython",
    "version": 2
   },
   "file_extension": ".py",
   "mimetype": "text/x-python",
   "name": "python",
   "nbconvert_exporter": "python",
   "pygments_lexer": "ipython2",
   "version": "2.7.6"
  }
 },
 "nbformat": 4,
 "nbformat_minor": 5
}
