{
 "cells": [
  {
   "metadata": {
    "ExecuteTime": {
     "end_time": "2024-10-14T19:44:51.552228Z",
     "start_time": "2024-10-14T19:44:51.230488Z"
    }
   },
   "cell_type": "code",
   "source": [
    "from question_types.sparql import SparqlQueries\n",
    "from rdflib.namespace import RDFS\n",
    "import pandas as pd"
   ],
   "id": "45f3055f58c0b370",
   "outputs": [],
   "execution_count": 1
  },
  {
   "metadata": {
    "collapsed": true,
    "ExecuteTime": {
     "end_time": "2024-10-14T19:45:32.388326Z",
     "start_time": "2024-10-14T19:44:52.386166Z"
    }
   },
   "cell_type": "code",
   "source": "sparql = SparqlQueries(\"../dataset/14_graph.nt\")",
   "id": "initial_id",
   "outputs": [
    {
     "name": "stderr",
     "output_type": "stream",
     "text": [
      "2024-10-14 21:44:52,389 | INFO | __init__ | \u001B[92mParsing graph\u001B[0m\n",
      "2024-10-14 21:45:32,386 | INFO | __init__ | \u001B[92mGraph parsed\u001B[0m\n"
     ]
    }
   ],
   "execution_count": 2
  },
  {
   "metadata": {
    "ExecuteTime": {
     "end_time": "2024-10-14T19:47:15.564228Z",
     "start_time": "2024-10-14T19:46:37.773088Z"
    }
   },
   "cell_type": "code",
   "source": [
    "triples_data = []\n",
    "\n",
    "def get_label(graph, uri):\n",
    "    \"\"\"Function to get the rdfs:label or schema:name for a URI if available.\"\"\"\n",
    "    for label in graph.objects(uri, RDFS.label):\n",
    "        return str(label)\n",
    "    \n",
    "    schema_name = \"http://schema.org/name\"\n",
    "    \n",
    "    for label in graph.objects(uri, graph.namespace_manager.compute_qname(schema_name)[2]):\n",
    "        return str(label)\n",
    "    \n",
    "    return decode_uri(uri)\n",
    "\n",
    "schema_mapping = {\n",
    "    \"http://ddis.ch/atai/\": \"ddis\",\n",
    "    \"http://www.wikidata.org/entity/\": \"wd\",\n",
    "    \"http://www.wikidata.org/prop/direct/\": \"wdt\",\n",
    "    \"http://schema.org/\": \"schema\"\n",
    "}\n",
    "\n",
    "def decode_uri(uri):\n",
    "    \"\"\"Helper function to replace full URIs with prefixes and extract local names\"\"\"\n",
    "    for schema, prefix in schema_mapping.items():\n",
    "        if uri.startswith(schema):\n",
    "            return f\"{prefix}:{uri[len(schema):]}\" \n",
    "    return uri  \n",
    "\n",
    "\n",
    "for i, (subj, pred, obj) in enumerate(sparql.graph):\n",
    "    subject_label = get_label(sparql.graph, subj)\n",
    "    predicate_label = get_label(sparql.graph, pred)\n",
    "    object_label = get_label(sparql.graph, obj)\n",
    "    \n",
    "    triples_data.append((subject_label, predicate_label, object_label))\n",
    "\n",
    "df_triples = pd.DataFrame(triples_data, columns=['Subject', 'Predicate', 'Object'])\n",
    "\n",
    "df_grouped = df_triples.groupby(['Subject', 'Predicate'])['Object'].agg(lambda x: ', '.join(x)).reset_index()\n",
    "\n",
    "df_pivot = df_grouped.pivot(index='Subject', columns='Predicate', values='Object')\n"
   ],
   "id": "f9bf514ac33e5dc1",
   "outputs": [],
   "execution_count": 4
  },
  {
   "metadata": {
    "ExecuteTime": {
     "end_time": "2024-10-14T19:51:32.876761Z",
     "start_time": "2024-10-14T19:51:31.627247Z"
    }
   },
   "cell_type": "code",
   "source": "df_pivot.to_pickle(\"graph.pkl\")",
   "id": "f95004f776ebe21f",
   "outputs": [],
   "execution_count": 15
  }
 ],
 "metadata": {
  "kernelspec": {
   "display_name": "Python 3",
   "language": "python",
   "name": "python3"
  },
  "language_info": {
   "codemirror_mode": {
    "name": "ipython",
    "version": 2
   },
   "file_extension": ".py",
   "mimetype": "text/x-python",
   "name": "python",
   "nbconvert_exporter": "python",
   "pygments_lexer": "ipython2",
   "version": "2.7.6"
  }
 },
 "nbformat": 4,
 "nbformat_minor": 5
}
