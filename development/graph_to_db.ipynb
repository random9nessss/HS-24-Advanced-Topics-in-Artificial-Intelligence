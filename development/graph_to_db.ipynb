{
 "cells": [
  {
   "metadata": {
    "ExecuteTime": {
     "end_time": "2024-10-16T05:59:20.525969Z",
     "start_time": "2024-10-16T05:59:19.827217Z"
    }
   },
   "cell_type": "code",
   "source": [
    "from question_types.sparql import SparqlQueries\n",
    "from rdflib.namespace import RDFS\n",
    "import pandas as pd"
   ],
   "id": "45f3055f58c0b370",
   "outputs": [],
   "execution_count": 2
  },
  {
   "metadata": {
    "collapsed": true,
    "ExecuteTime": {
     "end_time": "2024-10-16T06:00:08.157396Z",
     "start_time": "2024-10-16T05:59:20.529526Z"
    }
   },
   "cell_type": "code",
   "source": "sparql = SparqlQueries(\"../dataset/14_graph.nt\")",
   "id": "initial_id",
   "outputs": [
    {
     "name": "stderr",
     "output_type": "stream",
     "text": [
      "2024-10-16 07:59:20,536 | INFO | __init__ | \u001B[92mParsing graph\u001B[0m\n",
      "2024-10-16 08:00:08,149 | INFO | __init__ | \u001B[92mGraph parsed\u001B[0m\n"
     ]
    }
   ],
   "execution_count": 3
  },
  {
   "metadata": {
    "ExecuteTime": {
     "end_time": "2024-10-16T06:00:54.177248Z",
     "start_time": "2024-10-16T06:00:08.181150Z"
    }
   },
   "cell_type": "code",
   "source": [
    "triples_data = []\n",
    "\n",
    "def get_label(graph, uri):\n",
    "    \"\"\"Function to get the rdfs:label or schema:name for a URI if available.\"\"\"\n",
    "    for label in graph.objects(uri, RDFS.label):\n",
    "        return str(label)\n",
    "    \n",
    "    schema_name = \"http://schema.org/name\"\n",
    "    \n",
    "    for label in graph.objects(uri, graph.namespace_manager.compute_qname(schema_name)[2]):\n",
    "        return str(label)\n",
    "    \n",
    "    return decode_uri(uri)\n",
    "\n",
    "schema_mapping = {\n",
    "    \"http://ddis.ch/atai/\": \"ddis\",\n",
    "    \"http://www.wikidata.org/entity/\": \"wd\",\n",
    "    \"http://www.wikidata.org/prop/direct/\": \"wdt\",\n",
    "    \"http://schema.org/\": \"schema\"\n",
    "}\n",
    "\n",
    "def decode_uri(uri):\n",
    "    \"\"\"Helper function to replace full URIs with prefixes and extract local names\"\"\"\n",
    "    for schema, prefix in schema_mapping.items():\n",
    "        if uri.startswith(schema):\n",
    "            return f\"{prefix}:{uri[len(schema):]}\" \n",
    "    return uri  \n",
    "\n",
    "\n",
    "for i, (subj, pred, obj) in enumerate(sparql.graph):\n",
    "    subject_label = get_label(sparql.graph, subj)\n",
    "    predicate_label = get_label(sparql.graph, pred)\n",
    "    object_label = get_label(sparql.graph, obj)\n",
    "    \n",
    "    triples_data.append((subject_label, predicate_label, object_label))\n",
    "\n",
    "df_triples = pd.DataFrame(triples_data, columns=['Subject', 'Predicate', 'Object'])\n",
    "\n",
    "df_grouped = df_triples.groupby(['Subject', 'Predicate'])['Object'].agg(lambda x: ', '.join(x)).reset_index()\n",
    "\n",
    "df_pivot = df_grouped.pivot(index='Subject', columns='Predicate', values='Object')"
   ],
   "id": "f9bf514ac33e5dc1",
   "outputs": [],
   "execution_count": 4
  },
  {
   "metadata": {
    "ExecuteTime": {
     "end_time": "2024-10-16T06:00:55.984219Z",
     "start_time": "2024-10-16T06:00:54.251395Z"
    }
   },
   "cell_type": "code",
   "source": "df_pivot.to_pickle(\"./exports/graph.pkl\")",
   "id": "f95004f776ebe21f",
   "outputs": [],
   "execution_count": 5
  },
  {
   "metadata": {
    "ExecuteTime": {
     "end_time": "2024-10-16T06:03:41.112038Z",
     "start_time": "2024-10-16T06:00:56.056935Z"
    }
   },
   "cell_type": "code",
   "source": [
    "subject_as_object_set = set(df_triples['Subject']).intersection(set(df_triples['Object']))\n",
    "print(\"Stage 1 - Subjects that are also objects:\", len(subject_as_object_set))\n",
    "\n",
    "object_to_subjects_predicates = {}\n",
    "for index, row in df_triples.iterrows():\n",
    "    if row['Object'] in subject_as_object_set:\n",
    "        if row['Object'] not in object_to_subjects_predicates:\n",
    "            object_to_subjects_predicates[row['Object']] = []\n",
    "        object_to_subjects_predicates[row['Object']].append((row['Subject'], row['Predicate']))\n",
    "print(\"Stage 2 - Mapping objects to their subjects and predicates:\", len(object_to_subjects_predicates))\n",
    "\n",
    "new_triples_data = df_triples.values.tolist()\n",
    "for index, row in df_triples.iterrows():\n",
    "    if row['Subject'] in object_to_subjects_predicates:\n",
    "        new_triples_data.extend([(row['Subject'], predicate, new_object) for new_object, predicate in object_to_subjects_predicates[row['Subject']]])\n",
    "print(\"Stage 3 - Added new triples:\", len(new_triples_data))\n",
    "\n",
    "df_new_triples = pd.DataFrame(new_triples_data, columns=['Subject', 'Predicate', 'Object'])"
   ],
   "id": "ed4c7f97fac2c03f",
   "outputs": [
    {
     "name": "stdout",
     "output_type": "stream",
     "text": [
      "Stage 1 - Subjects that are also objects: 131021\n",
      "Stage 2 - Mapping objects to their subjects and predicates: 131021\n",
      "Stage 3 - Added new triples: 55980651\n"
     ]
    }
   ],
   "execution_count": 6
  },
  {
   "metadata": {
    "ExecuteTime": {
     "end_time": "2024-10-16T06:06:37.894720Z",
     "start_time": "2024-10-16T06:05:45.466733Z"
    }
   },
   "cell_type": "code",
   "source": [
    "df_new_triples = df_new_triples.drop_duplicates()\n",
    "\n",
    "df_grouped_new = df_new_triples.groupby(['Subject', 'Predicate'])['Object'].agg(lambda x: ', '.join(x)).reset_index()\n",
    "\n",
    "df_pivot_new = df_grouped_new.pivot(index='Subject', columns='Predicate', values='Object')"
   ],
   "id": "1261aafaaf5b8f22",
   "outputs": [],
   "execution_count": 10
  },
  {
   "metadata": {
    "ExecuteTime": {
     "end_time": "2024-10-16T06:15:44.988108Z",
     "start_time": "2024-10-16T06:14:22.786884Z"
    }
   },
   "cell_type": "code",
   "source": [
    "import json\n",
    "with open(\"./exports/graph.json\", 'w') as file:\n",
    "    json.dump(df_pivot_new.to_dict(), file, indent=4)\n",
    "    \n",
    "df_pivot_new.to_csv(\"./exports/extended_graph_triples.csv\", index=False)\n",
    "\n",
    "df_pivot_new.to_pickle(\"./exports/extended_graph_triples.pkl\")"
   ],
   "id": "b3c27963ee3f6efc",
   "outputs": [],
   "execution_count": 12
  },
  {
   "metadata": {},
   "cell_type": "code",
   "outputs": [],
   "execution_count": null,
   "source": "",
   "id": "88dace139c6be0a1"
  }
 ],
 "metadata": {
  "kernelspec": {
   "display_name": "Python 3",
   "language": "python",
   "name": "python3"
  },
  "language_info": {
   "codemirror_mode": {
    "name": "ipython",
    "version": 2
   },
   "file_extension": ".py",
   "mimetype": "text/x-python",
   "name": "python",
   "nbconvert_exporter": "python",
   "pygments_lexer": "ipython2",
   "version": "2.7.6"
  }
 },
 "nbformat": 4,
 "nbformat_minor": 5
}
