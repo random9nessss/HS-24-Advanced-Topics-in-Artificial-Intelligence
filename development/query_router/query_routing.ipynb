{
 "cells": [
  {
   "cell_type": "code",
   "id": "initial_id",
   "metadata": {
    "collapsed": true,
    "ExecuteTime": {
     "end_time": "2024-11-24T16:27:25.512465Z",
     "start_time": "2024-11-24T16:27:25.509935Z"
    }
   },
   "source": "import pandas as pd",
   "outputs": [],
   "execution_count": 5
  },
  {
   "metadata": {
    "ExecuteTime": {
     "end_time": "2024-11-24T16:27:41.952800Z",
     "start_time": "2024-11-24T16:27:41.944268Z"
    }
   },
   "cell_type": "code",
   "source": [
    "factual = pd.read_csv(\"factual_questions_500.csv\")\n",
    "recommendation = pd.read_csv(\"movie_recommendation_questions_500.csv\")\n",
    "multimedia = pd.read_csv(\"multimedia_questions_500.csv\")\n",
    "unrelated = pd.read_csv(\"unrelated_queries_500.csv\")"
   ],
   "id": "9c43fa213b82a86d",
   "outputs": [],
   "execution_count": 7
  },
  {
   "metadata": {
    "ExecuteTime": {
     "end_time": "2024-11-24T16:27:42.667712Z",
     "start_time": "2024-11-24T16:27:42.661712Z"
    }
   },
   "cell_type": "code",
   "source": [
    "factual['Label'] = 0          # 0 for factual questions\n",
    "recommendation['Label'] = 1   # 1 for recommendation questions\n",
    "multimedia['Label'] = 2       # 2 for multimedia questions\n",
    "unrelated['Label'] = 3        # 3 for unrelated questions\n",
    "\n",
    "combined_data = pd.concat([factual, recommendation, multimedia, unrelated], ignore_index=True)\n",
    "\n",
    "combined_data = combined_data.sample(frac=1).reset_index(drop=True)"
   ],
   "id": "972cd3d2789509ab",
   "outputs": [],
   "execution_count": 8
  },
  {
   "metadata": {
    "ExecuteTime": {
     "end_time": "2024-11-24T16:27:43.359456Z",
     "start_time": "2024-11-24T16:27:43.353877Z"
    }
   },
   "cell_type": "code",
   "source": "print(combined_data)",
   "id": "fc97f5f7fae89433",
   "outputs": [
    {
     "name": "stdout",
     "output_type": "stream",
     "text": [
      "                                               Question  Label\n",
      "0     In which movies did Hans Zimmer create the sou...      0\n",
      "1                    What year was La La Land released?      0\n",
      "2                     What year was Gladiator released?      0\n",
      "3                              Who directed Fight Club?      0\n",
      "4                      How much does an elephant weigh?      3\n",
      "...                                                 ...    ...\n",
      "2439                                What is 12 plus 15?      3\n",
      "2440              What does Jennifer Aniston look like?      2\n",
      "2441             What does Jennifer Lawrence look like?      2\n",
      "2442        Recommend films similar to American Psycho.      1\n",
      "2443                            How do volcanoes erupt?      3\n",
      "\n",
      "[2444 rows x 2 columns]\n"
     ]
    }
   ],
   "execution_count": 9
  },
  {
   "metadata": {
    "ExecuteTime": {
     "end_time": "2024-11-24T16:28:11.528546Z",
     "start_time": "2024-11-24T16:27:44.465738Z"
    }
   },
   "cell_type": "code",
   "source": [
    "import pandas as pd\n",
    "import numpy as np\n",
    "\n",
    "from sklearn.model_selection import train_test_split\n",
    "from sklearn.metrics import accuracy_score, precision_recall_fscore_support\n",
    "\n",
    "import torch\n",
    "from torch.utils.data import Dataset\n",
    "from transformers import (AutoTokenizer, AutoModelForSequenceClassification,\n",
    "                          Trainer, TrainingArguments)\n",
    "\n",
    "factual = pd.read_csv(\"factual_questions_500.csv\")\n",
    "recommendation = pd.read_csv(\"movie_recommendation_questions_500.csv\")\n",
    "multimedia = pd.read_csv(\"multimedia_questions_500.csv\")\n",
    "unrelated = pd.read_csv(\"unrelated_queries_500.csv\")\n",
    "\n",
    "factual['Label'] = 0          # 0 for factual questions\n",
    "recommendation['Label'] = 1   # 1 for recommendation questions\n",
    "multimedia['Label'] = 2       # 2 for multimedia questions\n",
    "unrelated['Label'] = 3        # 3 for unrelated questions\n",
    "\n",
    "# Combine and shuffle the data\n",
    "combined_data = pd.concat([factual, recommendation, multimedia, unrelated], ignore_index=True)\n",
    "combined_data = combined_data.sample(frac=1).reset_index(drop=True)\n",
    "\n",
    "X = combined_data['Question'].values\n",
    "y = combined_data['Label'].values\n",
    "\n",
    "X_train, X_val, y_train, y_val = train_test_split(\n",
    "    X, y, test_size=0.1, random_state=42, stratify=y)\n",
    "\n",
    "class QuestionDataset(Dataset):\n",
    "    def __init__(self, texts, labels, tokenizer, max_len):\n",
    "        self.texts = texts\n",
    "        self.labels = labels\n",
    "        self.tokenizer = tokenizer\n",
    "        self.max_len = max_len\n",
    "        \n",
    "    def __len__(self):\n",
    "        return len(self.texts)\n",
    "        \n",
    "    def __getitem__(self, idx):\n",
    "        text = str(self.texts[idx])\n",
    "        label = self.labels[idx]\n",
    "        \n",
    "        encoding = self.tokenizer.encode_plus(\n",
    "            text,\n",
    "            add_special_tokens=True,\n",
    "            max_length=self.max_len,\n",
    "            padding='max_length',\n",
    "            truncation=True,\n",
    "            return_attention_mask=True,\n",
    "            return_tensors='pt',\n",
    "        )\n",
    "        \n",
    "        return {\n",
    "            'input_ids': encoding['input_ids'].flatten(),\n",
    "            'attention_mask': encoding['attention_mask'].flatten(),\n",
    "            'labels': torch.tensor(label, dtype=torch.long)\n",
    "        }\n",
    "\n",
    "model_name = 'distilbert-base-uncased'\n",
    "\n",
    "tokenizer = AutoTokenizer.from_pretrained(model_name)\n",
    "model = AutoModelForSequenceClassification.from_pretrained(model_name, num_labels=4)\n",
    "\n",
    "max_len = 128\n",
    "\n",
    "train_dataset = QuestionDataset(\n",
    "    texts=X_train,\n",
    "    labels=y_train,\n",
    "    tokenizer=tokenizer,\n",
    "    max_len=max_len\n",
    ")\n",
    "\n",
    "val_dataset = QuestionDataset(\n",
    "    texts=X_val,\n",
    "    labels=y_val,\n",
    "    tokenizer=tokenizer,\n",
    "    max_len=max_len\n",
    ")\n",
    "\n",
    "training_args = TrainingArguments(\n",
    "    output_dir='./results',          \n",
    "    num_train_epochs=1,              \n",
    "    per_device_train_batch_size=16,  \n",
    "    per_device_eval_batch_size=16,   \n",
    "    warmup_steps=50,                 \n",
    "    weight_decay=0.01,               \n",
    "    logging_dir='./logs',            \n",
    "    logging_steps=10,\n",
    "    evaluation_strategy=\"steps\",\n",
    "    eval_steps=50,\n",
    "    save_steps=100,\n",
    "    save_total_limit=1,\n",
    "    load_best_model_at_end=True,\n",
    "    metric_for_best_model=\"accuracy\"\n",
    ")\n",
    "\n",
    "def compute_metrics(eval_pred):\n",
    "    logits, labels = eval_pred\n",
    "    predictions = np.argmax(logits, axis=-1)\n",
    "    \n",
    "    precision, recall, f1, _ = precision_recall_fscore_support(\n",
    "        labels, predictions, average='weighted')\n",
    "    acc = accuracy_score(labels, predictions)\n",
    "    \n",
    "    return {\n",
    "        'accuracy': acc,\n",
    "        'f1': f1,\n",
    "        'precision': precision,\n",
    "        'recall': recall\n",
    "    }\n",
    "\n",
    "trainer = Trainer(\n",
    "    model=model,                         \n",
    "    args=training_args,                  \n",
    "    train_dataset=train_dataset,         \n",
    "    eval_dataset=val_dataset,            \n",
    "    compute_metrics=compute_metrics      \n",
    ")\n",
    "\n",
    "trainer.train()\n",
    "\n",
    "eval_result = trainer.evaluate()\n",
    "print(f\"Evaluation results: {eval_result}\")\n",
    "\n",
    "trainer.save_model('question_classifier_model')\n",
    "tokenizer.save_pretrained('question_classifier_model')\n"
   ],
   "id": "e95ccd528eca51ba",
   "outputs": [
    {
     "name": "stderr",
     "output_type": "stream",
     "text": [
      "Some weights of DistilBertForSequenceClassification were not initialized from the model checkpoint at distilbert-base-uncased and are newly initialized: ['classifier.bias', 'classifier.weight', 'pre_classifier.bias', 'pre_classifier.weight']\n",
      "You should probably TRAIN this model on a down-stream task to be able to use it for predictions and inference.\n",
      "/Users/kevinbrundler/Desktop/ATAI/movie-bot/.venv/lib/python3.10/site-packages/transformers/training_args.py:1559: FutureWarning: `evaluation_strategy` is deprecated and will be removed in version 4.46 of 🤗 Transformers. Use `eval_strategy` instead\n",
      "  warnings.warn(\n"
     ]
    },
    {
     "data": {
      "text/plain": [
       "<IPython.core.display.HTML object>"
      ],
      "text/html": [
       "\n",
       "    <div>\n",
       "      \n",
       "      <progress value='138' max='138' style='width:300px; height:20px; vertical-align: middle;'></progress>\n",
       "      [138/138 00:23, Epoch 1/1]\n",
       "    </div>\n",
       "    <table border=\"1\" class=\"dataframe\">\n",
       "  <thead>\n",
       " <tr style=\"text-align: left;\">\n",
       "      <th>Step</th>\n",
       "      <th>Training Loss</th>\n",
       "      <th>Validation Loss</th>\n",
       "      <th>Accuracy</th>\n",
       "      <th>F1</th>\n",
       "      <th>Precision</th>\n",
       "      <th>Recall</th>\n",
       "    </tr>\n",
       "  </thead>\n",
       "  <tbody>\n",
       "    <tr>\n",
       "      <td>50</td>\n",
       "      <td>0.443300</td>\n",
       "      <td>0.288876</td>\n",
       "      <td>0.922449</td>\n",
       "      <td>0.919568</td>\n",
       "      <td>0.924875</td>\n",
       "      <td>0.922449</td>\n",
       "    </tr>\n",
       "    <tr>\n",
       "      <td>100</td>\n",
       "      <td>0.018600</td>\n",
       "      <td>0.057417</td>\n",
       "      <td>0.987755</td>\n",
       "      <td>0.987732</td>\n",
       "      <td>0.988252</td>\n",
       "      <td>0.987755</td>\n",
       "    </tr>\n",
       "  </tbody>\n",
       "</table><p>"
      ]
     },
     "metadata": {},
     "output_type": "display_data"
    },
    {
     "data": {
      "text/plain": [
       "<IPython.core.display.HTML object>"
      ],
      "text/html": [
       "\n",
       "    <div>\n",
       "      \n",
       "      <progress value='16' max='16' style='width:300px; height:20px; vertical-align: middle;'></progress>\n",
       "      [16/16 00:00]\n",
       "    </div>\n",
       "    "
      ]
     },
     "metadata": {},
     "output_type": "display_data"
    },
    {
     "name": "stdout",
     "output_type": "stream",
     "text": [
      "Evaluation results: {'eval_loss': 0.0574173629283905, 'eval_accuracy': 0.9877551020408163, 'eval_f1': 0.9877324453751223, 'eval_precision': 0.9882515168229453, 'eval_recall': 0.9877551020408163, 'eval_runtime': 0.6788, 'eval_samples_per_second': 360.917, 'eval_steps_per_second': 23.57, 'epoch': 1.0}\n"
     ]
    },
    {
     "data": {
      "text/plain": [
       "('question_classifier_model/tokenizer_config.json',\n",
       " 'question_classifier_model/special_tokens_map.json',\n",
       " 'question_classifier_model/vocab.txt',\n",
       " 'question_classifier_model/added_tokens.json',\n",
       " 'question_classifier_model/tokenizer.json')"
      ]
     },
     "execution_count": 10,
     "metadata": {},
     "output_type": "execute_result"
    }
   ],
   "execution_count": 10
  },
  {
   "metadata": {
    "ExecuteTime": {
     "end_time": "2024-11-24T16:28:16.054435Z",
     "start_time": "2024-11-24T16:28:16.048343Z"
    }
   },
   "cell_type": "code",
   "source": [
    "import torch\n",
    "from transformers import AutoTokenizer, AutoModelForSequenceClassification\n",
    "\n",
    "class QueryRouter:\n",
    "    def __init__(self, model_path=r'./question_classifier_model'):\n",
    "        \"\"\"\n",
    "        Initializes the QuestionClassifier with a pre-trained model and tokenizer.\n",
    "\n",
    "        Args:\n",
    "            model_path (str): Path to the directory where the fine-tuned model and tokenizer are saved.\n",
    "        \"\"\"\n",
    "        # Load the tokenizer and model from the specified directory\n",
    "        self.tokenizer = AutoTokenizer.from_pretrained(model_path)\n",
    "        self.model = AutoModelForSequenceClassification.from_pretrained(model_path)\n",
    "\n",
    "        # Mapping from label indices to question types\n",
    "        self.label_map = {\n",
    "            0: 'factual',\n",
    "            1: 'recommendation',\n",
    "            2: 'multimedia',\n",
    "            3: 'unrelated'\n",
    "        }\n",
    "\n",
    "    def predict(self, query):\n",
    "        \"\"\"\n",
    "        Classifies a single question into one of the predefined categories.\n",
    "\n",
    "        Args:\n",
    "            question (str): The input question to classify.\n",
    "\n",
    "        Returns:\n",
    "            str: The predicted category label as a string.\n",
    "        \"\"\"\n",
    "        # Tokenization and Encoding of Query\n",
    "        inputs = self.tokenizer.encode_plus(\n",
    "            query,\n",
    "            add_special_tokens=True,\n",
    "            max_length=128,\n",
    "            padding='max_length',\n",
    "            truncation=True,\n",
    "            return_attention_mask=True,\n",
    "            return_tensors='pt',\n",
    "        )\n",
    "        # Prediction\n",
    "        outputs = self.model(**inputs)\n",
    "        logits = outputs.logits\n",
    "        predicted_class = torch.argmax(logits, dim=1).item()\n",
    "        return self.label_map[predicted_class]"
   ],
   "id": "b16b92905f5100c9",
   "outputs": [],
   "execution_count": 21
  },
  {
   "metadata": {
    "ExecuteTime": {
     "end_time": "2024-11-24T16:28:16.903266Z",
     "start_time": "2024-11-24T16:28:16.869959Z"
    }
   },
   "cell_type": "code",
   "source": "qr = QueryRouter()",
   "id": "f41dab97e0c6f2ed",
   "outputs": [],
   "execution_count": 22
  },
  {
   "metadata": {
    "ExecuteTime": {
     "end_time": "2024-11-24T16:28:17.487261Z",
     "start_time": "2024-11-24T16:28:17.433983Z"
    }
   },
   "cell_type": "code",
   "source": "qr.predict(\"In which movies did Hans Zimmer compose the music?\")",
   "id": "6c88482409f6c3ad",
   "outputs": [
    {
     "data": {
      "text/plain": [
       "'factual'"
      ]
     },
     "execution_count": 23,
     "metadata": {},
     "output_type": "execute_result"
    }
   ],
   "execution_count": 23
  },
  {
   "metadata": {
    "ExecuteTime": {
     "end_time": "2024-11-24T16:28:18.883227Z",
     "start_time": "2024-11-24T16:28:18.840131Z"
    }
   },
   "cell_type": "code",
   "source": "qr.predict(\"I like movies where Hans Zimmer composed the movies such as for Inception. Are there similar movies I should watch?\")",
   "id": "a2f897dc85d1f25e",
   "outputs": [
    {
     "data": {
      "text/plain": [
       "'recommendation'"
      ]
     },
     "execution_count": 24,
     "metadata": {},
     "output_type": "execute_result"
    }
   ],
   "execution_count": 24
  },
  {
   "metadata": {
    "ExecuteTime": {
     "end_time": "2024-11-24T16:28:21.794537Z",
     "start_time": "2024-11-24T16:28:21.753347Z"
    }
   },
   "cell_type": "code",
   "source": "qr.predict(\"I like how Tom Holland acts. Given I like his style of acting, tell me what to watch next\")",
   "id": "be33af02739f62d5",
   "outputs": [
    {
     "data": {
      "text/plain": [
       "'recommendation'"
      ]
     },
     "execution_count": 25,
     "metadata": {},
     "output_type": "execute_result"
    }
   ],
   "execution_count": 25
  },
  {
   "metadata": {
    "ExecuteTime": {
     "end_time": "2024-11-24T16:28:25.760050Z",
     "start_time": "2024-11-24T16:28:25.719888Z"
    }
   },
   "cell_type": "code",
   "source": "qr.predict(\"I love how Hans Zimmer composes music, he is a greatly recommended composer. For which movie did he compose music?\")",
   "id": "aa1d4b74627c3db8",
   "outputs": [
    {
     "data": {
      "text/plain": [
       "'factual'"
      ]
     },
     "execution_count": 26,
     "metadata": {},
     "output_type": "execute_result"
    }
   ],
   "execution_count": 26
  },
  {
   "metadata": {
    "ExecuteTime": {
     "end_time": "2024-11-24T16:28:28.502881Z",
     "start_time": "2024-11-24T16:28:28.499160Z"
    }
   },
   "cell_type": "code",
   "source": [
    "queries = [\"Which directors have worked on films with themes like The Social Network?\",\n",
    "\"What actors have starred in movies with a narrative style similar to The Godfather?\",\n",
    "\"Which screenwriters have written stories like those in Pulp Fiction?\",\n",
    "\"Who acted in other psychological thrillers similar to Shutter Island?\",\n",
    "\"Which composers created soundtracks for films similar to Gladiator?\",\n",
    "\"What directors are known for making movies like Fight Club?\",\n",
    "\"Who starred in romantic films with a tone similar to La La Land?\",\n",
    "\"What filmmakers have worked on dystopian stories like Children of Men?\",\n",
    "\"Which actors appeared in historical dramas similar to Schindler’s List?\",\n",
    "\"Who directed other visually stunning movies like Mad Max: Fury Road?\"]"
   ],
   "id": "d14d6cd59c8693d8",
   "outputs": [],
   "execution_count": 27
  },
  {
   "metadata": {
    "ExecuteTime": {
     "end_time": "2024-11-24T16:28:29.452855Z",
     "start_time": "2024-11-24T16:28:29.118378Z"
    }
   },
   "cell_type": "code",
   "source": [
    "for q in queries:\n",
    "    print(q)\n",
    "    print(qr.predict(q))\n",
    "    print(\"\\n\")"
   ],
   "id": "2258f8709b2d8a69",
   "outputs": [
    {
     "name": "stdout",
     "output_type": "stream",
     "text": [
      "Which directors have worked on films with themes like The Social Network?\n",
      "factual\n",
      "\n",
      "\n",
      "What actors have starred in movies with a narrative style similar to The Godfather?\n",
      "factual\n",
      "\n",
      "\n",
      "Which screenwriters have written stories like those in Pulp Fiction?\n",
      "factual\n",
      "\n",
      "\n",
      "Who acted in other psychological thrillers similar to Shutter Island?\n",
      "factual\n",
      "\n",
      "\n",
      "Which composers created soundtracks for films similar to Gladiator?\n",
      "factual\n",
      "\n",
      "\n",
      "What directors are known for making movies like Fight Club?\n",
      "factual\n",
      "\n",
      "\n",
      "Who starred in romantic films with a tone similar to La La Land?\n",
      "factual\n",
      "\n",
      "\n",
      "What filmmakers have worked on dystopian stories like Children of Men?\n",
      "factual\n",
      "\n",
      "\n",
      "Which actors appeared in historical dramas similar to Schindler’s List?\n",
      "factual\n",
      "\n",
      "\n",
      "Who directed other visually stunning movies like Mad Max: Fury Road?\n",
      "factual\n",
      "\n",
      "\n"
     ]
    }
   ],
   "execution_count": 28
  },
  {
   "metadata": {
    "ExecuteTime": {
     "end_time": "2024-11-24T16:28:38.629103Z",
     "start_time": "2024-11-24T16:28:38.295403Z"
    }
   },
   "cell_type": "code",
   "source": [
    "recommendation_queries = [\n",
    "    \"If I liked The Matrix, what other movies should I watch?\",\n",
    "    \"Can you suggest films similar to Pulp Fiction?\",\n",
    "    \"What are some great movies for fans of La La Land?\",\n",
    "    \"What movies should I watch if I loved The Godfather?\",\n",
    "    \"Are there any films like Interstellar that you recommend?\",\n",
    "    \"Can you recommend movies with a tone similar to Blade Runner 2049?\",\n",
    "    \"What are some must-watch movies for fans of psychological thrillers?\",\n",
    "    \"If I enjoyed Parasite, what other films should I check out?\",\n",
    "    \"What are some good space exploration movies like Gravity?\",\n",
    "    \"Can you suggest historical dramas as compelling as Schindler's List?\"\n",
    "]\n",
    "\n",
    "\n",
    "for q in recommendation_queries:\n",
    "    print(q)\n",
    "    print(qr.predict(q))\n",
    "    print(\"\\n\")"
   ],
   "id": "6221fdfbdccfa6db",
   "outputs": [
    {
     "name": "stdout",
     "output_type": "stream",
     "text": [
      "If I liked The Matrix, what other movies should I watch?\n",
      "recommendation\n",
      "\n",
      "\n",
      "Can you suggest films similar to Pulp Fiction?\n",
      "recommendation\n",
      "\n",
      "\n",
      "What are some great movies for fans of La La Land?\n",
      "recommendation\n",
      "\n",
      "\n",
      "What movies should I watch if I loved The Godfather?\n",
      "recommendation\n",
      "\n",
      "\n",
      "Are there any films like Interstellar that you recommend?\n",
      "recommendation\n",
      "\n",
      "\n",
      "Can you recommend movies with a tone similar to Blade Runner 2049?\n",
      "recommendation\n",
      "\n",
      "\n",
      "What are some must-watch movies for fans of psychological thrillers?\n",
      "recommendation\n",
      "\n",
      "\n",
      "If I enjoyed Parasite, what other films should I check out?\n",
      "recommendation\n",
      "\n",
      "\n",
      "What are some good space exploration movies like Gravity?\n",
      "recommendation\n",
      "\n",
      "\n",
      "Can you suggest historical dramas as compelling as Schindler's List?\n",
      "recommendation\n",
      "\n",
      "\n"
     ]
    }
   ],
   "execution_count": 29
  },
  {
   "metadata": {
    "ExecuteTime": {
     "end_time": "2024-11-24T16:28:44.206731Z",
     "start_time": "2024-11-24T16:28:43.859513Z"
    }
   },
   "cell_type": "code",
   "source": [
    "factual_queries_close_to_recommendations = [\n",
    "    \"Which directors are famous for making movies like The Godfather?\",\n",
    "    \"What films are often compared to Inception in terms of style?\",\n",
    "    \"Which screenwriters worked on stories similar to The Social Network?\",\n",
    "    \"What actors frequently star in movies like Shutter Island?\",\n",
    "    \"Who composed music for films in the same genre as Interstellar?\",\n",
    "    \"What are the most critically acclaimed films similar to Parasite?\",\n",
    "    \"Which filmmakers are associated with sci-fi epics like 2001: A Space Odyssey?\",\n",
    "    \"What movies are considered pioneers of crime storytelling like Heat?\",\n",
    "    \"Who are the leading directors of space-themed films similar to Gravity?\",\n",
    "    \"Which producers worked on movies with a narrative style like Pulp Fiction?\"\n",
    "]\n",
    "\n",
    "for q in factual_queries_close_to_recommendations:\n",
    "    print(q)\n",
    "    print(qr.predict(q))\n",
    "    print(\"\\n\")\n"
   ],
   "id": "ed2705039dfb0d3a",
   "outputs": [
    {
     "name": "stdout",
     "output_type": "stream",
     "text": [
      "Which directors are famous for making movies like The Godfather?\n",
      "factual\n",
      "\n",
      "\n",
      "What films are often compared to Inception in terms of style?\n",
      "recommendation\n",
      "\n",
      "\n",
      "Which screenwriters worked on stories similar to The Social Network?\n",
      "factual\n",
      "\n",
      "\n",
      "What actors frequently star in movies like Shutter Island?\n",
      "factual\n",
      "\n",
      "\n",
      "Who composed music for films in the same genre as Interstellar?\n",
      "factual\n",
      "\n",
      "\n",
      "What are the most critically acclaimed films similar to Parasite?\n",
      "recommendation\n",
      "\n",
      "\n",
      "Which filmmakers are associated with sci-fi epics like 2001: A Space Odyssey?\n",
      "factual\n",
      "\n",
      "\n",
      "What movies are considered pioneers of crime storytelling like Heat?\n",
      "recommendation\n",
      "\n",
      "\n",
      "Who are the leading directors of space-themed films similar to Gravity?\n",
      "factual\n",
      "\n",
      "\n",
      "Which producers worked on movies with a narrative style like Pulp Fiction?\n",
      "factual\n",
      "\n",
      "\n"
     ]
    }
   ],
   "execution_count": 30
  },
  {
   "metadata": {},
   "cell_type": "code",
   "outputs": [],
   "execution_count": null,
   "source": "",
   "id": "d2a5ed2e5b6bade9"
  }
 ],
 "metadata": {
  "kernelspec": {
   "display_name": "Python 3",
   "language": "python",
   "name": "python3"
  },
  "language_info": {
   "codemirror_mode": {
    "name": "ipython",
    "version": 2
   },
   "file_extension": ".py",
   "mimetype": "text/x-python",
   "name": "python",
   "nbconvert_exporter": "python",
   "pygments_lexer": "ipython2",
   "version": "2.7.6"
  }
 },
 "nbformat": 4,
 "nbformat_minor": 5
}
