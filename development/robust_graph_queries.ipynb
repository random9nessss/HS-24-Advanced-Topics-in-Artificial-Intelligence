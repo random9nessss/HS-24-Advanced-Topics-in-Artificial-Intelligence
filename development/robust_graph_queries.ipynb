{
 "cells": [
  {
   "cell_type": "code",
   "id": "initial_id",
   "metadata": {
    "collapsed": true,
    "ExecuteTime": {
     "end_time": "2024-10-10T12:54:32.541083Z",
     "start_time": "2024-10-10T12:54:32.534712Z"
    }
   },
   "source": [
    "from question_types.sparql import SparqlQueries\n",
    "from tabulate import tabulate\n",
    "import json\n",
    "import os"
   ],
   "outputs": [],
   "execution_count": 263
  },
  {
   "metadata": {
    "ExecuteTime": {
     "end_time": "2024-10-10T12:55:32.728036Z",
     "start_time": "2024-10-10T12:54:32.550431Z"
    }
   },
   "cell_type": "code",
   "source": "sparql = SparqlQueries(\"../dataset/14_graph.nt\")",
   "id": "b50a0b26589350a5",
   "outputs": [
    {
     "name": "stderr",
     "output_type": "stream",
     "text": [
      "2024-10-10 14:54:32,550 | INFO | __init__ | \u001B[92mParsing graph\u001B[0m\n",
      "2024-10-10 14:55:32,714 | INFO | __init__ | \u001B[92mGraph parsed\u001B[0m\n"
     ]
    }
   ],
   "execution_count": 264
  },
  {
   "metadata": {
    "ExecuteTime": {
     "end_time": "2024-10-10T12:55:32.742619Z",
     "start_time": "2024-10-10T12:55:32.736487Z"
    }
   },
   "cell_type": "code",
   "source": [
    "def execute_query(query):\n",
    "    sparql_result = sparql.execute_query(query)\n",
    "    result_lst = [\n",
    "        [str(item) for item in (row if isinstance(row, tuple) else [row])]\n",
    "        for row in sparql_result\n",
    "    ]\n",
    "    if not len(result_lst):\n",
    "        return print(\"Results were empty\")\n",
    "    headers = [f\"Col {idx}\" for idx in range(len(result_lst[0]))]\n",
    "    print(tabulate(result_lst[:min(3, len(result_lst))], headers=headers, tablefmt=\"grid\"))\n",
    "    return result_lst"
   ],
   "id": "b10ebd824bd72d95",
   "outputs": [],
   "execution_count": 265
  },
  {
   "metadata": {
    "ExecuteTime": {
     "end_time": "2024-10-10T12:55:32.838965Z",
     "start_time": "2024-10-10T12:55:32.829771Z"
    }
   },
   "cell_type": "code",
   "source": [
    "def get_movie_id_by_name(name: str) -> str:\n",
    "    query = f\"\"\"\n",
    "        PREFIX rdfs: <http://www.w3.org/2000/01/rdf-schema#>\n",
    "        PREFIX wd: <http://www.wikidata.org/entity/>\n",
    "        PREFIX wdt: <http://www.wikidata.org/prop/direct/>\n",
    "\n",
    "        SELECT ?movie WHERE {{\n",
    "            ?movie rdfs:label \"{name}\"@en ;\n",
    "                   wdt:P31/wdt:P279* wd:Q11424 .  # Match film or its subclasses\n",
    "        }}\n",
    "        LIMIT 1\n",
    "    \"\"\"\n",
    "    result_list = execute_query(query)\n",
    "    if result_list and result_list[0]:\n",
    "        return result_list[0][0]\n",
    "    return result_list\n",
    "\n",
    "def get_film_professional_id_by_name(name: str) -> str:\n",
    "    query = f\"\"\"\n",
    "        PREFIX rdfs: <http://www.w3.org/2000/01/rdf-schema#>\n",
    "        PREFIX wd: <http://www.wikidata.org/entity/>\n",
    "        PREFIX wdt: <http://www.wikidata.org/prop/direct/>\n",
    "\n",
    "        SELECT ?professional ?label ?roleLabel WHERE {{\n",
    "            ?professional rdfs:label ?label ;        # Get any label\n",
    "                          wdt:P31 wd:Q5 ;            # Instance of human\n",
    "                          wdt:P106 ?role .           # Occupation property\n",
    "\n",
    "            # Include relevant film industry professions and subclasses\n",
    "            ?role rdfs:label ?roleLabel .            # Get role label (for debugging)\n",
    "            FILTER(LANG(?roleLabel) = \"en\") .        # English labels for roles\n",
    "            FILTER(CONTAINS(LCASE(?label), LCASE(\"{name}\"))) .  # Match name substring in any label\n",
    "            FILTER(LANG(?label) = \"en\")  # English labels only\n",
    "        }}\n",
    "        LIMIT 10\n",
    "    \"\"\"\n",
    "    result_list = execute_query(query)\n",
    "    if result_list and result_list[0]:\n",
    "        return result_list[0][0]\n",
    "    return result_list\n",
    "\n",
    "def get_imdb_id_by_name(name: str) -> int:\n",
    "    query = f\"\"\"\n",
    "        PREFIX rdfs: <http://www.w3.org/2000/01/rdf-schema#>\n",
    "        PREFIX wd: <http://www.wikidata.org/entity/>\n",
    "        PREFIX wdt: <http://www.wikidata.org/prop/direct/>\n",
    "        PREFIX skos: <http://www.w3.org/2004/02/skos/core#>\n",
    "        PREFIX ddis: <http://ddis.ch/atai/>\n",
    "        SELECT ?imdbId\n",
    "        WHERE {{\n",
    "            ?entity rdfs:label \"{name}\"@en ;\n",
    "                    wdt:P345 ?imdbId .\n",
    "        }}\n",
    "    \"\"\"\n",
    "    result_list = execute_query(query)\n",
    "    if result_list and result_list[0]:\n",
    "        return result_list[0][0]\n",
    "    return result_list\n",
    "\n",
    "def get_actor_info_by_id(actor_id: str) -> dict:\n",
    "    query = f\"\"\"\n",
    "        PREFIX rdfs: <http://www.w3.org/2000/01/rdf-schema#>\n",
    "        PREFIX wd: <http://www.wikidata.org/entity/>\n",
    "        PREFIX wdt: <http://www.wikidata.org/prop/direct/>\n",
    "        \n",
    "        SELECT ?predicate ?predicateLabel ?object ?objectLabel WHERE {{\n",
    "          wd:{actor_id} ?predicate ?object .\n",
    "          OPTIONAL {{ ?predicate rdfs:label ?predicateLabel . FILTER(LANG(?predicateLabel) = \"en\") }}\n",
    "          OPTIONAL {{ ?object rdfs:label ?objectLabel . FILTER(LANG(?objectLabel) = \"en\") }}\n",
    "        }}\n",
    "        ORDER BY ?predicate\n",
    "    \"\"\"\n",
    "    return execute_query(query)\n",
    "\n",
    "def get_movie_info_by_id(movie_id: str) -> dict:\n",
    "    query = f\"\"\"\n",
    "        PREFIX wdt: <http://www.wikidata.org/prop/direct/> \n",
    "        PREFIX wd: <http://www.wikidata.org/entity/> \n",
    "        PREFIX rdfs: <http://www.w3.org/2000/01/rdf-schema#>\n",
    "        \n",
    "        SELECT ?item ?itemLabel ?typeLabel WHERE {{\n",
    "          wd:{movie_id} rdfs:label ?itemLabel ;\n",
    "                           wdt:P31 ?type .\n",
    "          ?type rdfs:label ?typeLabel .\n",
    "          FILTER(LANG(?itemLabel) = \"en\").\n",
    "          FILTER(LANG(?typeLabel) = \"en\").\n",
    "        }}\n",
    "    \"\"\"\n",
    "    return execute_query(query)\n"
   ],
   "id": "bca0258197a26d1e",
   "outputs": [],
   "execution_count": 266
  },
  {
   "metadata": {
    "ExecuteTime": {
     "end_time": "2024-10-10T12:55:32.861203Z",
     "start_time": "2024-10-10T12:55:32.849335Z"
    }
   },
   "cell_type": "code",
   "source": [
    "def get_all_of_type_film():\n",
    "    query = \"\"\"\n",
    "        PREFIX rdfs: <http://www.w3.org/2000/01/rdf-schema#>\n",
    "        PREFIX wd: <http://www.wikidata.org/entity/>\n",
    "        PREFIX wdt: <http://www.wikidata.org/prop/direct/>\n",
    "        PREFIX skos: <http://www.w3.org/2004/02/skos/core#>\n",
    "        PREFIX ddis: <http://ddis.ch/atai/>\n",
    "        \n",
    "        SELECT ?movieLabel ?movie ?imdbID WHERE {\n",
    "            ?movie wdt:P31/wdt:P279* wd:Q11424 .  # instance of film or any subclass of film\n",
    "            ?movie rdfs:label ?movieLabel .  # only films with a label\n",
    "            OPTIONAL { ?movie wdt:P345 ?imdbID . }  # IMDb ID\n",
    "            FILTER(LANG(?movieLabel) = \"en\") .\n",
    "        }\n",
    "        ORDER BY ?movieLabel\n",
    "    \"\"\"\n",
    "    return execute_query(query)\n",
    "\n",
    "\n",
    "def get_all_of_type_actor():\n",
    "    query = \"\"\"\n",
    "        PREFIX rdfs: <http://www.w3.org/2000/01/rdf-schema#>\n",
    "        PREFIX wd: <http://www.wikidata.org/entity/>\n",
    "        PREFIX wdt: <http://www.wikidata.org/prop/direct/>\n",
    "        PREFIX skos: <http://www.w3.org/2004/02/skos/core#>\n",
    "        PREFIX ddis: <http://ddis.ch/atai/>\n",
    "\n",
    "        SELECT ?actorLabel ?actor ?imdbID WHERE {\n",
    "            ?actor wdt:P31 wd:Q5 ;  # instance of human\n",
    "                   wdt:P106/wdt:P279* wd:Q33999 ;  # occupation is an actor or any subclass of actor\n",
    "                   rdfs:label ?actorLabel .\n",
    "            FILTER(LANG(?actorLabel) = \"en\")\n",
    "            OPTIONAL { ?actor wdt:P345 ?imdbID . }  # IMDb ID\n",
    "        }\n",
    "        ORDER BY ?actorLabel\n",
    "    \"\"\"\n",
    "    return execute_query(query)\n",
    "\n",
    "def get_all_of_type_film_professionals():\n",
    "    query = \"\"\"\n",
    "        PREFIX rdfs: <http://www.w3.org/2000/01/rdf-schema#>\n",
    "        PREFIX wd: <http://www.wikidata.org/entity/>\n",
    "        PREFIX wdt: <http://www.wikidata.org/prop/direct/>\n",
    "        PREFIX skos: <http://www.w3.org/2004/02/skos/core#>\n",
    "        PREFIX ddis: <http://ddis.ch/atai/>\n",
    "\n",
    "        SELECT ?personLabel ?person ?imdbID ?roleLabel WHERE {\n",
    "            ?person wdt:P31 wd:Q5 ;  # instance of human\n",
    "                   wdt:P106 ?role ;  # occupation\n",
    "                   rdfs:label ?personLabel .\n",
    "            FILTER(LANG(?personLabel) = \"en\")\n",
    "            \n",
    "            # Include relevant film industry professions\n",
    "            VALUES ?role { \n",
    "                wd:Q2526255  # film director\n",
    "                wd:Q947873   # film producer\n",
    "                wd:Q28389    # screenwriter\n",
    "                wd:Q488111   # cinematographer\n",
    "                wd:Q3455803  # film editor\n",
    "                wd:Q36479    # composer\n",
    "                wd:Q3282637  # voice actor\n",
    "            }\n",
    "            \n",
    "            OPTIONAL { ?role rdfs:label ?roleLabel FILTER(LANG(?roleLabel) = \"en\") . }  # Get occupation label\n",
    "            OPTIONAL { ?person wdt:P345 ?imdbID . }  # IMDb ID\n",
    "        }\n",
    "        ORDER BY ?personLabel\n",
    "    \"\"\"\n",
    "    return execute_query(query)\n"
   ],
   "id": "f757b729e98900a0",
   "outputs": [],
   "execution_count": 267
  },
  {
   "metadata": {
    "ExecuteTime": {
     "end_time": "2024-10-10T12:55:32.889121Z",
     "start_time": "2024-10-10T12:55:32.873281Z"
    }
   },
   "cell_type": "code",
   "source": [
    "def ensure_directory_exists(directory):\n",
    "    if not os.path.exists(directory):\n",
    "        os.makedirs(directory)\n",
    "\n",
    "def export_actor_json():\n",
    "    try:\n",
    "        ensure_directory_exists('exports')\n",
    "        actor_lst = get_all_of_type_actor()\n",
    "        db = {row[0]: (row[1], row[2]) for row in actor_lst}  \n",
    "        with open('exports/actors_db.json', 'w') as file:\n",
    "            json.dump(db, file)\n",
    "        print(f\"Actor data exported successfully. Stored {len(db)} actors.\")\n",
    "    except Exception as e:\n",
    "        print(f\"An error occurred: {e}\")\n",
    "\n",
    "def export_professionals_json():\n",
    "    try:\n",
    "        ensure_directory_exists('exports')\n",
    "        actor_lst = get_all_of_type_film_professionals()\n",
    "        db = {row[0]: (row[1], row[2]) for row in actor_lst}  \n",
    "        with open('exports/professionals_db.json', 'w') as file:\n",
    "            json.dump(db, file)\n",
    "        print(f\"Actor data exported successfully. Stored {len(db)} actors.\")\n",
    "    except Exception as e:\n",
    "        print(f\"An error occurred: {e}\")\n",
    "\n",
    "def export_film_json():\n",
    "    try:\n",
    "        ensure_directory_exists('exports')\n",
    "        film_lst = get_all_of_type_film()\n",
    "        db = {row[0]: (row[1], row[2]) for row in film_lst}\n",
    "        with open('exports/film_db.json', 'w') as file:\n",
    "            json.dump(db, file)\n",
    "        print(f\"Film data exported successfully. Stored {len(db)} films.\")\n",
    "    except Exception as e:\n",
    "        print(f\"An error occurred: {e}\")\n"
   ],
   "id": "4054fdcc5ea504d",
   "outputs": [],
   "execution_count": 268
  },
  {
   "metadata": {
    "ExecuteTime": {
     "end_time": "2024-10-10T12:55:32.906818Z",
     "start_time": "2024-10-10T12:55:32.897807Z"
    }
   },
   "cell_type": "code",
   "source": [
    "def search_anything_by_name(name: str):\n",
    "    query = f\"\"\"\n",
    "        PREFIX rdfs: <http://www.w3.org/2000/01/rdf-schema#>\n",
    "        PREFIX wd: <http://www.wikidata.org/entity/>\n",
    "        PREFIX wdt: <http://www.wikidata.org/prop/direct/>\n",
    "        PREFIX schema: <http://schema.org/>\n",
    "\n",
    "        SELECT ?entity ?label ?description WHERE {{\n",
    "            ?entity rdfs:label ?label .        # Get any entity with a label\n",
    "            OPTIONAL {{ ?entity schema:description ?description FILTER(LANG(?description) = \"en\") }}  # Get descriptions if available\n",
    "            FILTER(CONTAINS(LCASE(?label), LCASE(\"{name}\"))) .  # Match name substring, case-insensitive\n",
    "            FILTER(LANG(?label) = \"en\")  # English labels only\n",
    "        }}\n",
    "        LIMIT 10\n",
    "    \"\"\"\n",
    "    return execute_query(query)\n"
   ],
   "id": "a8e6133a92fc7e73",
   "outputs": [],
   "execution_count": 269
  },
  {
   "metadata": {
    "ExecuteTime": {
     "end_time": "2024-10-10T12:55:36.254795Z",
     "start_time": "2024-10-10T12:55:32.917707Z"
    }
   },
   "cell_type": "code",
   "source": "export_film_json()",
   "id": "514d6eab3e568596",
   "outputs": [
    {
     "name": "stdout",
     "output_type": "stream",
     "text": [
      "+-----------------------+-----------------------------------------+-----------+\n",
      "| Col 0                 | Col 1                                   | Col 2     |\n",
      "+=======================+=========================================+===========+\n",
      "| \"Crocodile\" Dundee    | http://www.wikidata.org/entity/Q615254  | tt0090555 |\n",
      "+-----------------------+-----------------------------------------+-----------+\n",
      "| \"Crocodile\" Dundee II | http://www.wikidata.org/entity/Q1140745 | tt0092493 |\n",
      "+-----------------------+-----------------------------------------+-----------+\n",
      "| #1 Cheerleader Camp   | http://www.wikidata.org/entity/Q2299302 | tt1637976 |\n",
      "+-----------------------+-----------------------------------------+-----------+\n",
      "Film data exported successfully. Stored 25523 films.\n"
     ]
    }
   ],
   "execution_count": 270
  },
  {
   "metadata": {
    "ExecuteTime": {
     "end_time": "2024-10-10T12:55:42.870318Z",
     "start_time": "2024-10-10T12:55:36.264164Z"
    }
   },
   "cell_type": "code",
   "source": "export_actor_json()",
   "id": "51d6b37cefae21c",
   "outputs": [
    {
     "name": "stdout",
     "output_type": "stream",
     "text": [
      "+---------------------+-----------------------------------------+-----------+\n",
      "| Col 0               | Col 1                                   | Col 2     |\n",
      "+=====================+=========================================+===========+\n",
      "| \"Weird Al\" Yankovic | http://www.wikidata.org/entity/Q8349    | nm0946148 |\n",
      "+---------------------+-----------------------------------------+-----------+\n",
      "| \"Weird Al\" Yankovic | http://www.wikidata.org/entity/Q8349    | nm0946148 |\n",
      "+---------------------+-----------------------------------------+-----------+\n",
      "| 40                  | http://www.wikidata.org/entity/Q3599072 | nm0790520 |\n",
      "+---------------------+-----------------------------------------+-----------+\n",
      "Actor data exported successfully. Stored 56177 actors.\n"
     ]
    }
   ],
   "execution_count": 271
  },
  {
   "metadata": {
    "ExecuteTime": {
     "end_time": "2024-10-10T12:55:46.944941Z",
     "start_time": "2024-10-10T12:55:43.018370Z"
    }
   },
   "cell_type": "code",
   "source": "export_professionals_json()",
   "id": "9c5d029233e730b1",
   "outputs": [
    {
     "name": "stdout",
     "output_type": "stream",
     "text": [
      "Results were empty\n",
      "An error occurred: 'NoneType' object is not iterable\n"
     ]
    }
   ],
   "execution_count": 272
  },
  {
   "metadata": {
    "ExecuteTime": {
     "end_time": "2024-10-10T12:56:01.368695Z",
     "start_time": "2024-10-10T12:55:47.012497Z"
    }
   },
   "cell_type": "code",
   "source": "search_anything_by_name(\"Quentin Tarantino\")",
   "id": "c9d10b279dc1f1f9",
   "outputs": [
    {
     "name": "stdout",
     "output_type": "stream",
     "text": [
      "+--------------------------------------+-------------------+-----------------------------------------------------------+\n",
      "| Col 0                                | Col 1             | Col 2                                                     |\n",
      "+======================================+===================+===========================================================+\n",
      "| http://www.wikidata.org/entity/Q3772 | Quentin Tarantino | American film director, screenwriter, producer, and actor |\n",
      "+--------------------------------------+-------------------+-----------------------------------------------------------+\n"
     ]
    },
    {
     "data": {
      "text/plain": [
       "[['http://www.wikidata.org/entity/Q3772',\n",
       "  'Quentin Tarantino',\n",
       "  'American film director, screenwriter, producer, and actor']]"
      ]
     },
     "execution_count": 273,
     "metadata": {},
     "output_type": "execute_result"
    }
   ],
   "execution_count": 273
  },
  {
   "metadata": {
    "ExecuteTime": {
     "end_time": "2024-10-10T12:56:01.397156Z",
     "start_time": "2024-10-10T12:56:01.384109Z"
    }
   },
   "cell_type": "code",
   "source": "get_imdb_id_by_name(\"Avatar\")",
   "id": "15fe1f554e9c331",
   "outputs": [
    {
     "name": "stdout",
     "output_type": "stream",
     "text": [
      "+-----------+\n",
      "| Col 0     |\n",
      "+===========+\n",
      "| tt0499549 |\n",
      "+-----------+\n"
     ]
    },
    {
     "data": {
      "text/plain": [
       "'tt0499549'"
      ]
     },
     "execution_count": 274,
     "metadata": {},
     "output_type": "execute_result"
    }
   ],
   "execution_count": 274
  },
  {
   "metadata": {
    "ExecuteTime": {
     "end_time": "2024-10-10T12:56:01.451454Z",
     "start_time": "2024-10-10T12:56:01.431449Z"
    }
   },
   "cell_type": "code",
   "source": "get_movie_id_by_name(\"Avatar\")",
   "id": "8946bbc0da6e4f52",
   "outputs": [
    {
     "name": "stdout",
     "output_type": "stream",
     "text": [
      "+---------------------------------------+\n",
      "| Col 0                                 |\n",
      "+=======================================+\n",
      "| http://www.wikidata.org/entity/Q24871 |\n",
      "+---------------------------------------+\n"
     ]
    },
    {
     "data": {
      "text/plain": [
       "'http://www.wikidata.org/entity/Q24871'"
      ]
     },
     "execution_count": 275,
     "metadata": {},
     "output_type": "execute_result"
    }
   ],
   "execution_count": 275
  },
  {
   "metadata": {
    "ExecuteTime": {
     "end_time": "2024-10-10T12:56:09.878982Z",
     "start_time": "2024-10-10T12:56:01.478314Z"
    }
   },
   "cell_type": "code",
   "source": "get_film_professional_id_by_name(\"Quentin Tarantino\")",
   "id": "de9e27ce993ff799",
   "outputs": [
    {
     "name": "stdout",
     "output_type": "stream",
     "text": [
      "+--------------------------------------+-------------------+---------+\n",
      "| Col 0                                | Col 1             | Col 2   |\n",
      "+======================================+===================+=========+\n",
      "| http://www.wikidata.org/entity/Q3772 | Quentin Tarantino | actor   |\n",
      "+--------------------------------------+-------------------+---------+\n",
      "| http://www.wikidata.org/entity/Q3772 | Quentin Tarantino | writer  |\n",
      "+--------------------------------------+-------------------+---------+\n"
     ]
    },
    {
     "data": {
      "text/plain": [
       "'http://www.wikidata.org/entity/Q3772'"
      ]
     },
     "execution_count": 276,
     "metadata": {},
     "output_type": "execute_result"
    }
   ],
   "execution_count": 276
  },
  {
   "metadata": {
    "ExecuteTime": {
     "end_time": "2024-10-10T12:56:18.219484Z",
     "start_time": "2024-10-10T12:56:09.889901Z"
    }
   },
   "cell_type": "code",
   "source": "get_film_professional_id_by_name(\"Hans Zimmer\")",
   "id": "be74197aaaed7c7c",
   "outputs": [
    {
     "name": "stdout",
     "output_type": "stream",
     "text": [
      "+---------------------------------------+-------------+----------+\n",
      "| Col 0                                 | Col 1       | Col 2    |\n",
      "+=======================================+=============+==========+\n",
      "| http://www.wikidata.org/entity/Q76364 | Hans Zimmer | musician |\n",
      "+---------------------------------------+-------------+----------+\n"
     ]
    },
    {
     "data": {
      "text/plain": [
       "'http://www.wikidata.org/entity/Q76364'"
      ]
     },
     "execution_count": 277,
     "metadata": {},
     "output_type": "execute_result"
    }
   ],
   "execution_count": 277
  },
  {
   "metadata": {
    "ExecuteTime": {
     "end_time": "2024-10-10T12:56:18.240217Z",
     "start_time": "2024-10-10T12:56:18.227453Z"
    }
   },
   "cell_type": "code",
   "source": "",
   "id": "a1dab9fdfaf43a2d",
   "outputs": [],
   "execution_count": null
  }
 ],
 "metadata": {
  "kernelspec": {
   "display_name": "Python 3",
   "language": "python",
   "name": "python3"
  },
  "language_info": {
   "codemirror_mode": {
    "name": "ipython",
    "version": 2
   },
   "file_extension": ".py",
   "mimetype": "text/x-python",
   "name": "python",
   "nbconvert_exporter": "python",
   "pygments_lexer": "ipython2",
   "version": "2.7.6"
  }
 },
 "nbformat": 4,
 "nbformat_minor": 5
}
