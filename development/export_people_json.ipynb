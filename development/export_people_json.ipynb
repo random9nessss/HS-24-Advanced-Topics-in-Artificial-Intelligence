{
 "cells": [
  {
   "cell_type": "code",
   "id": "initial_id",
   "metadata": {
    "collapsed": true,
    "ExecuteTime": {
     "end_time": "2024-10-31T12:59:05.265446Z",
     "start_time": "2024-10-31T12:59:05.212514Z"
    }
   },
   "source": [
    "from question_types.sparql import SparqlQueries\n",
    "from tabulate import tabulate\n",
    "import json\n",
    "import os\n",
    "import unicodedata\n",
    "import re"
   ],
   "outputs": [],
   "execution_count": 1
  },
  {
   "metadata": {
    "ExecuteTime": {
     "end_time": "2024-10-31T12:59:58.100600Z",
     "start_time": "2024-10-31T12:59:05.271239Z"
    }
   },
   "cell_type": "code",
   "source": "sparql = SparqlQueries(\"../dataset/14_graph.nt\")",
   "id": "6f6f08d24d9baf17",
   "outputs": [
    {
     "name": "stderr",
     "output_type": "stream",
     "text": [
      "2024-10-31 13:59:05,271 | INFO | __init__ | Initializing SparqlQueries class...\n",
      "2024-10-31 13:59:58,094 | INFO | __init__ | Graph parsed\n",
      "2024-10-31 13:59:58,095 | INFO | __init__ | SparqlQueries class initialized successfully.\n"
     ]
    }
   ],
   "execution_count": 2
  },
  {
   "metadata": {
    "ExecuteTime": {
     "end_time": "2024-10-31T12:59:58.432732Z",
     "start_time": "2024-10-31T12:59:58.423855Z"
    }
   },
   "cell_type": "code",
   "source": [
    "def execute_query(query):\n",
    "    sparql_result = sparql.execute_query(query)\n",
    "    result_lst = [\n",
    "        [str(item) for item in (row if isinstance(row, tuple) else [row])]\n",
    "        for row in sparql_result\n",
    "    ]\n",
    "    if not len(result_lst):\n",
    "        return print(\"Results were empty\")\n",
    "    headers = [f\"Col {idx}\" for idx in range(len(result_lst[0]))]\n",
    "    return result_lst"
   ],
   "id": "f3869b5c1b4fd684",
   "outputs": [],
   "execution_count": 3
  },
  {
   "metadata": {
    "ExecuteTime": {
     "end_time": "2024-10-31T12:59:58.470260Z",
     "start_time": "2024-10-31T12:59:58.454272Z"
    }
   },
   "cell_type": "code",
   "source": [
    "def get_all_humans_with_optional_occupation():\n",
    "    query = \"\"\"\n",
    "        PREFIX rdfs: <http://www.w3.org/2000/01/rdf-schema#>\n",
    "        PREFIX wd: <http://www.wikidata.org/entity/>\n",
    "        PREFIX wdt: <http://www.wikidata.org/prop/direct/>\n",
    "\n",
    "        SELECT ?human ?humanLabel ?occupation ?occupationLabel WHERE {\n",
    "            ?human wdt:P31 wd:Q5 ;           # Ensure the entity is a human\n",
    "                   rdfs:label ?humanLabel .  # Get human label\n",
    "\n",
    "            OPTIONAL {\n",
    "                ?human wdt:P106 ?occupation .           # Occupation property (optional)\n",
    "                ?occupation rdfs:label ?occupationLabel  # Occupation label (optional)\n",
    "                FILTER(LANG(?occupationLabel) = \"en\")    # English labels for occupations\n",
    "            }\n",
    "\n",
    "            FILTER(LANG(?humanLabel) = \"en\")             # English labels for humans\n",
    "        }\n",
    "    \"\"\"\n",
    "    return execute_query(query)"
   ],
   "id": "5ec859f6e4968532",
   "outputs": [],
   "execution_count": 4
  },
  {
   "metadata": {
    "ExecuteTime": {
     "end_time": "2024-10-31T12:59:58.491546Z",
     "start_time": "2024-10-31T12:59:58.484592Z"
    }
   },
   "cell_type": "code",
   "source": [
    "def normalize_string(s):\n",
    "    \"\"\"Cleans the input entity to a uniform naming convention, by removing non ascii characters, encoding it to utf, setting it to lowercase, and removing redundant spaces\"\"\"\n",
    "    s = s.lower()\n",
    "    s = unicodedata.normalize('NFKD', s)\n",
    "    s = s.encode('ascii', 'ignore').decode('utf-8')\n",
    "    s = re.sub(r'[^\\w\\s]', '', s)\n",
    "    s = ' '.join(s.split())\n",
    "    return s\n",
    "\n",
    "def ensure_directory_exists(directory):\n",
    "    if not os.path.exists(directory):\n",
    "        os.makedirs(directory)\n",
    "               \n",
    "def export_people_json():\n",
    "    ensure_directory_exists('exports')\n",
    "\n",
    "    people_lst = get_all_humans_with_optional_occupation()\n",
    "    \n",
    "    print(tabulate(list(people_lst[:5]), headers=[\"Entity ID\", \"Name\", \"Occupation ID\", \"Occupation Label\"], tablefmt=\"grid\"))\n",
    "    \n",
    "    people_json = {row[0]: normalize_string(row[1]) for row in people_lst if row[1] and len(row[1]) > 3}\n",
    "     \n",
    "    with open('exports/people_db.json', 'w', encoding=\"utf-8\") as file:\n",
    "            json.dump(people_json, file, ensure_ascii=False, indent=2)\n",
    "    "
   ],
   "id": "2fc65bd70dad26c0",
   "outputs": [],
   "execution_count": 5
  },
  {
   "metadata": {
    "ExecuteTime": {
     "end_time": "2024-10-31T13:00:16.413158Z",
     "start_time": "2024-10-31T12:59:58.504284Z"
    }
   },
   "cell_type": "code",
   "source": "export_people_json()",
   "id": "788711bcbb409ae4",
   "outputs": [
    {
     "name": "stdout",
     "output_type": "stream",
     "text": [
      "+-------------------------------------------+------------------+---------------------------------------+--------------------+\n",
      "| Entity ID                                 | Name             | Occupation ID                         | Occupation Label   |\n",
      "+===========================================+==================+=======================================+====================+\n",
      "| http://www.wikidata.org/entity/Q100423423 | Viktor Krištof   | http://www.wikidata.org/entity/Q33999 | actor              |\n",
      "+-------------------------------------------+------------------+---------------------------------------+--------------------+\n",
      "| http://www.wikidata.org/entity/Q1012658   | Yuji Nomi        | None                                  | None               |\n",
      "+-------------------------------------------+------------------+---------------------------------------+--------------------+\n",
      "| http://www.wikidata.org/entity/Q1019375   | Béatrice Thiriet | None                                  | None               |\n",
      "+-------------------------------------------+------------------+---------------------------------------+--------------------+\n",
      "| http://www.wikidata.org/entity/Q102290694 | Oleg Kapanets    | http://www.wikidata.org/entity/Q33999 | actor              |\n",
      "+-------------------------------------------+------------------+---------------------------------------+--------------------+\n",
      "| http://www.wikidata.org/entity/Q102443065 | Ram Lee          | None                                  | None               |\n",
      "+-------------------------------------------+------------------+---------------------------------------+--------------------+\n"
     ]
    }
   ],
   "execution_count": 6
  },
  {
   "metadata": {
    "ExecuteTime": {
     "end_time": "2024-10-31T13:00:16.425561Z",
     "start_time": "2024-10-31T13:00:16.420756Z"
    }
   },
   "cell_type": "code",
   "source": "",
   "id": "a271be9779cfef2b",
   "outputs": [],
   "execution_count": null
  }
 ],
 "metadata": {
  "kernelspec": {
   "display_name": "Python 3",
   "language": "python",
   "name": "python3"
  },
  "language_info": {
   "codemirror_mode": {
    "name": "ipython",
    "version": 2
   },
   "file_extension": ".py",
   "mimetype": "text/x-python",
   "name": "python",
   "nbconvert_exporter": "python",
   "pygments_lexer": "ipython2",
   "version": "2.7.6"
  }
 },
 "nbformat": 4,
 "nbformat_minor": 5
}
