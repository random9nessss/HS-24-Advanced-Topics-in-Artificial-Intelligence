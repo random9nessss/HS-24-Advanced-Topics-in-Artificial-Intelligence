{
 "cells": [
  {
   "cell_type": "code",
   "id": "initial_id",
   "metadata": {
    "collapsed": true,
    "ExecuteTime": {
     "end_time": "2024-10-16T17:20:18.781178Z",
     "start_time": "2024-10-16T17:20:18.769045Z"
    }
   },
   "source": [
    "import pandas as pd\n",
    "from rapidfuzz import process, fuzz\n",
    "import json\n",
    "import zipfile\n",
    "import os\n",
    "import requests\n",
    "import numpy as np\n",
    "import nltk\n",
    "from nltk.corpus import stopwords\n",
    "from transformers import pipeline"
   ],
   "outputs": [],
   "execution_count": 185
  },
  {
   "metadata": {
    "ExecuteTime": {
     "end_time": "2024-10-16T17:20:19.426365Z",
     "start_time": "2024-10-16T17:20:19.000448Z"
    }
   },
   "cell_type": "code",
   "source": [
    "import torch\n",
    "from transformers import AutoTokenizer, AutoModelForTokenClassification, pipeline\n",
    "from transformers import logging as transformers_logging\n",
    "transformers_logging.set_verbosity_error()\n",
    "\n",
    "class NERParser:\n",
    "    def __init__(self, model_name: str = \"dslim/bert-base-NER\", lowercase: bool = False):\n",
    "        \"\"\"\n",
    "        Initialize the NER parser with a model and optionally configure the lowercase preprocessing.\n",
    "        \"\"\"\n",
    "        self.model_name = model_name\n",
    "        self.lowercase = lowercase\n",
    "        self.device = self.get_device()\n",
    "        \n",
    "        # Load the tokenizer and model\n",
    "        self.tokenizer = AutoTokenizer.from_pretrained(self.model_name, do_lower_case=self.lowercase)\n",
    "        self.model = AutoModelForTokenClassification.from_pretrained(self.model_name)\n",
    "        \n",
    "        # Set up the NER pipeline\n",
    "        self.nlp_pipeline = pipeline(\"ner\", \n",
    "                                     model=self.model, \n",
    "                                     tokenizer=self.tokenizer, \n",
    "                                     device=self.device, \n",
    "                                     aggregation_strategy=\"simple\")\n",
    "\n",
    "    def get_device(self):\n",
    "        \"\"\"\n",
    "        Determines whether to use MPS, CUDA, or CPU depending on the available hardware.\n",
    "        \"\"\"\n",
    "        if torch.backends.mps.is_available():\n",
    "            print(\"MPS device found, using MPS backend.\\n\")\n",
    "            return torch.device(\"mps\")\n",
    "        elif torch.cuda.is_available():\n",
    "            print(f\"CUDA device found, using CUDA backend. Device: {torch.cuda.get_device_name(0)}\\n\")\n",
    "            return torch.device(\"cuda\")\n",
    "        else:\n",
    "            print(\"Neither MPS nor CUDA found, using CPU.\\n\")\n",
    "            return torch.device(\"cpu\")\n",
    "\n",
    "    \n",
    "    def parse_ner_results(self, ner_results: list):\n",
    "        \"\"\"\n",
    "        Parse the NER results and extract entities related to 'PER' (persons) and 'MISC' (potential movie titles).\n",
    "        \"\"\"\n",
    "        per_entities, misc_entities = [], []\n",
    "        \n",
    "        for entity in ner_results:\n",
    "            # Extraction of all Persons\n",
    "            if entity['entity_group'] == 'PER':\n",
    "                per_entities.append(entity['word'])\n",
    "            # Extraction of all Misc that could indicate movies\n",
    "            elif entity['entity_group'] == 'MISC':\n",
    "                misc_entities.append(entity['word'])\n",
    "        \n",
    "        return per_entities, misc_entities\n",
    "\n",
    "    \n",
    "    def process_query(self, query: str):\n",
    "        \"\"\"\n",
    "        Processes a text query, runs NER, and returns the extracted actors and movie names.\n",
    "        \"\"\"\n",
    "        # Optionally lowercase the input if configured\n",
    "        if self.lowercase:\n",
    "            query = query.lower()\n",
    "        \n",
    "        # Run the NER pipeline\n",
    "        ner_results = self.nlp_pipeline(query)\n",
    "\n",
    "        # Parse the results to extract actors and movies\n",
    "        per_entities, misc_entities = self.parse_ner_results(ner_results)\n",
    "        \n",
    "        return per_entities, misc_entities\n",
    "\n",
    "ner_parser = NERParser(lowercase=False)"
   ],
   "id": "471a5a310f6ee704",
   "outputs": [
    {
     "name": "stdout",
     "output_type": "stream",
     "text": [
      "Neither MPS nor CUDA found, using CPU.\n",
      "\n"
     ]
    }
   ],
   "execution_count": 186
  },
  {
   "metadata": {
    "ExecuteTime": {
     "end_time": "2024-10-16T17:20:20.341267Z",
     "start_time": "2024-10-16T17:20:19.429402Z"
    }
   },
   "cell_type": "code",
   "source": [
    "# db = pd.read_pickle('exports/graph.pkl')\n",
    "db = pd.read_pickle(\"exports/extended_graph_triples.pkl\")\n",
    "reverse_index = pd.read_pickle(\"./exports/reverse_index.pkl\")"
   ],
   "id": "451f143f83042411",
   "outputs": [],
   "execution_count": 187
  },
  {
   "metadata": {
    "ExecuteTime": {
     "end_time": "2024-10-16T17:20:20.612292Z",
     "start_time": "2024-10-16T17:20:20.526939Z"
    }
   },
   "cell_type": "code",
   "source": [
    "# query = \"Where was Angela Jolie born?\"\n",
    "# query = \"In which movies did Angela Jolie have a role?\"\n",
    "query = \"Who is the director of Star Wars: Episode VI - Return of the Jedi?\" # Richard Marquand\n",
    "# query = \"Who is the screenwriter of The Masked Gang: Cyprus?\" # Cengiz Küçükayvaz\n",
    "# query = \"When was 'The Godfather' released?\" # 1972\n",
    "person, movies = ner_parser.process_query(query)"
   ],
   "id": "6a7abea64180c1a4",
   "outputs": [],
   "execution_count": 188
  },
  {
   "metadata": {
    "ExecuteTime": {
     "end_time": "2024-10-16T17:20:21.413955Z",
     "start_time": "2024-10-16T17:20:20.822756Z"
    }
   },
   "cell_type": "code",
   "source": [
    "db['subject_id'] = db['subject_id'].str.strip()\n",
    "db['subject_label'] = db['subject_label'].str.strip()\n",
    "db['predicate_label'] = db['predicate_label'].str.strip()\n",
    "db['object_label'] = db['object_label'].str.strip()"
   ],
   "id": "ec6a516fd0763149",
   "outputs": [],
   "execution_count": 189
  },
  {
   "metadata": {
    "ExecuteTime": {
     "end_time": "2024-10-16T17:31:39.157708Z",
     "start_time": "2024-10-16T17:31:39.147636Z"
    }
   },
   "cell_type": "code",
   "source": [
    "def get_df_by_label(labels:list):\n",
    "    context_person = list()\n",
    "    for p in labels:\n",
    "    \n",
    "        # Levenshtein matching for closest match\n",
    "        matched_subject_label = process.extractOne(p, reverse_index.subject_label, scorer=fuzz.ratio)\n",
    "\n",
    "        if not matched_subject_label or not matched_subject_label[1] > 80:\n",
    "            continue\n",
    "    \n",
    "        closest_match_label = matched_subject_label[0]\n",
    "        \n",
    "        lst_of_ids = reverse_index.get(reverse_index.subject_label == closest_match_label, []).subject_id.to_list()\n",
    "        \n",
    "        if len(lst_of_ids) == 0:\n",
    "            continue\n",
    "    \n",
    "        relevant = db[db.subject_id.isin(lst_of_ids)].dropna(axis=1)\n",
    "        for index, row in relevant.iterrows():\n",
    "            context_person.append(row)\n",
    "        \n",
    "    c_df = pd.DataFrame(\n",
    "        data=context_person,\n",
    "        columns=['subject_id', 'subject_label', 'predicate_label', 'object_label']\n",
    "    )\n",
    "    \n",
    "    c_df.set_index('subject_id', inplace=True)\n",
    "\n",
    "    # Pivot the DataFrame with a custom aggregation function\n",
    "    pivot_df = c_df.pivot_table(\n",
    "        index='subject_id',\n",
    "        columns='predicate_label',\n",
    "        values='object_label',\n",
    "        aggfunc=lambda x: ' | '.join(x.astype(str))\n",
    "    )\n",
    "    \n",
    "    pivot_df.reset_index(inplace=True)\n",
    "    \n",
    "    return pivot_df\n"
   ],
   "id": "6e870a8029e45bec",
   "outputs": [],
   "execution_count": 232
  },
  {
   "metadata": {
    "ExecuteTime": {
     "end_time": "2024-10-16T17:31:39.370808Z",
     "start_time": "2024-10-16T17:31:39.363897Z"
    }
   },
   "cell_type": "code",
   "source": "person, movies",
   "id": "fb15d37654f0c392",
   "outputs": [
    {
     "data": {
      "text/plain": [
       "([], ['Star Wars', 'Episode VI', 'Return of the Jedi'])"
      ]
     },
     "execution_count": 233,
     "metadata": {},
     "output_type": "execute_result"
    }
   ],
   "execution_count": 233
  },
  {
   "metadata": {
    "ExecuteTime": {
     "end_time": "2024-10-16T17:31:39.848374Z",
     "start_time": "2024-10-16T17:31:39.660963Z"
    }
   },
   "cell_type": "code",
   "source": [
    "context_df_person = get_df_by_label(person)\n",
    "context_df_movie = get_df_by_label(movies)"
   ],
   "id": "e42ace3fd0c21cd9",
   "outputs": [
    {
     "name": "stdout",
     "output_type": "stream",
     "text": [
      "[('Star Wars', 100.0, 119592), ('Sakura Wars', 80.0, 112553), ('Stuart Waks', 80.0, 121184)]\n",
      "[('episode', 70.58823529411764, 144706), ('prisoner', 55.55555555555556, 147739), ('La Flor - Episode 1', 55.172413793103445, 73110)]\n",
      "[('Return of the Idiot', 86.48648648648648, 107168), ('Return of the Hero', 83.33333333333334, 107167), ('Return of the Seven', 81.08108108108108, 107178)]\n"
     ]
    }
   ],
   "execution_count": 234
  },
  {
   "metadata": {
    "ExecuteTime": {
     "end_time": "2024-10-16T17:31:40.131776Z",
     "start_time": "2024-10-16T17:31:40.124035Z"
    }
   },
   "cell_type": "code",
   "source": [
    "context_df_movie = context_df_movie.rename(columns={'subject_id': 'id'})\n",
    "context_df_person = context_df_person.rename(columns={'subject_id': 'id'})\n",
    "\n",
    "context_df_movie = context_df_movie.rename(columns={'node label': 'name'})\n",
    "context_df_person = context_df_person.rename(columns={'node label': 'name'})\n",
    "\n",
    "context_df_movie = context_df_movie.rename(columns={'publication date': 'release date publication'})\n",
    "context_df_person = context_df_person.rename(columns={'cast member': 'movies cast role play'})"
   ],
   "id": "8894b50a2c235caa",
   "outputs": [],
   "execution_count": 235
  },
  {
   "metadata": {
    "ExecuteTime": {
     "end_time": "2024-10-16T17:31:41.281352Z",
     "start_time": "2024-10-16T17:31:41.268651Z"
    }
   },
   "cell_type": "code",
   "source": "context_df_person.head()",
   "id": "748cb768b4c9a46b",
   "outputs": [
    {
     "data": {
      "text/plain": [
       "Empty DataFrame\n",
       "Columns: [id]\n",
       "Index: []"
      ],
      "text/html": [
       "<div>\n",
       "<style scoped>\n",
       "    .dataframe tbody tr th:only-of-type {\n",
       "        vertical-align: middle;\n",
       "    }\n",
       "\n",
       "    .dataframe tbody tr th {\n",
       "        vertical-align: top;\n",
       "    }\n",
       "\n",
       "    .dataframe thead th {\n",
       "        text-align: right;\n",
       "    }\n",
       "</style>\n",
       "<table border=\"1\" class=\"dataframe\">\n",
       "  <thead>\n",
       "    <tr style=\"text-align: right;\">\n",
       "      <th>predicate_label</th>\n",
       "      <th>id</th>\n",
       "    </tr>\n",
       "  </thead>\n",
       "  <tbody>\n",
       "  </tbody>\n",
       "</table>\n",
       "</div>"
      ]
     },
     "execution_count": 236,
     "metadata": {},
     "output_type": "execute_result"
    }
   ],
   "execution_count": 236
  },
  {
   "metadata": {
    "ExecuteTime": {
     "end_time": "2024-10-16T17:31:41.850793Z",
     "start_time": "2024-10-16T17:31:41.835721Z"
    }
   },
   "cell_type": "code",
   "source": "context_df_movie.head()",
   "id": "6d79561b617b2744",
   "outputs": [
    {
     "data": {
      "text/plain": [
       "predicate_label                                       id    IMDb ID  \\\n",
       "0                http://www.wikidata.org/entity/Q3795587  tt0145929   \n",
       "\n",
       "predicate_label              assessment     award received  \\\n",
       "0                reverse Mako Mori test  Czech Lion Awards   \n",
       "\n",
       "predicate_label                                        cast member  color  \\\n",
       "0                Petr Vydra, Zdena Hadrbolcová, Jiří Macháček, ...  color   \n",
       "\n",
       "predicate_label  costume designer        country of origin     director  \\\n",
       "0                Milica Gedeonová  Germany, Czech Republic  Saša Gedeon   \n",
       "\n",
       "predicate_label director of photography  ...     make-up artist  \\\n",
       "0                         Štěpán Kučera  ...  Michaela Belíková   \n",
       "\n",
       "predicate_label          node description                 name  \\\n",
       "0                1999 film by Saša Gedeon  Return of the Idiot   \n",
       "\n",
       "predicate_label                              nominated for  \\\n",
       "0                European Film Award for Best Screenwriter   \n",
       "\n",
       "predicate_label original language of film or TV show  \\\n",
       "0                                              Czech   \n",
       "\n",
       "predicate_label             participant in  \\\n",
       "0                12th European Film Awards   \n",
       "\n",
       "predicate_label                        production company  \\\n",
       "0                Negativ Film Productions, Česká televize   \n",
       "\n",
       "predicate_label release date publication screenwriter  \\\n",
       "0                             1999-02-25  Saša Gedeon   \n",
       "\n",
       "predicate_label                    winner  \n",
       "0                Czech Lion for Best Film  \n",
       "\n",
       "[1 rows x 25 columns]"
      ],
      "text/html": [
       "<div>\n",
       "<style scoped>\n",
       "    .dataframe tbody tr th:only-of-type {\n",
       "        vertical-align: middle;\n",
       "    }\n",
       "\n",
       "    .dataframe tbody tr th {\n",
       "        vertical-align: top;\n",
       "    }\n",
       "\n",
       "    .dataframe thead th {\n",
       "        text-align: right;\n",
       "    }\n",
       "</style>\n",
       "<table border=\"1\" class=\"dataframe\">\n",
       "  <thead>\n",
       "    <tr style=\"text-align: right;\">\n",
       "      <th>predicate_label</th>\n",
       "      <th>id</th>\n",
       "      <th>IMDb ID</th>\n",
       "      <th>assessment</th>\n",
       "      <th>award received</th>\n",
       "      <th>cast member</th>\n",
       "      <th>color</th>\n",
       "      <th>costume designer</th>\n",
       "      <th>country of origin</th>\n",
       "      <th>director</th>\n",
       "      <th>director of photography</th>\n",
       "      <th>...</th>\n",
       "      <th>make-up artist</th>\n",
       "      <th>node description</th>\n",
       "      <th>name</th>\n",
       "      <th>nominated for</th>\n",
       "      <th>original language of film or TV show</th>\n",
       "      <th>participant in</th>\n",
       "      <th>production company</th>\n",
       "      <th>release date publication</th>\n",
       "      <th>screenwriter</th>\n",
       "      <th>winner</th>\n",
       "    </tr>\n",
       "  </thead>\n",
       "  <tbody>\n",
       "    <tr>\n",
       "      <th>0</th>\n",
       "      <td>http://www.wikidata.org/entity/Q3795587</td>\n",
       "      <td>tt0145929</td>\n",
       "      <td>reverse Mako Mori test</td>\n",
       "      <td>Czech Lion Awards</td>\n",
       "      <td>Petr Vydra, Zdena Hadrbolcová, Jiří Macháček, ...</td>\n",
       "      <td>color</td>\n",
       "      <td>Milica Gedeonová</td>\n",
       "      <td>Germany, Czech Republic</td>\n",
       "      <td>Saša Gedeon</td>\n",
       "      <td>Štěpán Kučera</td>\n",
       "      <td>...</td>\n",
       "      <td>Michaela Belíková</td>\n",
       "      <td>1999 film by Saša Gedeon</td>\n",
       "      <td>Return of the Idiot</td>\n",
       "      <td>European Film Award for Best Screenwriter</td>\n",
       "      <td>Czech</td>\n",
       "      <td>12th European Film Awards</td>\n",
       "      <td>Negativ Film Productions, Česká televize</td>\n",
       "      <td>1999-02-25</td>\n",
       "      <td>Saša Gedeon</td>\n",
       "      <td>Czech Lion for Best Film</td>\n",
       "    </tr>\n",
       "  </tbody>\n",
       "</table>\n",
       "<p>1 rows × 25 columns</p>\n",
       "</div>"
      ]
     },
     "execution_count": 237,
     "metadata": {},
     "output_type": "execute_result"
    }
   ],
   "execution_count": 237
  },
  {
   "metadata": {
    "ExecuteTime": {
     "end_time": "2024-10-16T17:31:42.470330Z",
     "start_time": "2024-10-16T17:31:42.464249Z"
    }
   },
   "cell_type": "code",
   "source": "context_df_movie.columns",
   "id": "a3d0aa661e75fcee",
   "outputs": [
    {
     "data": {
      "text/plain": [
       "Index(['id', 'IMDb ID', 'assessment', 'award received', 'cast member', 'color',\n",
       "       'costume designer', 'country of origin', 'director',\n",
       "       'director of photography', 'film editor', 'genre', 'inspired by',\n",
       "       'instance of', 'main subject', 'make-up artist', 'node description',\n",
       "       'name', 'nominated for', 'original language of film or TV show',\n",
       "       'participant in', 'production company', 'release date publication',\n",
       "       'screenwriter', 'winner'],\n",
       "      dtype='object', name='predicate_label')"
      ]
     },
     "execution_count": 238,
     "metadata": {},
     "output_type": "execute_result"
    }
   ],
   "execution_count": 238
  },
  {
   "metadata": {
    "ExecuteTime": {
     "end_time": "2024-10-16T17:31:43.002461Z",
     "start_time": "2024-10-16T17:31:42.992369Z"
    }
   },
   "cell_type": "code",
   "source": "context_df_person.columns",
   "id": "f131f02b3a8c3a50",
   "outputs": [
    {
     "data": {
      "text/plain": [
       "Index(['id'], dtype='object', name='predicate_label')"
      ]
     },
     "execution_count": 239,
     "metadata": {},
     "output_type": "execute_result"
    }
   ],
   "execution_count": 239
  },
  {
   "metadata": {
    "ExecuteTime": {
     "end_time": "2024-10-16T17:31:43.600573Z",
     "start_time": "2024-10-16T17:31:43.590245Z"
    }
   },
   "cell_type": "code",
   "source": [
    "input_dir = 'input/glove.6B.zip'\n",
    "url = 'http://nlp.stanford.edu/data/glove.6B.zip'\n",
    "\n",
    "if not os.path.exists(input_dir):\n",
    "    response = requests.get(url)\n",
    "    \n",
    "    with open(input_dir, 'wb') as file:\n",
    "        file.write(response.content)\n",
    "    print(\"Download complete.\")\n",
    "else:\n",
    "    print(\"File already exists, skipped download.\")"
   ],
   "id": "63a08a0603be6a2e",
   "outputs": [
    {
     "name": "stdout",
     "output_type": "stream",
     "text": [
      "File already exists, skipped download.\n"
     ]
    }
   ],
   "execution_count": 240
  },
  {
   "metadata": {
    "ExecuteTime": {
     "end_time": "2024-10-16T17:31:44.177858Z",
     "start_time": "2024-10-16T17:31:44.167831Z"
    }
   },
   "cell_type": "code",
   "source": [
    "zip_file_path = 'input/glove.6B.zip'\n",
    "extract_to_path = 'exports/glove.6B'\n",
    "\n",
    "if not os.path.exists(extract_to_path):\n",
    "    with zipfile.ZipFile(zip_file_path, 'r') as zip_ref:\n",
    "        zip_ref.extractall(extract_to_path)\n",
    "    print(\"Unzipping complete!\")\n",
    "else:\n",
    "    print(\"Out dir already exists, skipped unzipping.\")"
   ],
   "id": "2a0f254a37c9a948",
   "outputs": [
    {
     "name": "stdout",
     "output_type": "stream",
     "text": [
      "Out dir already exists, skipped unzipping.\n"
     ]
    }
   ],
   "execution_count": 241
  },
  {
   "metadata": {
    "ExecuteTime": {
     "end_time": "2024-10-16T17:31:58.581250Z",
     "start_time": "2024-10-16T17:31:44.633171Z"
    }
   },
   "cell_type": "code",
   "source": [
    "def load_glove_embeddings(file_path):\n",
    "    embeddings = {}\n",
    "    with open(file_path, 'r', encoding='utf-8') as f:\n",
    "        for line in f:\n",
    "            values = line.split()\n",
    "            word = values[0]\n",
    "            vector = np.asarray(values[1:], dtype='float32')\n",
    "            embeddings[word] = vector\n",
    "    return embeddings\n",
    "\n",
    "# Load the GloVe embeddings (300-dimensional)\n",
    "glove_embeddings = load_glove_embeddings(\"exports/glove.6B/glove.6B.300d.txt\")"
   ],
   "id": "c7480ef7d1a7759",
   "outputs": [],
   "execution_count": 242
  },
  {
   "metadata": {
    "ExecuteTime": {
     "end_time": "2024-10-16T17:31:58.591566Z",
     "start_time": "2024-10-16T17:31:58.584861Z"
    }
   },
   "cell_type": "code",
   "source": [
    "def embed_phrase(phrase, embeddings):\n",
    "    words = phrase.split()\n",
    "    word_vectors = [embeddings[word.lower()] for word in words if word.lower() in embeddings]\n",
    "    \n",
    "    if len(word_vectors) == 0:\n",
    "        return np.zeros(300)  # Return zero vector if no words have embeddings\n",
    "    \n",
    "    return np.mean(word_vectors, axis=0)\n",
    "\n",
    "# Embed column names of knowledge graph db\n",
    "column_embeddings = {col: embed_phrase(col, glove_embeddings) for col in context_df_person.columns}"
   ],
   "id": "92ce6e4a8bab828f",
   "outputs": [],
   "execution_count": 243
  },
  {
   "metadata": {
    "ExecuteTime": {
     "end_time": "2024-10-16T17:20:37.665266Z",
     "start_time": "2024-10-16T17:20:37.658730Z"
    }
   },
   "cell_type": "code",
   "source": "column_embeddings",
   "id": "65587fe9be893d04",
   "outputs": [
    {
     "data": {
      "text/plain": [
       "{}"
      ]
     },
     "execution_count": 201,
     "metadata": {},
     "output_type": "execute_result"
    }
   ],
   "execution_count": 201
  },
  {
   "metadata": {
    "ExecuteTime": {
     "end_time": "2024-10-16T17:20:37.887037Z",
     "start_time": "2024-10-16T17:20:37.881021Z"
    }
   },
   "cell_type": "code",
   "source": [
    "nltk.download('stopwords')\n",
    "stop_words = set(stopwords.words('english'))"
   ],
   "id": "b1f51487ce3c58d5",
   "outputs": [
    {
     "name": "stderr",
     "output_type": "stream",
     "text": [
      "[nltk_data] Downloading package stopwords to\n",
      "[nltk_data]     C:\\Users\\sandr\\AppData\\Roaming\\nltk_data...\n",
      "[nltk_data]   Package stopwords is already up-to-date!\n"
     ]
    }
   ],
   "execution_count": 202
  },
  {
   "metadata": {
    "ExecuteTime": {
     "end_time": "2024-10-16T17:20:38.105104Z",
     "start_time": "2024-10-16T17:20:38.099751Z"
    }
   },
   "cell_type": "code",
   "source": [
    "def filter_query(query):\n",
    "    \n",
    "    person_list = [p.split(\" \") for p in person][0] if len(person) else []\n",
    "    movie_list = [m.split(\" \") for m in movies][0] if len(movies) else []\n",
    "        \n",
    "    if not len(query):\n",
    "        return []\n",
    "    \n",
    "    relevant = []\n",
    "    for word in query.split(\" \"):\n",
    "        if word in stop_words:\n",
    "            continue\n",
    "        \n",
    "        if word in person_list:            \n",
    "            continue\n",
    "        \n",
    "        if word in movie_list:\n",
    "            continue\n",
    "        \n",
    "        relevant.append(word)\n",
    "        \n",
    "    return relevant\n",
    "    "
   ],
   "id": "f72ff1c38edcb426",
   "outputs": [],
   "execution_count": 203
  },
  {
   "metadata": {
    "ExecuteTime": {
     "end_time": "2024-10-16T17:20:38.313372Z",
     "start_time": "2024-10-16T17:20:38.307150Z"
    }
   },
   "cell_type": "code",
   "source": [
    "filtered_query = filter_query(query)\n",
    "query_embeddings = [embed_phrase(word, glove_embeddings) for word in filtered_query]\n"
   ],
   "id": "5fd557218b67556c",
   "outputs": [],
   "execution_count": 204
  },
  {
   "metadata": {
    "ExecuteTime": {
     "end_time": "2024-10-16T17:20:38.506565Z",
     "start_time": "2024-10-16T17:20:38.500101Z"
    }
   },
   "cell_type": "code",
   "source": [
    "def cosine_sim(vec1, vec2):\n",
    "    norm_vec1 = np.linalg.norm(vec1)\n",
    "    norm_vec2 = np.linalg.norm(vec2)\n",
    "    \n",
    "    if norm_vec1 == 0 or norm_vec2 == 0:\n",
    "        return 0.0 \n",
    "    \n",
    "    return np.dot(vec1, vec2) / (norm_vec1 * norm_vec2)\n",
    "\n",
    "def find_closest_columns(query_embeddings, column_embeddings, top_n=5):\n",
    "    column_similarities = {}\n",
    "\n",
    "    for col, col_vec in column_embeddings.items():\n",
    "        similarities = [cosine_sim(col_vec, q_vec) for q_vec in query_embeddings if np.linalg.norm(q_vec) > 0]\n",
    "        column_similarities[col] = np.mean(similarities) if similarities else -1\n",
    "\n",
    "    sorted_columns = sorted(column_similarities.items(), key=lambda item: item[1], reverse=True)\n",
    "    \n",
    "    return [col for col, sim in sorted_columns[:top_n]]\n",
    "\n",
    "top_columns = find_closest_columns(query_embeddings, column_embeddings, top_n=5)\n",
    "\n",
    "print(\"Top columns:\", top_columns)"
   ],
   "id": "722b0cf94ae3ac97",
   "outputs": [
    {
     "name": "stdout",
     "output_type": "stream",
     "text": [
      "Top columns: []\n"
     ]
    }
   ],
   "execution_count": 205
  },
  {
   "metadata": {
    "ExecuteTime": {
     "end_time": "2024-10-16T17:20:38.703759Z",
     "start_time": "2024-10-16T17:20:38.698247Z"
    }
   },
   "cell_type": "code",
   "source": "context_df = pd.concat([context_df_person, context_df_movie], axis=0)",
   "id": "1d5f671d2ea71901",
   "outputs": [],
   "execution_count": 206
  },
  {
   "metadata": {
    "ExecuteTime": {
     "end_time": "2024-10-16T17:20:38.923656Z",
     "start_time": "2024-10-16T17:20:38.915003Z"
    }
   },
   "cell_type": "code",
   "source": "context_df[top_columns]",
   "id": "7c34a460909553e2",
   "outputs": [
    {
     "data": {
      "text/plain": [
       "Empty DataFrame\n",
       "Columns: []\n",
       "Index: [http://www.wikidata.org/entity/Q3795587]"
      ],
      "text/html": [
       "<div>\n",
       "<style scoped>\n",
       "    .dataframe tbody tr th:only-of-type {\n",
       "        vertical-align: middle;\n",
       "    }\n",
       "\n",
       "    .dataframe tbody tr th {\n",
       "        vertical-align: top;\n",
       "    }\n",
       "\n",
       "    .dataframe thead th {\n",
       "        text-align: right;\n",
       "    }\n",
       "</style>\n",
       "<table border=\"1\" class=\"dataframe\">\n",
       "  <thead>\n",
       "    <tr style=\"text-align: right;\">\n",
       "      <th>predicate_label</th>\n",
       "    </tr>\n",
       "    <tr>\n",
       "      <th>subject_id</th>\n",
       "    </tr>\n",
       "  </thead>\n",
       "  <tbody>\n",
       "    <tr>\n",
       "      <th>http://www.wikidata.org/entity/Q3795587</th>\n",
       "    </tr>\n",
       "  </tbody>\n",
       "</table>\n",
       "</div>"
      ]
     },
     "execution_count": 207,
     "metadata": {},
     "output_type": "execute_result"
    }
   ],
   "execution_count": 207
  },
  {
   "metadata": {
    "ExecuteTime": {
     "end_time": "2024-10-16T17:20:39.373174Z",
     "start_time": "2024-10-16T17:20:39.138998Z"
    }
   },
   "cell_type": "code",
   "source": [
    "# Introduce a swift llm that can generate the answer based on the context_df\n",
    "# Load pre-trained DistilBERT model for question answering\n",
    "qa_model = pipeline(\"question-answering\", model=\"distilbert-base-cased-distilled-squad\", top_k=1)"
   ],
   "id": "801a70527d2cce60",
   "outputs": [],
   "execution_count": 208
  },
  {
   "metadata": {
    "ExecuteTime": {
     "end_time": "2024-10-16T17:20:39.457027Z",
     "start_time": "2024-10-16T17:20:39.397771Z"
    }
   },
   "cell_type": "code",
   "source": [
    "# Context and query\n",
    "context = \"\"\n",
    "for index, row in context_df.iterrows():\n",
    "    row_context = \" \".join([f\"{col}: {row[col]}\" for col in context_df[top_columns].columns])\n",
    "    context += row_context + \" \"\n",
    "\n",
    "# Generate the answer\n",
    "output = qa_model(question=query, context=context)\n",
    "\n",
    "answer_str = str()\n",
    "if isinstance(output, list):\n",
    "    answer_str = \", \".join([result['answer'] for result in output])\n",
    "elif isinstance(output, dict):\n",
    "    answer_str = output['answer']\n",
    "\n",
    "if not answer_str:\n",
    "    answer_str = \"No answer found.\""
   ],
   "id": "5f18fa17907efff1",
   "outputs": [],
   "execution_count": 209
  },
  {
   "metadata": {
    "ExecuteTime": {
     "end_time": "2024-10-16T17:20:39.467920Z",
     "start_time": "2024-10-16T17:20:39.462672Z"
    }
   },
   "cell_type": "code",
   "source": [
    "print(f\"DB:\\n{json.dumps(context_df_movie.to_dict(), indent=2)}\\n\")\n",
    "print(f\"Columns:\\n{context_df[top_columns]}\\n\")\n",
    "print(f\"Context:\\n{context}\\n\")"
   ],
   "id": "b77d4565734baccb",
   "outputs": [
    {
     "name": "stdout",
     "output_type": "stream",
     "text": [
      "DB:\n",
      "{\n",
      "  \"IMDb ID\": {\n",
      "    \"http://www.wikidata.org/entity/Q3795587\": \"tt0145929\"\n",
      "  },\n",
      "  \"assessment\": {\n",
      "    \"http://www.wikidata.org/entity/Q3795587\": \"reverse Mako Mori test\"\n",
      "  },\n",
      "  \"award received\": {\n",
      "    \"http://www.wikidata.org/entity/Q3795587\": \"Czech Lion Awards\"\n",
      "  },\n",
      "  \"cast member\": {\n",
      "    \"http://www.wikidata.org/entity/Q3795587\": \"Petr Vydra, Zdena Hadrbolcov\\u00e1, Ji\\u0159\\u00ed Mach\\u00e1\\u010dek, Ji\\u0159\\u00ed Langmajer, Jan Tepl\\u00fd, Pavel Li\\u0161ka, Josef Oplt, Anna Geislerov\\u00e1, Tatiana Vilhelmov\\u00e1, Jitka Smutn\\u00e1, Anna Pol\\u00edvkov\\u00e1, Pavel Marek, Zuzana Stiv\\u00ednov\\u00e1\"\n",
      "  },\n",
      "  \"color\": {\n",
      "    \"http://www.wikidata.org/entity/Q3795587\": \"color\"\n",
      "  },\n",
      "  \"costume designer\": {\n",
      "    \"http://www.wikidata.org/entity/Q3795587\": \"Milica Gedeonov\\u00e1\"\n",
      "  },\n",
      "  \"country of origin\": {\n",
      "    \"http://www.wikidata.org/entity/Q3795587\": \"Germany, Czech Republic\"\n",
      "  },\n",
      "  \"director\": {\n",
      "    \"http://www.wikidata.org/entity/Q3795587\": \"Sa\\u0161a Gedeon\"\n",
      "  },\n",
      "  \"director of photography\": {\n",
      "    \"http://www.wikidata.org/entity/Q3795587\": \"\\u0160t\\u011bp\\u00e1n Ku\\u010dera\"\n",
      "  },\n",
      "  \"film editor\": {\n",
      "    \"http://www.wikidata.org/entity/Q3795587\": \"Petr Turyna\"\n",
      "  },\n",
      "  \"genre\": {\n",
      "    \"http://www.wikidata.org/entity/Q3795587\": \"drama, romance film, comedy film\"\n",
      "  },\n",
      "  \"inspired by\": {\n",
      "    \"http://www.wikidata.org/entity/Q3795587\": \"The Idiot\"\n",
      "  },\n",
      "  \"instance of\": {\n",
      "    \"http://www.wikidata.org/entity/Q3795587\": \"film\"\n",
      "  },\n",
      "  \"main subject\": {\n",
      "    \"http://www.wikidata.org/entity/Q3795587\": \"social isolation, empathy, social relation\"\n",
      "  },\n",
      "  \"make-up artist\": {\n",
      "    \"http://www.wikidata.org/entity/Q3795587\": \"Michaela Bel\\u00edkov\\u00e1\"\n",
      "  },\n",
      "  \"node description\": {\n",
      "    \"http://www.wikidata.org/entity/Q3795587\": \"1999 film by Sa\\u0161a Gedeon\"\n",
      "  },\n",
      "  \"name\": {\n",
      "    \"http://www.wikidata.org/entity/Q3795587\": \"Return of the Idiot\"\n",
      "  },\n",
      "  \"nominated for\": {\n",
      "    \"http://www.wikidata.org/entity/Q3795587\": \"European Film Award for Best Screenwriter\"\n",
      "  },\n",
      "  \"original language of film or TV show\": {\n",
      "    \"http://www.wikidata.org/entity/Q3795587\": \"Czech\"\n",
      "  },\n",
      "  \"participant in\": {\n",
      "    \"http://www.wikidata.org/entity/Q3795587\": \"12th European Film Awards\"\n",
      "  },\n",
      "  \"production company\": {\n",
      "    \"http://www.wikidata.org/entity/Q3795587\": \"Negativ Film Productions, \\u010cesk\\u00e1 televize\"\n",
      "  },\n",
      "  \"release date publication\": {\n",
      "    \"http://www.wikidata.org/entity/Q3795587\": \"1999-02-25\"\n",
      "  },\n",
      "  \"screenwriter\": {\n",
      "    \"http://www.wikidata.org/entity/Q3795587\": \"Sa\\u0161a Gedeon\"\n",
      "  },\n",
      "  \"winner\": {\n",
      "    \"http://www.wikidata.org/entity/Q3795587\": \"Czech Lion for Best Film\"\n",
      "  }\n",
      "}\n",
      "\n",
      "Columns:\n",
      "Empty DataFrame\n",
      "Columns: []\n",
      "Index: [http://www.wikidata.org/entity/Q3795587]\n",
      "\n",
      "Context:\n",
      " \n",
      "\n"
     ]
    }
   ],
   "execution_count": 210
  },
  {
   "metadata": {
    "ExecuteTime": {
     "end_time": "2024-10-16T17:20:39.689770Z",
     "start_time": "2024-10-16T17:20:39.684505Z"
    }
   },
   "cell_type": "code",
   "source": [
    "print(f\"LLM output:\\n{output}\\n\")\n",
    "print(f\"Question:\\n{query}\\n\")\n",
    "print(f\"Answer:\\n{answer_str}\")"
   ],
   "id": "6f29d0fd3cbd3b55",
   "outputs": [
    {
     "name": "stdout",
     "output_type": "stream",
     "text": [
      "LLM output:\n",
      "{'score': 0.0, 'start': 0, 'end': 0, 'answer': ''}\n",
      "\n",
      "Question:\n",
      "Who is the director of Star Wars: Episode VI - Return of the Jedi?\n",
      "\n",
      "Answer:\n",
      "No answer found.\n"
     ]
    }
   ],
   "execution_count": 211
  },
  {
   "metadata": {
    "ExecuteTime": {
     "end_time": "2024-10-16T17:20:39.891874Z",
     "start_time": "2024-10-16T17:20:39.889055Z"
    }
   },
   "cell_type": "code",
   "source": "",
   "id": "5879f3a06f307334",
   "outputs": [],
   "execution_count": null
  }
 ],
 "metadata": {
  "kernelspec": {
   "display_name": "Python 3",
   "language": "python",
   "name": "python3"
  },
  "language_info": {
   "codemirror_mode": {
    "name": "ipython",
    "version": 2
   },
   "file_extension": ".py",
   "mimetype": "text/x-python",
   "name": "python",
   "nbconvert_exporter": "python",
   "pygments_lexer": "ipython2",
   "version": "2.7.6"
  }
 },
 "nbformat": 4,
 "nbformat_minor": 5
}
