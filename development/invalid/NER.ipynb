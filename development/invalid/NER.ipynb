{
 "cells": [
  {
   "cell_type": "code",
   "id": "cb1a0741-cfeb-4f56-8575-e421f525b8cc",
   "metadata": {
    "ExecuteTime": {
     "end_time": "2024-10-14T16:06:19.194610Z",
     "start_time": "2024-10-14T16:06:18.667107Z"
    }
   },
   "source": [
    "import torch\n",
    "from transformers import AutoTokenizer, AutoModelForTokenClassification, pipeline\n",
    "from transformers import logging as transformers_logging\n",
    "transformers_logging.set_verbosity_error()\n",
    "\n",
    "class NERParser:\n",
    "    def __init__(self, model_name: str = \"dslim/bert-base-NER\", lowercase: bool = False):\n",
    "        \"\"\"\n",
    "        Initialize the NER parser with a model and optionally configure the lowercase preprocessing.\n",
    "        \"\"\"\n",
    "        self.model_name = model_name\n",
    "        self.lowercase = lowercase\n",
    "        self.device = self.get_device()\n",
    "        \n",
    "        # Load the tokenizer and model\n",
    "        self.tokenizer = AutoTokenizer.from_pretrained(self.model_name, do_lower_case=self.lowercase)\n",
    "        self.model = AutoModelForTokenClassification.from_pretrained(self.model_name)\n",
    "        \n",
    "        # Set up the NER pipeline\n",
    "        self.nlp_pipeline = pipeline(\"ner\", \n",
    "                                     model=self.model, \n",
    "                                     tokenizer=self.tokenizer, \n",
    "                                     device=self.device, \n",
    "                                     aggregation_strategy=\"simple\")\n",
    "\n",
    "    def get_device(self):\n",
    "        \"\"\"\n",
    "        Determines whether to use MPS, CUDA, or CPU depending on the available hardware.\n",
    "        \"\"\"\n",
    "        if torch.backends.mps.is_available():\n",
    "            print(\"MPS device found, using MPS backend.\\n\")\n",
    "            return torch.device(\"mps\")\n",
    "        elif torch.cuda.is_available():\n",
    "            print(f\"CUDA device found, using CUDA backend. Device: {torch.cuda.get_device_name(0)}\\n\")\n",
    "            return torch.device(\"cuda\")\n",
    "        else:\n",
    "            print(\"Neither MPS nor CUDA found, using CPU.\\n\")\n",
    "            return torch.device(\"cpu\")\n",
    "\n",
    "    \n",
    "    def parse_ner_results(self, ner_results: list):\n",
    "        \"\"\"\n",
    "        Parse the NER results and extract entities related to 'PER' (persons) and 'MISC' (potential movie titles).\n",
    "        \"\"\"\n",
    "        per_entities, misc_entities = [], []\n",
    "        \n",
    "        for entity in ner_results:\n",
    "            # Extraction of all Persons\n",
    "            if entity['entity_group'] == 'PER':\n",
    "                per_entities.append(entity['word'])\n",
    "            # Extraction of all Misc that could indicate movies\n",
    "            elif entity['entity_group'] == 'MISC':\n",
    "                misc_entities.append(entity['word'])\n",
    "        \n",
    "        return per_entities, misc_entities\n",
    "\n",
    "    \n",
    "    def process_query(self, query: str):\n",
    "        \"\"\"\n",
    "        Processes a text query, runs NER, and returns the extracted actors and movie names.\n",
    "        \"\"\"\n",
    "        # Optionally lowercase the input if configured\n",
    "        if self.lowercase:\n",
    "            query = query.lower()\n",
    "        \n",
    "        # Run the NER pipeline\n",
    "        print(query)\n",
    "        ner_results = self.nlp_pipeline(query)\n",
    "\n",
    "        # Parse the results to extract actors and movies\n",
    "        per_entities, misc_entities = self.parse_ner_results(ner_results)\n",
    "        \n",
    "        return per_entities, misc_entities\n",
    "\n",
    "\n",
    "##################\n",
    "### Example usage\n",
    "##################\n",
    "ner_parser = NERParser(lowercase=False)\n",
    "query_one = \"Did Kate Winslet and Leonardo Di Caprio play in Titanic?\"\n",
    "actors, movies = ner_parser.process_query(query_one)\n",
    "print(\"Actors:\", actors)\n",
    "print(\"Movies:\", movies)\n",
    "print(\"\\n\")\n",
    "\n",
    "query_two = \"I like Steven Spielberg, can you recommend me similar directors?\"\n",
    "actors, movies = ner_parser.process_query(query_two)\n",
    "print(\"Actors:\", actors)\n",
    "print(\"Movies:\", movies)\n",
    "print(\"\\n\")\n",
    "\n",
    "query_three = \"Who played in the movie Inception?\"\n",
    "actors, movies = ner_parser.process_query(query_three)\n",
    "print(\"Actors:\", actors)\n",
    "print(\"Movies:\", movies)\n",
    "print(\"\\n\")\n",
    "\n",
    "query_four = \"Produced by Steven Spielberg, Kate Winslet and Angelina Jolie played in Titanic is this correct?\"\n",
    "actors, movies = ner_parser.process_query(query_four)\n",
    "print(\"Actors:\", actors)\n",
    "print(\"Movies:\", movies)\n",
    "print(\"\\n\")"
   ],
   "outputs": [
    {
     "name": "stdout",
     "output_type": "stream",
     "text": [
      "MPS device found, using MPS backend.\n",
      "\n",
      "Did Kate Winslet and Leonardo Di Caprio play in Titanic?\n",
      "Actors: ['Kate Winslet', 'Leonardo Di Caprio']\n",
      "Movies: ['Titanic']\n",
      "\n",
      "\n",
      "I like Steven Spielberg, can you recommend me similar directors?\n",
      "Actors: ['Steven Spielberg']\n",
      "Movies: []\n",
      "\n",
      "\n",
      "Who played in the movie Inception?\n",
      "Actors: []\n",
      "Movies: ['Inception']\n",
      "\n",
      "\n",
      "Produced by Steven Spielberg, Kate Winslet and Angelina Jolie played in Titanic is this correct?\n",
      "Actors: ['Steven Spielberg', 'Kate Winslet', 'Angelina Jolie']\n",
      "Movies: ['Titanic']\n",
      "\n",
      "\n"
     ]
    }
   ],
   "execution_count": 14
  },
  {
   "cell_type": "code",
   "id": "8abdba8c-aa2c-42b7-9ac7-3c10d4cea586",
   "metadata": {
    "ExecuteTime": {
     "end_time": "2024-10-14T16:03:56.304606Z",
     "start_time": "2024-10-14T16:03:56.242249Z"
    }
   },
   "source": [
    "query_five = \"Who is the screenwriter of The Masked Gang: Cyprus? \"\n",
    "actors, movies = ner_parser.process_query(query_five)\n",
    "print(\"Actors:\", actors)\n",
    "print(\"Movies:\", movies)\n",
    "print(\"\\n\")"
   ],
   "outputs": [
    {
     "name": "stdout",
     "output_type": "stream",
     "text": [
      "Actors: []\n",
      "Movies: []\n",
      "\n",
      "\n"
     ]
    }
   ],
   "execution_count": 9
  },
  {
   "cell_type": "code",
   "id": "ad48408d-44e1-40f7-a5b1-e06379826c37",
   "metadata": {
    "ExecuteTime": {
     "end_time": "2024-10-14T16:03:57.284052Z",
     "start_time": "2024-10-14T16:03:57.250032Z"
    }
   },
   "source": [
    "query_six = 'When was \"The Godfather\" released?'\n",
    "actors, movies = ner_parser.process_query(query_six)\n",
    "print(\"Actors:\", actors)\n",
    "print(\"Movies:\", movies)\n",
    "print(\"\\n\")"
   ],
   "outputs": [
    {
     "name": "stdout",
     "output_type": "stream",
     "text": [
      "Actors: []\n",
      "Movies: []\n",
      "\n",
      "\n"
     ]
    }
   ],
   "execution_count": 10
  },
  {
   "cell_type": "code",
   "id": "45c905a1-b0f9-4aaa-a427-d4b21a456aa8",
   "metadata": {
    "ExecuteTime": {
     "end_time": "2024-10-14T16:03:58.398025Z",
     "start_time": "2024-10-14T16:03:58.320137Z"
    }
   },
   "source": [
    "query_seven = \"Who is the director of star wars: Episode VI - return of the jedi? And when was Titanic released?\"\n",
    "actors, movies = ner_parser.process_query(query_seven)\n",
    "print(\"Actors:\", actors)\n",
    "print(\"Movies:\", movies)\n",
    "print(\"\\n\")"
   ],
   "outputs": [
    {
     "name": "stdout",
     "output_type": "stream",
     "text": [
      "Actors: []\n",
      "Movies: []\n",
      "\n",
      "\n"
     ]
    }
   ],
   "execution_count": 11
  }
 ],
 "metadata": {
  "kernelspec": {
   "display_name": "Python 3 (ipykernel)",
   "language": "python",
   "name": "python3"
  },
  "language_info": {
   "codemirror_mode": {
    "name": "ipython",
    "version": 3
   },
   "file_extension": ".py",
   "mimetype": "text/x-python",
   "name": "python",
   "nbconvert_exporter": "python",
   "pygments_lexer": "ipython3",
   "version": "3.9.13"
  }
 },
 "nbformat": 4,
 "nbformat_minor": 5
}
