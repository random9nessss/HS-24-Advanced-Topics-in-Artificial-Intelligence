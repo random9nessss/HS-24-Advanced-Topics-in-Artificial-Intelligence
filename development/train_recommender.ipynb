{
 "cells": [
  {
   "cell_type": "code",
   "id": "initial_id",
   "metadata": {
    "collapsed": true,
    "ExecuteTime": {
     "end_time": "2024-11-05T06:21:15.821039Z",
     "start_time": "2024-11-05T06:21:14.381538Z"
    }
   },
   "source": [
    "import os\n",
    "import pandas as pd\n",
    "from sklearn.feature_extraction.text import CountVectorizer\n",
    "from scipy.sparse import hstack\n",
    "from sklearn.metrics.pairwise import cosine_similarity\n",
    "\n"
   ],
   "outputs": [],
   "execution_count": 1
  },
  {
   "metadata": {
    "ExecuteTime": {
     "end_time": "2024-11-05T06:21:15.950281Z",
     "start_time": "2024-11-05T06:21:15.823552Z"
    }
   },
   "cell_type": "code",
   "source": [
    "df_recommender_path = os.path.join(\"exports/df_recommender.pkl\")\n",
    "df_recommender = pd.read_pickle(df_recommender_path)\n",
    "\n",
    "# drop rows if they have more than one nan in any column\n",
    "df_recommender = df_recommender.dropna(thresh=len(df_recommender.columns) - 1)\n",
    "df_recommender.reset_index(drop=True, inplace=True)\n",
    "\n",
    "columns = ['subject_id', 'node label', 'director', 'performer', 'genre', 'screenwriter', 'cast member']\n",
    "for col in columns:\n",
    "    df_recommender[col] = df_recommender[col].astype(str).str.strip()\n",
    "\n",
    "for col in ['director', 'performer', 'genre', 'screenwriter', 'cast member']:\n",
    "    df_recommender[col] = df_recommender[col].apply(lambda x: x.split(',') if x else [])\n",
    "    "
   ],
   "id": "711dfba1dbc44889",
   "outputs": [],
   "execution_count": 2
  },
  {
   "metadata": {
    "ExecuteTime": {
     "end_time": "2024-11-05T06:21:16.095383Z",
     "start_time": "2024-11-05T06:21:16.085789Z"
    }
   },
   "cell_type": "code",
   "source": [
    "print(df_recommender.head())\n",
    "print(len(df_recommender))"
   ],
   "id": "13ca5b9af7630892",
   "outputs": [
    {
     "name": "stdout",
     "output_type": "stream",
     "text": [
      "predicate_label                               subject_id  \\\n",
      "0                http://www.wikidata.org/entity/Q1000825   \n",
      "1                http://www.wikidata.org/entity/Q1001759   \n",
      "2                http://www.wikidata.org/entity/Q1001777   \n",
      "3                http://www.wikidata.org/entity/Q1001943   \n",
      "4                http://www.wikidata.org/entity/Q1001994   \n",
      "\n",
      "predicate_label                                        cast member  \\\n",
      "0                [wd:Q16305292, pimprapa tangprabhaporn, santis...   \n",
      "1                [billy chow, shinobu nakayama, toshimichi taka...   \n",
      "2                [silk smitha, poornam vishwanathan, sridevi, k...   \n",
      "3                [burt lancaster, pat mccormick, denver pyle, g...   \n",
      "4                [liev schreiber, floyd red crow westerman, anj...   \n",
      "\n",
      "predicate_label                     director performer  \\\n",
      "0                          [nonzee nimibutr]     [nan]   \n",
      "1                [gordon chan, yuen wooping]     [nan]   \n",
      "2                            [balu mahendra]     [nan]   \n",
      "3                            [robert altman]     [nan]   \n",
      "4                                [rod hardy]     [nan]   \n",
      "\n",
      "predicate_label                                     genre  \\\n",
      "0                                      [lgbtrelated film]   \n",
      "1                        [action film, martial arts film]   \n",
      "2                                          [romance film]   \n",
      "3                [parody film, comedy film, western film]   \n",
      "4                [film based on literature, western film]   \n",
      "\n",
      "predicate_label                          screenwriter  \\\n",
      "0                [pramool unhathoop, nonzee nimibutr]   \n",
      "1                                       [gordon chan]   \n",
      "2                                     [balu mahendra]   \n",
      "3                       [alan rudolph, robert altman]   \n",
      "4                  [larry mcmurtry, cynthia whitcomb]   \n",
      "\n",
      "predicate_label                                         node label  \n",
      "0                                                         Jan Dara  \n",
      "1                                                   Fist of Legend  \n",
      "2                                                   Moondram Pirai  \n",
      "3                Buffalo Bill and the Indians, or Sitting Bull'...  \n",
      "4                                                    Buffalo Girls  \n",
      "19695\n"
     ]
    }
   ],
   "execution_count": 3
  }
 ],
 "metadata": {
  "kernelspec": {
   "display_name": "Python 3",
   "language": "python",
   "name": "python3"
  },
  "language_info": {
   "codemirror_mode": {
    "name": "ipython",
    "version": 2
   },
   "file_extension": ".py",
   "mimetype": "text/x-python",
   "name": "python",
   "nbconvert_exporter": "python",
   "pygments_lexer": "ipython2",
   "version": "2.7.6"
  }
 },
 "nbformat": 4,
 "nbformat_minor": 5
}
