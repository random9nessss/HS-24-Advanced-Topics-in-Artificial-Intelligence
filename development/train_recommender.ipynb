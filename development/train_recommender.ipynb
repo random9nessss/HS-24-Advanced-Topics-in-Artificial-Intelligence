{
 "cells": [
  {
   "cell_type": "code",
   "id": "initial_id",
   "metadata": {
    "collapsed": true,
    "ExecuteTime": {
     "end_time": "2024-11-04T11:40:06.746776Z",
     "start_time": "2024-11-04T11:40:06.656658Z"
    }
   },
   "source": [
    "import os\n",
    "import pandas as pd\n"
   ],
   "outputs": [],
   "execution_count": 6
  },
  {
   "metadata": {
    "ExecuteTime": {
     "end_time": "2024-11-04T11:40:07.141488Z",
     "start_time": "2024-11-04T11:40:06.927144Z"
    }
   },
   "cell_type": "code",
   "source": [
    "df_recommender_path = os.path.join(\"exports/df_recommender.pkl\")\n",
    "df_recommender = pd.read_pickle(df_recommender_path)\n",
    "df_recommender['subject_id'] = df_recommender['subject_id'].astype(str).str.strip()\n",
    "df_recommender['node label'] = df_recommender['node label'].astype(str).str.strip()\n",
    "df_recommender['director'] = df_recommender['director'].astype(str).str.strip()\n",
    "df_recommender['performer'] = df_recommender['performer'].astype(str).str.strip()\n",
    "df_recommender['genre'] = df_recommender['genre'].astype(str).str.strip()\n",
    "df_recommender['screenwriter'] = df_recommender['screenwriter'].astype(str).str.strip()\n"
   ],
   "id": "711dfba1dbc44889",
   "outputs": [],
   "execution_count": 7
  },
  {
   "metadata": {
    "ExecuteTime": {
     "end_time": "2024-11-04T11:40:20.232581Z",
     "start_time": "2024-11-04T11:40:20.219853Z"
    }
   },
   "cell_type": "code",
   "source": [
    "print(df_recommender.head())\n",
    "print(len(df_recommender))"
   ],
   "id": "13ca5b9af7630892",
   "outputs": [
    {
     "name": "stdout",
     "output_type": "stream",
     "text": [
      "predicate_label                               subject_id  \\\n",
      "0                http://www.wikidata.org/entity/Q1000825   \n",
      "1                http://www.wikidata.org/entity/Q1000826   \n",
      "2                http://www.wikidata.org/entity/Q1001759   \n",
      "3                http://www.wikidata.org/entity/Q1001777   \n",
      "4                http://www.wikidata.org/entity/Q1001943   \n",
      "\n",
      "predicate_label                                        cast member  \\\n",
      "0                wd:Q16305292,pimprapa tangprabhaporn,santisuk ...   \n",
      "1                wende wagner,fernando rey,frank silvera,michae...   \n",
      "2                billy chow,shinobu nakayama,toshimichi takahas...   \n",
      "3                silk smitha,poornam vishwanathan,sridevi,kamal...   \n",
      "4                burt lancaster,pat mccormick,denver pyle,geral...   \n",
      "\n",
      "predicate_label                  director performer  \\\n",
      "0                         nonzee nimibutr       nan   \n",
      "1                            paul wendkos       nan   \n",
      "2                gordon chan,yuen wooping       nan   \n",
      "3                           balu mahendra       nan   \n",
      "4                           robert altman       nan   \n",
      "\n",
      "predicate_label                                 genre  \\\n",
      "0                                    lgbtrelated film   \n",
      "1                                        western film   \n",
      "2                       action film,martial arts film   \n",
      "3                                        romance film   \n",
      "4                parody film,comedy film,western film   \n",
      "\n",
      "predicate_label                       screenwriter  \\\n",
      "0                pramool unhathoop,nonzee nimibutr   \n",
      "1                                              nan   \n",
      "2                                      gordon chan   \n",
      "3                                    balu mahendra   \n",
      "4                       alan rudolph,robert altman   \n",
      "\n",
      "predicate_label                                         node label  \n",
      "0                                                         Jan Dara  \n",
      "1                                    Guns of the Magnificent Seven  \n",
      "2                                                   Fist of Legend  \n",
      "3                                                   Moondram Pirai  \n",
      "4                Buffalo Bill and the Indians, or Sitting Bull'...  \n",
      "26869\n"
     ]
    }
   ],
   "execution_count": 9
  },
  {
   "metadata": {
    "ExecuteTime": {
     "end_time": "2024-11-04T12:52:30.975840Z",
     "start_time": "2024-11-04T12:52:30.237093Z"
    }
   },
   "cell_type": "code",
   "source": [
    "import os\n",
    "import pandas as pd\n",
    "from scipy.sparse import csr_matrix\n",
    "from sklearn.preprocessing import normalize\n",
    "import numpy as np\n",
    "\n",
    "# Load data\n",
    "df_recommender_path = os.path.join(\"exports/df_recommender.pkl\")\n",
    "df_recommender = pd.read_pickle(df_recommender_path)\n",
    "df_recommender['subject_id'] = df_recommender['subject_id'].astype(str).str.strip()\n",
    "df_recommender['node label'] = df_recommender['node label'].astype(str).str.strip()\n",
    "df_recommender['director'] = df_recommender['director'].astype(str).str.strip()\n",
    "df_recommender['performer'] = df_recommender['performer'].astype(str).str.strip()\n",
    "df_recommender['genre'] = df_recommender['genre'].astype(str).str.strip()\n",
    "df_recommender['screenwriter'] = df_recommender['screenwriter'].astype(str).str.strip()\n",
    "\n",
    "# Define the weight parameters for each type of metadata\n",
    "weight_params = {\n",
    "    'director': 0.2,\n",
    "    'performer': 0.3,\n",
    "    'genre': 0.25,\n",
    "    'screenwriter': 0.15,\n",
    "    'node label': 0.1,\n",
    "}\n",
    "\n",
    "# Create a unique mapping for each metadata attribute\n",
    "all_items = pd.unique(df_recommender[['subject_id', 'node label', 'director', 'performer', 'genre', 'screenwriter']].values.ravel())\n",
    "item_to_index = {item: idx for idx, item in enumerate(all_items)}\n",
    "index_to_item = {idx: item for item, idx in item_to_index.items()}\n",
    "\n",
    "# Construct a weighted interaction matrix\n",
    "rows, cols, data = [], [], []\n",
    "\n",
    "for _, row in df_recommender.iterrows():\n",
    "    subject_id_idx = item_to_index[row['subject_id']]\n",
    "    for field, weight in weight_params.items():\n",
    "        for item in row[field].split(','):\n",
    "            item = item.strip()\n",
    "            if item in item_to_index:\n",
    "                item_idx = item_to_index[item]\n",
    "                rows.append(subject_id_idx)\n",
    "                cols.append(item_idx)\n",
    "                data.append(weight)\n",
    "\n",
    "# Build the sparse interaction matrix\n",
    "interaction_matrix = csr_matrix((data, (rows, cols)), shape=(len(all_items), len(all_items)))\n",
    "\n",
    "# Normalize the interaction matrix\n",
    "interaction_matrix = normalize(interaction_matrix, norm='l1', axis=1)\n",
    "\n",
    "# Implement the RP3β algorithm with β parameter (assume β = 0.85)\n",
    "beta = 0.85\n",
    "num_items = interaction_matrix.shape[0]\n",
    "\n",
    "# Personalized PageRank with Restart\n",
    "def rp3beta_recommendations(interaction_matrix, item_idx, beta=0.85, top_k=10):\n",
    "    scores = np.zeros(num_items)\n",
    "    scores[item_idx] = 1\n",
    "    for _ in range(20):  # Run for a fixed number of iterations or until convergence\n",
    "        scores = beta * interaction_matrix.T.dot(scores) + (1 - beta) * scores\n",
    "    top_recommended_idx = np.argsort(scores)[::-1][:top_k]\n",
    "    return [(index_to_item[idx], scores[idx]) for idx in top_recommended_idx if idx != item_idx]\n",
    "\n",
    "# Example usage\n",
    "example_item = \"Avatar\"  # Replace with actual item you want recommendations for\n",
    "if example_item in item_to_index:\n",
    "    item_idx = item_to_index[example_item]\n",
    "    recommendations = rp3beta_recommendations(interaction_matrix, item_idx)\n",
    "    print(\"Top recommendations:\")\n",
    "    for rec, score in recommendations:\n",
    "        print(f\"Item: {rec}, Score: {score}\")\n",
    "else:\n",
    "    print(\"Item not found in index.\")\n"
   ],
   "id": "dffa5835f93fd71d",
   "outputs": [
    {
     "name": "stdout",
     "output_type": "stream",
     "text": [
      "Top recommendations:\n",
      "Item: First Daughter, Score: 0.0\n",
      "Item: http://www.wikidata.org/entity/Q997850, Score: 0.0\n",
      "Item: tia lessin,carl deal, Score: 0.0\n",
      "Item: Trouble the Water, Score: 0.0\n",
      "Item: spike lee, Score: 0.0\n",
      "Item: romantic comedy,crime film,fantasy film, Score: 0.0\n",
      "Item: http://www.wikidata.org/entity/Q1001777, Score: 0.0\n",
      "Item: Moondram Pirai, Score: 0.0\n",
      "Item: http://www.wikidata.org/entity/Q997694, Score: 0.0\n"
     ]
    }
   ],
   "execution_count": 11
  },
  {
   "metadata": {},
   "cell_type": "code",
   "outputs": [],
   "execution_count": null,
   "source": "",
   "id": "ee01e4327022862a"
  }
 ],
 "metadata": {
  "kernelspec": {
   "display_name": "Python 3",
   "language": "python",
   "name": "python3"
  },
  "language_info": {
   "codemirror_mode": {
    "name": "ipython",
    "version": 2
   },
   "file_extension": ".py",
   "mimetype": "text/x-python",
   "name": "python",
   "nbconvert_exporter": "python",
   "pygments_lexer": "ipython2",
   "version": "2.7.6"
  }
 },
 "nbformat": 4,
 "nbformat_minor": 5
}
