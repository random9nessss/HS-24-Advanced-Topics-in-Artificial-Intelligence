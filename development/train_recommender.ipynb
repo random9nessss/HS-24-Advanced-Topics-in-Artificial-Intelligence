{
 "cells": [
  {
   "cell_type": "code",
   "id": "initial_id",
   "metadata": {
    "collapsed": true,
    "ExecuteTime": {
     "end_time": "2024-11-04T14:15:30.928942Z",
     "start_time": "2024-11-04T14:15:30.924977Z"
    }
   },
   "source": [
    "import os\n",
    "import pandas as pd\n"
   ],
   "outputs": [],
   "execution_count": 12
  },
  {
   "metadata": {
    "ExecuteTime": {
     "end_time": "2024-11-04T14:15:43.629950Z",
     "start_time": "2024-11-04T14:15:43.581841Z"
    }
   },
   "cell_type": "code",
   "source": [
    "df_recommender_path = os.path.join(\"exports/df_recommender.pkl\")\n",
    "df_recommender = pd.read_pickle(df_recommender_path)\n",
    "df_recommender['subject_id'] = df_recommender['subject_id'].astype(str).str.strip()\n",
    "df_recommender['node label'] = df_recommender['node label'].astype(str).str.strip()\n",
    "df_recommender['director'] = df_recommender['director'].astype(str).str.strip()\n",
    "df_recommender['performer'] = df_recommender['performer'].astype(str).str.strip()\n",
    "df_recommender['genre'] = df_recommender['genre'].astype(str).str.strip()\n",
    "df_recommender['screenwriter'] = df_recommender['screenwriter'].astype(str).str.strip()\n"
   ],
   "id": "711dfba1dbc44889",
   "outputs": [],
   "execution_count": 14
  },
  {
   "metadata": {
    "ExecuteTime": {
     "end_time": "2024-11-04T14:15:45.117837Z",
     "start_time": "2024-11-04T14:15:45.108584Z"
    }
   },
   "cell_type": "code",
   "source": [
    "print(df_recommender.head())\n",
    "print(len(df_recommender))"
   ],
   "id": "13ca5b9af7630892",
   "outputs": [
    {
     "name": "stdout",
     "output_type": "stream",
     "text": [
      "predicate_label                               subject_id  \\\n",
      "0                http://www.wikidata.org/entity/Q1000825   \n",
      "1                http://www.wikidata.org/entity/Q1000826   \n",
      "2                http://www.wikidata.org/entity/Q1001759   \n",
      "3                http://www.wikidata.org/entity/Q1001777   \n",
      "4                http://www.wikidata.org/entity/Q1001943   \n",
      "\n",
      "predicate_label                                        cast member  \\\n",
      "0                wd:Q16305292,pimprapa tangprabhaporn,santisuk ...   \n",
      "1                wende wagner,fernando rey,frank silvera,michae...   \n",
      "2                billy chow,shinobu nakayama,toshimichi takahas...   \n",
      "3                silk smitha,poornam vishwanathan,sridevi,kamal...   \n",
      "4                burt lancaster,pat mccormick,denver pyle,geral...   \n",
      "\n",
      "predicate_label                  director performer  \\\n",
      "0                         nonzee nimibutr       nan   \n",
      "1                            paul wendkos       nan   \n",
      "2                gordon chan,yuen wooping       nan   \n",
      "3                           balu mahendra       nan   \n",
      "4                           robert altman       nan   \n",
      "\n",
      "predicate_label                                 genre  \\\n",
      "0                                    lgbtrelated film   \n",
      "1                                        western film   \n",
      "2                       action film,martial arts film   \n",
      "3                                        romance film   \n",
      "4                parody film,comedy film,western film   \n",
      "\n",
      "predicate_label                       screenwriter  \\\n",
      "0                pramool unhathoop,nonzee nimibutr   \n",
      "1                                              nan   \n",
      "2                                      gordon chan   \n",
      "3                                    balu mahendra   \n",
      "4                       alan rudolph,robert altman   \n",
      "\n",
      "predicate_label                                         node label  \n",
      "0                                                         Jan Dara  \n",
      "1                                    Guns of the Magnificent Seven  \n",
      "2                                                   Fist of Legend  \n",
      "3                                                   Moondram Pirai  \n",
      "4                Buffalo Bill and the Indians, or Sitting Bull'...  \n",
      "26869\n"
     ]
    }
   ],
   "execution_count": 15
  }
 ],
 "metadata": {
  "kernelspec": {
   "display_name": "Python 3",
   "language": "python",
   "name": "python3"
  },
  "language_info": {
   "codemirror_mode": {
    "name": "ipython",
    "version": 2
   },
   "file_extension": ".py",
   "mimetype": "text/x-python",
   "name": "python",
   "nbconvert_exporter": "python",
   "pygments_lexer": "ipython2",
   "version": "2.7.6"
  }
 },
 "nbformat": 4,
 "nbformat_minor": 5
}
