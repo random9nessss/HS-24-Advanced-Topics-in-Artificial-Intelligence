{
 "cells": [
  {
   "metadata": {
    "ExecuteTime": {
     "end_time": "2024-11-13T12:20:40.164240Z",
     "start_time": "2024-11-13T12:20:39.863883Z"
    }
   },
   "cell_type": "code",
   "source": [
    "import pandas as pd\n",
    "import json\n",
    "\n",
    "db = pd.read_pickle(\"exports/extended_graph_triples.pkl\")"
   ],
   "id": "f990755a79f610dc",
   "outputs": [],
   "execution_count": 59
  },
  {
   "metadata": {
    "ExecuteTime": {
     "end_time": "2024-11-13T12:43:22.575898Z",
     "start_time": "2024-11-13T12:43:22.518777Z"
    }
   },
   "cell_type": "code",
   "source": [
    "relevant_predicates = [\"director\", \n",
    "                       \"performer\",\n",
    "                       \"genre\",\n",
    "                       \"screenwriter\",\n",
    "                       \"cast member\",\n",
    "                       \"publication date\",\n",
    "                       \"narrative location\"]\n",
    "\n",
    "db_filtered = db[db.predicate_label.isin(relevant_predicates)]"
   ],
   "id": "321229bc7d7732dc",
   "outputs": [],
   "execution_count": 116
  },
  {
   "metadata": {
    "ExecuteTime": {
     "end_time": "2024-11-13T12:23:17.581484Z",
     "start_time": "2024-11-13T12:23:17.566408Z"
    }
   },
   "cell_type": "code",
   "source": [
    "with open(r'exports/movie_db.json') as f:\n",
    "    movie_data = json.load(f)\n",
    "    movie_values = set(movie_data.values())"
   ],
   "id": "bda8b7bde1fd66b3",
   "outputs": [],
   "execution_count": 64
  },
  {
   "metadata": {
    "ExecuteTime": {
     "end_time": "2024-11-13T12:32:49.546521Z",
     "start_time": "2024-11-13T12:32:49.526022Z"
    }
   },
   "cell_type": "code",
   "source": "df[df.subject_label == \"the lion king\"]",
   "id": "526fcb73d0707042",
   "outputs": [
    {
     "data": {
      "text/plain": [
       "                                       subject_id  subject_label  \\\n",
       "193614     http://www.wikidata.org/entity/Q134138  the lion king   \n",
       "721412   http://www.wikidata.org/entity/Q27044293  the lion king   \n",
       "721421   http://www.wikidata.org/entity/Q27044293  the lion king   \n",
       "721441   http://www.wikidata.org/entity/Q27044293  the lion king   \n",
       "721443   http://www.wikidata.org/entity/Q27044293  the lion king   \n",
       "1010124     http://www.wikidata.org/entity/Q36479  the lion king   \n",
       "1010138     http://www.wikidata.org/entity/Q36479  the lion king   \n",
       "1010155     http://www.wikidata.org/entity/Q36479  the lion king   \n",
       "1010159     http://www.wikidata.org/entity/Q36479  the lion king   \n",
       "1010162     http://www.wikidata.org/entity/Q36479  the lion king   \n",
       "1436857  http://www.wikidata.org/entity/Q65428547  the lion king   \n",
       "1436862  http://www.wikidata.org/entity/Q65428547  the lion king   \n",
       "1436863  http://www.wikidata.org/entity/Q65428547  the lion king   \n",
       "\n",
       "          predicate_label                                       object_label  \n",
       "193614   publication date                                         1994-12-08  \n",
       "721412           director                                        jon favreau  \n",
       "721421              genre  comedy film,computeranimated film,family film,...  \n",
       "721441   publication date                                         2019-07-17  \n",
       "721443       screenwriter                                     jeff nathanson  \n",
       "1010124          director                           roger allers,rob minkoff  \n",
       "1010138             genre  drama,childrens film,traditionally animated fi...  \n",
       "1010155         performer                                         elton john  \n",
       "1010159  publication date                                         1994-06-15  \n",
       "1010162      screenwriter     jonathan roberts,irene mecchi,linda woolverton  \n",
       "1436857             genre                                         film score  \n",
       "1436862         performer                                        hans zimmer  \n",
       "1436863  publication date                                         2019-01-01  "
      ],
      "text/html": [
       "<div>\n",
       "<style scoped>\n",
       "    .dataframe tbody tr th:only-of-type {\n",
       "        vertical-align: middle;\n",
       "    }\n",
       "\n",
       "    .dataframe tbody tr th {\n",
       "        vertical-align: top;\n",
       "    }\n",
       "\n",
       "    .dataframe thead th {\n",
       "        text-align: right;\n",
       "    }\n",
       "</style>\n",
       "<table border=\"1\" class=\"dataframe\">\n",
       "  <thead>\n",
       "    <tr style=\"text-align: right;\">\n",
       "      <th></th>\n",
       "      <th>subject_id</th>\n",
       "      <th>subject_label</th>\n",
       "      <th>predicate_label</th>\n",
       "      <th>object_label</th>\n",
       "    </tr>\n",
       "  </thead>\n",
       "  <tbody>\n",
       "    <tr>\n",
       "      <th>193614</th>\n",
       "      <td>http://www.wikidata.org/entity/Q134138</td>\n",
       "      <td>the lion king</td>\n",
       "      <td>publication date</td>\n",
       "      <td>1994-12-08</td>\n",
       "    </tr>\n",
       "    <tr>\n",
       "      <th>721412</th>\n",
       "      <td>http://www.wikidata.org/entity/Q27044293</td>\n",
       "      <td>the lion king</td>\n",
       "      <td>director</td>\n",
       "      <td>jon favreau</td>\n",
       "    </tr>\n",
       "    <tr>\n",
       "      <th>721421</th>\n",
       "      <td>http://www.wikidata.org/entity/Q27044293</td>\n",
       "      <td>the lion king</td>\n",
       "      <td>genre</td>\n",
       "      <td>comedy film,computeranimated film,family film,...</td>\n",
       "    </tr>\n",
       "    <tr>\n",
       "      <th>721441</th>\n",
       "      <td>http://www.wikidata.org/entity/Q27044293</td>\n",
       "      <td>the lion king</td>\n",
       "      <td>publication date</td>\n",
       "      <td>2019-07-17</td>\n",
       "    </tr>\n",
       "    <tr>\n",
       "      <th>721443</th>\n",
       "      <td>http://www.wikidata.org/entity/Q27044293</td>\n",
       "      <td>the lion king</td>\n",
       "      <td>screenwriter</td>\n",
       "      <td>jeff nathanson</td>\n",
       "    </tr>\n",
       "    <tr>\n",
       "      <th>1010124</th>\n",
       "      <td>http://www.wikidata.org/entity/Q36479</td>\n",
       "      <td>the lion king</td>\n",
       "      <td>director</td>\n",
       "      <td>roger allers,rob minkoff</td>\n",
       "    </tr>\n",
       "    <tr>\n",
       "      <th>1010138</th>\n",
       "      <td>http://www.wikidata.org/entity/Q36479</td>\n",
       "      <td>the lion king</td>\n",
       "      <td>genre</td>\n",
       "      <td>drama,childrens film,traditionally animated fi...</td>\n",
       "    </tr>\n",
       "    <tr>\n",
       "      <th>1010155</th>\n",
       "      <td>http://www.wikidata.org/entity/Q36479</td>\n",
       "      <td>the lion king</td>\n",
       "      <td>performer</td>\n",
       "      <td>elton john</td>\n",
       "    </tr>\n",
       "    <tr>\n",
       "      <th>1010159</th>\n",
       "      <td>http://www.wikidata.org/entity/Q36479</td>\n",
       "      <td>the lion king</td>\n",
       "      <td>publication date</td>\n",
       "      <td>1994-06-15</td>\n",
       "    </tr>\n",
       "    <tr>\n",
       "      <th>1010162</th>\n",
       "      <td>http://www.wikidata.org/entity/Q36479</td>\n",
       "      <td>the lion king</td>\n",
       "      <td>screenwriter</td>\n",
       "      <td>jonathan roberts,irene mecchi,linda woolverton</td>\n",
       "    </tr>\n",
       "    <tr>\n",
       "      <th>1436857</th>\n",
       "      <td>http://www.wikidata.org/entity/Q65428547</td>\n",
       "      <td>the lion king</td>\n",
       "      <td>genre</td>\n",
       "      <td>film score</td>\n",
       "    </tr>\n",
       "    <tr>\n",
       "      <th>1436862</th>\n",
       "      <td>http://www.wikidata.org/entity/Q65428547</td>\n",
       "      <td>the lion king</td>\n",
       "      <td>performer</td>\n",
       "      <td>hans zimmer</td>\n",
       "    </tr>\n",
       "    <tr>\n",
       "      <th>1436863</th>\n",
       "      <td>http://www.wikidata.org/entity/Q65428547</td>\n",
       "      <td>the lion king</td>\n",
       "      <td>publication date</td>\n",
       "      <td>2019-01-01</td>\n",
       "    </tr>\n",
       "  </tbody>\n",
       "</table>\n",
       "</div>"
      ]
     },
     "execution_count": 97,
     "metadata": {},
     "output_type": "execute_result"
    }
   ],
   "execution_count": 97
  },
  {
   "metadata": {
    "ExecuteTime": {
     "end_time": "2024-11-13T12:54:46.268379Z",
     "start_time": "2024-11-13T12:43:29.581121Z"
    }
   },
   "cell_type": "code",
   "source": [
    "import networkx as nx\n",
    "from tqdm.notebook import tqdm \n",
    "\n",
    "G = nx.Graph()\n",
    "\n",
    "df = db_filtered.copy()\n",
    "\n",
    "for label in tqdm(df['predicate_label'].unique(), desc=\"Processing predicate labels\"):\n",
    "    label_df = df[df['predicate_label'] == label]\n",
    "    \n",
    "    for value in tqdm(label_df['object_label'].unique(), desc=f\"Processing object labels for {label}\", leave=False):\n",
    "        \n",
    "        movies_with_value = label_df[label_df['object_label'] == value]['subject_label'].unique()\n",
    "        \n",
    "        if value not in G:\n",
    "            G.add_node(value, type='object_label', label=label)\n",
    "        \n",
    "        for movie in movies_with_value:\n",
    "            if movie not in G:\n",
    "                G.add_node(movie, type='movie')\n",
    "            if not G.has_edge(movie, value):\n",
    "                G.add_edge(movie, value, weight=1)\n",
    "            else:\n",
    "                G[movie][value]['weight'] += 1\n"
   ],
   "id": "595eddd074be1e",
   "outputs": [
    {
     "data": {
      "text/plain": [
       "Processing predicate labels:   0%|          | 0/7 [00:00<?, ?it/s]"
      ],
      "application/vnd.jupyter.widget-view+json": {
       "version_major": 2,
       "version_minor": 0,
       "model_id": "75d6102697a04c9e975ce78cd2ba687c"
      }
     },
     "metadata": {},
     "output_type": "display_data"
    },
    {
     "data": {
      "text/plain": [
       "Processing object labels for narrative location:   0%|          | 0/3897 [00:00<?, ?it/s]"
      ],
      "application/vnd.jupyter.widget-view+json": {
       "version_major": 2,
       "version_minor": 0,
       "model_id": "0f392821d4cf4a9194ca7e134805dc4c"
      }
     },
     "metadata": {},
     "output_type": "display_data"
    },
    {
     "data": {
      "text/plain": [
       "Processing object labels for cast member:   0%|          | 0/74423 [00:00<?, ?it/s]"
      ],
      "application/vnd.jupyter.widget-view+json": {
       "version_major": 2,
       "version_minor": 0,
       "model_id": "3dc752d331de4a11b206e0d7030afd09"
      }
     },
     "metadata": {},
     "output_type": "display_data"
    },
    {
     "data": {
      "text/plain": [
       "Processing object labels for performer:   0%|          | 0/8256 [00:00<?, ?it/s]"
      ],
      "application/vnd.jupyter.widget-view+json": {
       "version_major": 2,
       "version_minor": 0,
       "model_id": "e7209c5d25974f4d9a8ab41703b457e3"
      }
     },
     "metadata": {},
     "output_type": "display_data"
    },
    {
     "data": {
      "text/plain": [
       "Processing object labels for director:   0%|          | 0/21670 [00:00<?, ?it/s]"
      ],
      "application/vnd.jupyter.widget-view+json": {
       "version_major": 2,
       "version_minor": 0,
       "model_id": "e70cba4940164b24a4f21b5bf5a8538a"
      }
     },
     "metadata": {},
     "output_type": "display_data"
    },
    {
     "data": {
      "text/plain": [
       "Processing object labels for genre:   0%|          | 0/9485 [00:00<?, ?it/s]"
      ],
      "application/vnd.jupyter.widget-view+json": {
       "version_major": 2,
       "version_minor": 0,
       "model_id": "530887fb37ed452aa3856504e4a0faae"
      }
     },
     "metadata": {},
     "output_type": "display_data"
    },
    {
     "data": {
      "text/plain": [
       "Processing object labels for publication date:   0%|          | 0/6578 [00:00<?, ?it/s]"
      ],
      "application/vnd.jupyter.widget-view+json": {
       "version_major": 2,
       "version_minor": 0,
       "model_id": "05154ee6b2af407d8b3bbae855d14854"
      }
     },
     "metadata": {},
     "output_type": "display_data"
    },
    {
     "data": {
      "text/plain": [
       "Processing object labels for screenwriter:   0%|          | 0/26685 [00:00<?, ?it/s]"
      ],
      "application/vnd.jupyter.widget-view+json": {
       "version_major": 2,
       "version_minor": 0,
       "model_id": "fc88e128cf934689a4a347400c2ea332"
      }
     },
     "metadata": {},
     "output_type": "display_data"
    }
   ],
   "execution_count": 117
  },
  {
   "metadata": {
    "ExecuteTime": {
     "end_time": "2024-11-13T13:42:06.448508Z",
     "start_time": "2024-11-13T13:42:06.443580Z"
    }
   },
   "cell_type": "code",
   "source": [
    "import random\n",
    "from collections import Counter\n",
    "\n",
    "def rp_beta_recommendations_unweighted(movie, G, movie_list, num_walks=50, walk_length_range=(3,6), beta_range=(0.1, 0.2), top_n=100):\n",
    "    \"\"\"\n",
    "    Generate recommendations using unweighted RP-beta 3.\n",
    "    \n",
    "    Parameters:\n",
    "        - movie: The starting node (e.g., \"Hans Zimmer\") for the random walk.\n",
    "        - G: The graph with movies and object labels.\n",
    "        - num_walks: Number of random walks to perform.\n",
    "        - walk_length: Length of each walk.\n",
    "        - beta: Probability of returning to the starting node at each step.\n",
    "        - top_n: Number of recommendations to return.\n",
    "    \n",
    "    Returns:\n",
    "        - A list of recommended movies based on unweighted RP-beta 3.\n",
    "    \"\"\"\n",
    "    all_walks = []\n",
    "    \n",
    "    for _ in range(num_walks):\n",
    "        walk = [movie]\n",
    "        current_node = movie\n",
    "        walk_length = random.randint(*walk_length_range)\n",
    "        beta = random.uniform(*beta_range)\n",
    "        \n",
    "        for _ in range(walk_length - 1):\n",
    "            if random.random() < beta:\n",
    "                current_node = movie\n",
    "            else:\n",
    "                neighbors = list(G.neighbors(current_node))\n",
    "                if not neighbors:\n",
    "                    break\n",
    "                next_node = random.choice(neighbors)\n",
    "                \n",
    "                walk.append(next_node)\n",
    "                current_node = next_node\n",
    "        \n",
    "        all_walks.extend(walk)\n",
    "    \n",
    "    movie_counts = Counter(all_walks)\n",
    "    del movie_counts[movie]\n",
    "    \n",
    "    recommendations = [movie for movie, count in movie_counts.most_common(top_n) if movie in movie_list]\n",
    "    return recommendations\n",
    "\n",
    "recommendations = rp_beta_recommendations_unweighted(\"the lion king\", G, movie_values)\n",
    "print(\"Top recommendations:\\n\", recommendations)\n"
   ],
   "id": "ea2704f8a1a45605",
   "outputs": [
    {
     "name": "stdout",
     "output_type": "stream",
     "text": [
      "Top recommendations:\n",
      " ['jungle', 'the little prince', 'speed 2 cruise control', 'paradise beach', 'the last samurai', 'crypto', 'jexi', 'sherlock holmes', 'rush hour 3', 'maronas fantastic tale', 'pinocchio', 'aladin', 'this is not berlin']\n"
     ]
    }
   ],
   "execution_count": 311
  },
  {
   "metadata": {
    "ExecuteTime": {
     "end_time": "2024-11-13T13:42:09.578740Z",
     "start_time": "2024-11-13T13:42:09.574511Z"
    }
   },
   "cell_type": "code",
   "source": [
    "def order_by_edge_weight(recommendations, start_movie, G):\n",
    "    weighted_scores = {}\n",
    "    \n",
    "    for rec in recommendations:\n",
    "        score = sum(\n",
    "            G[start_movie][neighbor]['weight'] * G[rec][neighbor]['weight']\n",
    "            for neighbor in set(G.neighbors(start_movie)).intersection(G.neighbors(rec))\n",
    "            if G.has_edge(start_movie, neighbor) and G.has_edge(rec, neighbor)\n",
    "        )\n",
    "        weighted_scores[rec] = score\n",
    "    \n",
    "    ordered_recommendations = sorted(weighted_scores, key=weighted_scores.get, reverse=True)\n",
    "    return ordered_recommendations\n",
    "\n",
    "ordered_recommendations = order_by_edge_weight(recommendations, \"the lion king\", G)\n",
    "print(\"Recommendations ordered by edge weight:\\n\", ordered_recommendations)"
   ],
   "id": "8802e79646cc9302",
   "outputs": [
    {
     "name": "stdout",
     "output_type": "stream",
     "text": [
      "Recommendations ordered by edge weight:\n",
      " ['sherlock holmes', 'the little prince', 'speed 2 cruise control', 'paradise beach', 'the last samurai', 'crypto', 'jexi', 'rush hour 3', 'maronas fantastic tale', 'pinocchio', 'this is not berlin', 'jungle', 'aladin']\n"
     ]
    }
   ],
   "execution_count": 312
  },
  {
   "metadata": {
    "ExecuteTime": {
     "end_time": "2024-11-13T13:47:36.711245Z",
     "start_time": "2024-11-13T13:47:36.708307Z"
    }
   },
   "cell_type": "code",
   "source": [
    "recommendations_one = rp_beta_recommendations_unweighted(\"a nightmare on elm street\", G, movie_values)\n",
    "print(\"Top recommendations:\\n\", recommendations_one)"
   ],
   "id": "2e9671740ff6fc66",
   "outputs": [
    {
     "name": "stdout",
     "output_type": "stream",
     "text": [
      "Top recommendations:\n",
      " ['truth or dare', 'juanita', 'the texas chainsaw massacre', 'angel', 'boogeyman 3', 'kit kittredge an american girl', 'ive heard the mermaids singing', 'slashers', 'tokyo', 'godzilla vs megaguirus', 'a wet dream on elm street', 'the bostonians', 'scarecrow slayer', 'enders game', 'gorko', 'dead in 3 days', 'longhorns', 'shocker', 'leatherface the texas chainsaw massacre iii', 'psycho iii', 'the pirate', 'halloween the curse of michael myers', 'the last horror film', 'battleship', 'the texas chainsaw massacre the beginning']\n"
     ]
    }
   ],
   "execution_count": 330
  },
  {
   "metadata": {
    "ExecuteTime": {
     "end_time": "2024-11-13T13:47:26.904424Z",
     "start_time": "2024-11-13T13:47:26.901328Z"
    }
   },
   "cell_type": "code",
   "source": [
    "recommendations_two = rp_beta_recommendations_unweighted(\"friday the 13th\", G, movie_values)\n",
    "print(\"Top recommendations:\\n\", recommendations_two)"
   ],
   "id": "4a7855d7dc62c365",
   "outputs": [
    {
     "name": "stdout",
     "output_type": "stream",
     "text": [
      "Top recommendations:\n",
      " ['crystal lake memories the complete history of friday the 13th', 'friday the 13th the final chapter', 'mortal thoughts', 'terror train', 'gardener of eden', 'london river', 'white material', 'frequently asked questions about time travel', 'cop land', 'the hills run red', 'satisfaction', 'mystery team', 'mutants']\n"
     ]
    }
   ],
   "execution_count": 328
  },
  {
   "metadata": {
    "ExecuteTime": {
     "end_time": "2024-11-13T13:47:31.718013Z",
     "start_time": "2024-11-13T13:47:31.715938Z"
    }
   },
   "cell_type": "code",
   "source": [
    "recommendations_three = rp_beta_recommendations_unweighted(\"halloween\", G, movie_values)\n",
    "print(\"Top recommendations:\\n\", recommendations_three)"
   ],
   "id": "a0611f8a5d147744",
   "outputs": [
    {
     "name": "stdout",
     "output_type": "stream",
     "text": [
      "Top recommendations:\n",
      " ['halloween 5 the revenge of michael myers', 'halloween ii', 'can you ever forgive me', 'our brand is crisis', 'wildlife', 'salvage', 'mid90s', 'the mule', 'left for dead', 'candyman farewell to the flesh', 'drowning ghost', 'when i grow up ill be a kangaroo', 'the last gang', 'lucas', 'george washington', 'nh10', 'dead mary', 'life in a metro', 'macabre', 'undertow', 'cheaper by the dozen']\n"
     ]
    }
   ],
   "execution_count": 329
  },
  {
   "metadata": {},
   "cell_type": "code",
   "outputs": [],
   "execution_count": null,
   "source": "",
   "id": "7ac4e33322212869"
  },
  {
   "metadata": {},
   "cell_type": "code",
   "outputs": [],
   "execution_count": null,
   "source": "",
   "id": "d346b81267b8080d"
  },
  {
   "metadata": {},
   "cell_type": "code",
   "outputs": [],
   "execution_count": null,
   "source": "",
   "id": "96407c33a1dcc3ea"
  },
  {
   "metadata": {
    "ExecuteTime": {
     "end_time": "2024-11-13T13:38:05.354230Z",
     "start_time": "2024-11-13T13:38:05.350416Z"
    }
   },
   "cell_type": "code",
   "source": [
    "def normalize_string(s):\n",
    "    \"\"\"Normalizes strings by removing non-ASCII characters, punctuation, and selected stopwords.\"\"\"\n",
    "    return ' '.join(re.sub(r'[^\\w\\s]', '', unicodedata.normalize('NFKD', s.lower())\n",
    "                                 .encode('ascii', 'ignore').decode('utf-8')).split())\n",
    "    "
   ],
   "id": "e3b8514e14076b1",
   "outputs": [],
   "execution_count": 283
  },
  {
   "metadata": {
    "ExecuteTime": {
     "end_time": "2024-11-13T13:38:05.852562Z",
     "start_time": "2024-11-13T13:38:05.847413Z"
    }
   },
   "cell_type": "code",
   "source": [
    "import logging\n",
    "import unicodedata\n",
    "import re\n",
    "\n",
    "def fuzzy_match(query_str, comparison_list):\n",
    "    normalized_query = normalize_string(query_str)    \n",
    "    entities = {**movie_data, **people_data}\n",
    "    name_to_id = {v: k for k, v in entities.items()}\n",
    "\n",
    "    longest_full_match = \"\"\n",
    "    longest_full_length = 0\n",
    "    longest_prefix_match = \"\"\n",
    "    longest_prefix_length = 0\n",
    "    longest_suffix_match = \"\"\n",
    "    longest_suffix_length = 0\n",
    "\n",
    "    full_matches = []\n",
    "    prefix_matches = []\n",
    "    suffix_matches = []\n",
    "                \n",
    "    for subject in comparison_list:\n",
    "        if \"porn\" in subject:\n",
    "            continue\n",
    "        \n",
    "        subject_tokens = normalize_string(subject).split()\n",
    "        normalized_subject = normalize_string(subject)\n",
    "        \n",
    "        # Check for full match within the query\n",
    "        if normalized_subject in normalized_query:\n",
    "            full_matches.append((subject, len(subject)))\n",
    "            if len(subject) > longest_full_length:\n",
    "                longest_full_match = subject\n",
    "                longest_full_length = len(subject)\n",
    "\n",
    "        # Check for prefix match\n",
    "        for i in range(len(normalized_subject), 0, -1):\n",
    "            if normalized_subject[:i] == normalized_query[:i] and len(normalized_subject) > len(normalized_query):\n",
    "                prefix_matches.append((subject, i))\n",
    "                if i > longest_prefix_length:\n",
    "                    longest_prefix_match = subject\n",
    "                    longest_prefix_length = i\n",
    "                break\n",
    "        \n",
    "        # Check for suffix match\n",
    "        for i in range(len(subject_tokens), 0, -1):\n",
    "            suffix_sequence = \" \".join(subject_tokens[-i:])\n",
    "            if suffix_sequence in normalized_query:\n",
    "                suffix_matches.append((subject, len(suffix_sequence)))\n",
    "                if len(suffix_sequence) > longest_suffix_length:\n",
    "                    longest_suffix_match = subject\n",
    "                    longest_suffix_length = len(suffix_sequence)\n",
    "                break\n",
    "        \n",
    "    top_full_matches = sorted(full_matches, key=lambda x: x[1], reverse=True)[:5]\n",
    "    top_prefix_matches = sorted(prefix_matches, key=lambda x: x[1], reverse=True)[:5]\n",
    "    top_suffix_matches = sorted(suffix_matches, key=lambda x: x[1], reverse=True)[:5]\n",
    "    \n",
    "    if top_full_matches:\n",
    "        print(\"Top FULL matches:\")\n",
    "        for match in set(top_full_matches):\n",
    "            print(f\"Match: {match[0]}, Length: {match[1]}\")\n",
    "            \n",
    "    elif top_prefix_matches:\n",
    "        print(\"Top PREFIX matches:\")\n",
    "        for match in set(top_prefix_matches):\n",
    "            print(f\"Match: {match[0]}, Length: {match[1]}\")\n",
    "    \n",
    "    elif top_suffix_matches:\n",
    "        print(\"Top SUFFIX matches:\")\n",
    "        for match in set(top_suffix_matches):\n",
    "            print(f\"Match: {match[0]}, Length: {match[1]}\")    \n",
    "    "
   ],
   "id": "cd840643fc48e12d",
   "outputs": [],
   "execution_count": 284
  },
  {
   "metadata": {
    "ExecuteTime": {
     "end_time": "2024-11-13T13:38:06.458826Z",
     "start_time": "2024-11-13T13:38:06.456670Z"
    }
   },
   "cell_type": "code",
   "source": "example_query = \"Recommend movies like Nightmare on Elm Street, Friday the 13th, and Halloween.\"",
   "id": "7e975ec6d109c36c",
   "outputs": [],
   "execution_count": 285
  },
  {
   "metadata": {
    "ExecuteTime": {
     "end_time": "2024-11-13T13:38:07.065603Z",
     "start_time": "2024-11-13T13:38:07.004311Z"
    }
   },
   "cell_type": "code",
   "source": [
    "with open(r'exports/movie_db.json') as f:\n",
    "    movie_data = json.load(f)\n",
    "    movie_ids = set(movie_data.keys())\n",
    "movie_db = pd.DataFrame(list(movie_data.items()), columns=[\"entity_id\", \"entity_label\"])\n",
    "\n",
    "with open(r'exports/people_db.json') as f:\n",
    "    people_data = json.load(f)\n",
    "    people_ids = set(people_data.keys())\n",
    "people_db = pd.DataFrame(list(people_data.items()), columns=[\"entity_id\", \"entity_label\"])"
   ],
   "id": "952ddbfca112e9c9",
   "outputs": [],
   "execution_count": 286
  },
  {
   "metadata": {
    "ExecuteTime": {
     "end_time": "2024-11-13T13:38:08.131628Z",
     "start_time": "2024-11-13T13:38:07.665723Z"
    }
   },
   "cell_type": "code",
   "source": [
    "fuzzy_match(example_query, movie_db.entity_label.tolist())\n",
    "fuzzy_match(example_query, people_db.entity_label.tolist())"
   ],
   "id": "2d0444e62d3901d2",
   "outputs": [
    {
     "name": "stdout",
     "output_type": "stream",
     "text": [
      "Top FULL matches:\n",
      "Match: friday the 13th, Length: 15\n",
      "Match: halloween, Length: 9\n",
      "Top FULL matches:\n",
      "Match: , Length: 0\n"
     ]
    }
   ],
   "execution_count": 287
  },
  {
   "metadata": {
    "ExecuteTime": {
     "end_time": "2024-11-13T13:38:09.693373Z",
     "start_time": "2024-11-13T13:38:09.681984Z"
    }
   },
   "cell_type": "code",
   "source": "movie_db[movie_db.entity_label.str.endswith(\"elm street\")]",
   "id": "5d620c5879f4bb82",
   "outputs": [
    {
     "data": {
      "text/plain": [
       "                                     entity_id               entity_label\n",
       "19785  http://www.wikidata.org/entity/Q4660616  a wet dream on elm street\n",
       "22206   http://www.wikidata.org/entity/Q300508  a nightmare on elm street\n",
       "23875   http://www.wikidata.org/entity/Q329434  a nightmare on elm street"
      ],
      "text/html": [
       "<div>\n",
       "<style scoped>\n",
       "    .dataframe tbody tr th:only-of-type {\n",
       "        vertical-align: middle;\n",
       "    }\n",
       "\n",
       "    .dataframe tbody tr th {\n",
       "        vertical-align: top;\n",
       "    }\n",
       "\n",
       "    .dataframe thead th {\n",
       "        text-align: right;\n",
       "    }\n",
       "</style>\n",
       "<table border=\"1\" class=\"dataframe\">\n",
       "  <thead>\n",
       "    <tr style=\"text-align: right;\">\n",
       "      <th></th>\n",
       "      <th>entity_id</th>\n",
       "      <th>entity_label</th>\n",
       "    </tr>\n",
       "  </thead>\n",
       "  <tbody>\n",
       "    <tr>\n",
       "      <th>19785</th>\n",
       "      <td>http://www.wikidata.org/entity/Q4660616</td>\n",
       "      <td>a wet dream on elm street</td>\n",
       "    </tr>\n",
       "    <tr>\n",
       "      <th>22206</th>\n",
       "      <td>http://www.wikidata.org/entity/Q300508</td>\n",
       "      <td>a nightmare on elm street</td>\n",
       "    </tr>\n",
       "    <tr>\n",
       "      <th>23875</th>\n",
       "      <td>http://www.wikidata.org/entity/Q329434</td>\n",
       "      <td>a nightmare on elm street</td>\n",
       "    </tr>\n",
       "  </tbody>\n",
       "</table>\n",
       "</div>"
      ]
     },
     "execution_count": 288,
     "metadata": {},
     "output_type": "execute_result"
    }
   ],
   "execution_count": 288
  },
  {
   "metadata": {},
   "cell_type": "code",
   "outputs": [],
   "execution_count": null,
   "source": "",
   "id": "60f1b6b86ffbcd40"
  }
 ],
 "metadata": {
  "kernelspec": {
   "display_name": "Python 3",
   "language": "python",
   "name": "python3"
  },
  "language_info": {
   "codemirror_mode": {
    "name": "ipython",
    "version": 2
   },
   "file_extension": ".py",
   "mimetype": "text/x-python",
   "name": "python",
   "nbconvert_exporter": "python",
   "pygments_lexer": "ipython2",
   "version": "2.7.6"
  }
 },
 "nbformat": 4,
 "nbformat_minor": 5
}
